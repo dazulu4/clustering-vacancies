{
 "cells": [
  {
   "cell_type": "code",
   "execution_count": null,
   "metadata": {},
   "outputs": [],
   "source": [
    "#!pip install langdetect\n",
    "#!pip install pyLDAvis\n",
    "#!pip install spacy==3.0.5\n",
    "#!pip install spacy-spanish-lemmatizer==0.6\n",
    "#!spacy download es_core_news_sm\n",
    "#!python3 -m spacy_spanish_lemmatizer download wiki\n",
    "#!pip install google_trans_new"
   ]
  },
  {
   "cell_type": "code",
   "execution_count": 3,
   "metadata": {},
   "outputs": [],
   "source": [
    "import langdetect  # language detection\n",
    "import google_trans_new as gt\n",
    "import nltk  # natural language processing\n",
    "from nltk.corpus import words\n",
    "from nltk.stem.wordnet import WordNetLemmatizer\n",
    "import pyLDAvis  # plotting\n",
    "import pyLDAvis.sklearn  # plotting\n",
    "import sklearn  # machine learning\n",
    "import numpy  # arrays and matrices\n",
    "import pandas  # dataframes\n",
    "import regex  # regular expressions\n",
    "import string\n",
    "from unicodedata import normalize\n",
    "import spacy\n",
    "import spacy_spanish_lemmatizer\n",
    "from html import unescape\n",
    "from numbers import Number\n",
    "from joblib import Parallel, delayed\n",
    "from pytictoc import TicToc"
   ]
  },
  {
   "cell_type": "code",
   "execution_count": 4,
   "metadata": {},
   "outputs": [],
   "source": [
    "# added to suppress warnings coming from pyLDAvis\n",
    "import warnings\n",
    "warnings.filterwarnings('ignore')\n",
    "\n",
    "# plotting\n",
    "import matplotlib.pyplot\n",
    "%matplotlib inline\n",
    "\n",
    "# init time counter\n",
    "tictoc = TicToc()\n",
    "\n",
    "# init translator\n",
    "translator = gt.google_translator()"
   ]
  },
  {
   "cell_type": "code",
   "execution_count": 5,
   "metadata": {},
   "outputs": [
    {
     "name": "stderr",
     "output_type": "stream",
     "text": [
      "[nltk_data] Downloading package words to /home/alexander/nltk_data...\n",
      "[nltk_data]   Package words is already up-to-date!\n",
      "[nltk_data] Downloading package wordnet to\n",
      "[nltk_data]     /home/alexander/nltk_data...\n",
      "[nltk_data]   Package wordnet is already up-to-date!\n",
      "[nltk_data] Downloading package stopwords to\n",
      "[nltk_data]     /home/alexander/nltk_data...\n",
      "[nltk_data]   Package stopwords is already up-to-date!\n"
     ]
    },
    {
     "name": "stdout",
     "output_type": "stream",
     "text": [
      "Cantidad de stopwords: 608\n"
     ]
    }
   ],
   "source": [
    "# installing specific word dictionarys\n",
    "# used for stopword removal and lemmatization\n",
    "\n",
    "nltk.download(\"words\")\n",
    "nltk.download(\"wordnet\")\n",
    "nltk.download(\"stopwords\")\n",
    "\n",
    "nlp = spacy.load(\"es_core_news_sm\")\n",
    "nlp.replace_pipe(\"lemmatizer\", \"spanish_lemmatizer\")\n",
    "\n",
    "stopwords = set(pandas.read_csv(\"stopwords/stopwords.csv\").word.tolist())\n",
    "stopwords = set([i for i in stopwords if type(i) == str])\n",
    "print(f'Cantidad de stopwords: {len(stopwords)}')"
   ]
  },
  {
   "cell_type": "code",
   "execution_count": 6,
   "metadata": {},
   "outputs": [
    {
     "name": "stdout",
     "output_type": "stream",
     "text": [
      "SHAPE:\n",
      "(16114, 3)\n",
      "\n",
      "COLUMN NAMES:\n",
      "['ID', 'country', 'Document']\n",
      "\n"
     ]
    },
    {
     "data": {
      "text/html": [
       "<div>\n",
       "<style scoped>\n",
       "    .dataframe tbody tr th:only-of-type {\n",
       "        vertical-align: middle;\n",
       "    }\n",
       "\n",
       "    .dataframe tbody tr th {\n",
       "        vertical-align: top;\n",
       "    }\n",
       "\n",
       "    .dataframe thead th {\n",
       "        text-align: right;\n",
       "    }\n",
       "</style>\n",
       "<table border=\"1\" class=\"dataframe\">\n",
       "  <thead>\n",
       "    <tr style=\"text-align: right;\">\n",
       "      <th></th>\n",
       "      <th>ID</th>\n",
       "      <th>country</th>\n",
       "      <th>Document</th>\n",
       "    </tr>\n",
       "  </thead>\n",
       "  <tbody>\n",
       "    <tr>\n",
       "      <th>0</th>\n",
       "      <td>3</td>\n",
       "      <td>México</td>\n",
       "      <td>user experience   ux ui somos una empresa lide...</td>\n",
       "    </tr>\n",
       "    <tr>\n",
       "      <th>1</th>\n",
       "      <td>5</td>\n",
       "      <td>México</td>\n",
       "      <td>becarios de sistemas   miguel hidalgo te invit...</td>\n",
       "    </tr>\n",
       "    <tr>\n",
       "      <th>2</th>\n",
       "      <td>6</td>\n",
       "      <td>México</td>\n",
       "      <td>soporte y desarrollo en linux experiencia en s...</td>\n",
       "    </tr>\n",
       "    <tr>\n",
       "      <th>3</th>\n",
       "      <td>7</td>\n",
       "      <td>México</td>\n",
       "      <td>ejecutivo a de ventas   altabrisa en at&amp;t sabe...</td>\n",
       "    </tr>\n",
       "    <tr>\n",
       "      <th>4</th>\n",
       "      <td>8</td>\n",
       "      <td>México</td>\n",
       "      <td>reparacion y venta de computo   mr  fix de off...</td>\n",
       "    </tr>\n",
       "  </tbody>\n",
       "</table>\n",
       "</div>"
      ],
      "text/plain": [
       "   ID country                                           Document\n",
       "0   3  México  user experience   ux ui somos una empresa lide...\n",
       "1   5  México  becarios de sistemas   miguel hidalgo te invit...\n",
       "2   6  México  soporte y desarrollo en linux experiencia en s...\n",
       "3   7  México  ejecutivo a de ventas   altabrisa en at&t sabe...\n",
       "4   8  México  reparacion y venta de computo   mr  fix de off..."
      ]
     },
     "execution_count": 6,
     "metadata": {},
     "output_type": "execute_result"
    }
   ],
   "source": [
    "path = 'limpieza adelantada web scraping.xlsx'\n",
    "df = pandas.read_excel(path, sheet_name=\"Hoja1\")\n",
    "print(\"SHAPE:\\n{shape}\\n\".format(shape=df.shape))\n",
    "print(\"COLUMN NAMES:\\n{names}\\n\".format(names=df.columns.tolist()))\n",
    "df.head()"
   ]
  },
  {
   "cell_type": "code",
   "execution_count": 7,
   "metadata": {},
   "outputs": [
    {
     "name": "stdout",
     "output_type": "stream",
     "text": [
      "COUNTRIES:\n",
      "México                  4026\n",
      "Colombia                3189\n",
      "Chile                   2711\n",
      "Argentina               2335\n",
      "Venezuela               1418\n",
      "Perú                     941\n",
      "El Salvador              324\n",
      "Guatemala                246\n",
      "Uruguay                  221\n",
      "Nicaragua                142\n",
      "Costa Rica               132\n",
      "Paraguay                 120\n",
      "Ecuador                  117\n",
      "Panamá                    79\n",
      "República Dominicana      44\n",
      "Honduras                  44\n",
      "Bolivia                   16\n",
      "Puerto Rico                6\n",
      "Cuba                       3\n",
      "Name: country, dtype: int64\n",
      "\n"
     ]
    }
   ],
   "source": [
    "# data set came with prespecified topics\n",
    "# print the topics out with counts\n",
    "\n",
    "print(\"COUNTRIES:\\n{countries}\\n\".format(countries=df[\"country\"].value_counts()))"
   ]
  },
  {
   "cell_type": "code",
   "execution_count": 23,
   "metadata": {
    "scrolled": false
   },
   "outputs": [
    {
     "name": "stdout",
     "output_type": "stream",
     "text": [
      "DESCRIPTIONS:\n",
      "['user experience   ux ui somos una empresa lider de gestion de capital humano y servicios tecnologicos con mas de 15 años en el mercado nacional y centro america  ofreciendo un valor agregado y solucion a los procesos de consultoria de ti  atraccion de talento  pruebas de software y centro de desarrollo  teniendo siempre la satisfaccion de nuestros clientes y el desempeño profesional de nuestros colaboradores  en getecsa estamos comprometidos a brindar la mejor experiencia  a seguir innovando y dirigirnos con honestidad  respeto y compromiso   la oportunidad de crecer esta en tus manos    unete a nuestro equipo de trabajo requisitosing  sistemas  lic   ciencias de la computacion  diseño grafico o carreras a fin   3experiencia con diseño grafico  3experiencia con programacion ux uiactividades a realizar diseño de la interfaz de usuario para proyectos relacionados a vendors portaldefinir guias de estilo  diseño visual homogeneorevision y validacion de la plataforma para garantizar una buena experiencia del usuariotrabajo de la mano con los devs definiendo la mejor solucion en componenteshabilidades suaves y competencias capacidad analitica y de resolucion de problemasproactividad y autogestionofrecemos sueldo competitivoprestaciones de ley   superiores estabilidad laboral    requerimientos  educacion minima  educacion superior   licenciaturaaños de experiencia  3idiomas  ingles edad  entre 25 y 50 añosdisponibilidad de viajar  nodisponibilidad de cambio de residencia  nopersonas con discapacidad  si']\n",
      "\n"
     ]
    }
   ],
   "source": [
    "# view final data that will be carried forward\n",
    "\n",
    "descriptions = df['Document'].tolist()\n",
    "print(\"DESCRIPTIONS:\\n{lines}\\n\".format(lines=descriptions[:1]))"
   ]
  },
  {
   "cell_type": "code",
   "execution_count": 24,
   "metadata": {},
   "outputs": [],
   "source": [
    "# check language of headline, filter to spanish only\n",
    "def do_language_translate(txt):\n",
    "    lg = 'none'\n",
    "    try: \n",
    "        lg = langdetect.detect(txt)\n",
    "    except: \n",
    "        pass\n",
    "    if lg == 'en':\n",
    "        return translator.translate(txt,lang_src='en',lang_tgt='es')\n",
    "    elif lg != 'es': \n",
    "        return ''\n",
    "    return txt\n",
    "\n",
    "def do_clean_html(txt):\n",
    "    cleantxt = unescape(str(txt))\n",
    "    cleanr = regex.compile('<.*?>|&([a-z0-9]+|#[0-9]{1,6}|#x[0-9a-f]{1,6});')\n",
    "    return regex.sub(cleanr, ' ', cleantxt)\n",
    "\n",
    "def do_clean_stopwords(txt):\n",
    "    out = [t for t in txt.split(\" \") if t.lower() not in stopwords]\n",
    "    return \" \".join(out)\n",
    "\n",
    "# define function to cleaning data\n",
    "def do_clean_text(txt):\n",
    "    txt = txt.lower()\n",
    "    \n",
    "    # Remove text in square brackets, remove punctuation and remove words containing numbers.\n",
    "    #txt = txt.replace(\"ñ\", \"nh\")\n",
    "    txt = regex.sub(r\"\\[.*?¿¡!·\\]\\%\", \" \", txt)\n",
    "    txt = regex.sub(r\"https://\", \"\", txt)\n",
    "    txt = regex.sub(r\"www.\", \"\", txt)\n",
    "    txt = regex.sub(r\"[‘’“”…«»]\", \" \", txt)\n",
    "    txt = regex.sub(r'[\"\\[\\]\\{\\}]', \" \", txt)\n",
    "    txt = regex.sub(r\"_\", \" \", txt)\n",
    "    txt = regex.sub(r\"[%s]\" % regex.escape(string.punctuation), \" \", txt)\n",
    "    txt = regex.sub(r\"\\w*\\d\\w*\", \" \", txt)\n",
    "    txt = regex.sub(\n",
    "        r\"([^n\\u0300-\\u036f]|n(?!\\u0303(?![\\u0300-\\u036f])))[\\u0300-\\u036f]+\", r\"\\1\", \n",
    "        normalize(\"NFD\", txt), 0, regex.I\n",
    "    )\n",
    "    txt = regex.sub(r\"\\n\", \" \", txt)\n",
    "    txt = regex.sub(r\"&lt;/?.*?&gt;\", \" &lt;&gt; \", txt)\n",
    "\n",
    "    # Eliminar caracteres que se repitan más de dos veces seguidas\n",
    "    pattern = regex.compile(r\"(.)\\1{2,}\")\n",
    "    txt = pattern.sub(r\"\\1\\1\", txt)\n",
    "    \n",
    "    return txt.strip(' ')\n",
    "\n",
    "# define function to perform lemmatization\n",
    "def do_lemmatizing(txt):\n",
    "    out = [word.lemma_ for word in nlp(txt)]\n",
    "    return \" \".join(out)\n",
    "\n",
    "def do_clean_blanks(tokens):\n",
    "    tokens = [str(i).strip(' ') for i in tokens]\n",
    "    tokens = [i for i in tokens if len(i) >= 3]\n",
    "    return tokens\n",
    "\n",
    "def do_split_tokens(txt):\n",
    "    return txt.split(' ')\n",
    "\n",
    "# define function to execute pipeline pre-processing\n",
    "def do_prepare_pipeline(element, pipeline):\n",
    "    inout_data = element if not isinstance(element, Number) else str(element)\n",
    "    for transform in pipeline:\n",
    "        inout_data = transform(inout_data)\n",
    "    return inout_data if inout_data and len(inout_data) > 0 else None"
   ]
  },
  {
   "cell_type": "code",
   "execution_count": 25,
   "metadata": {},
   "outputs": [
    {
     "name": "stdout",
     "output_type": "stream",
     "text": [
      "['user', 'experience', 'empresa', 'lider', 'gestion', 'capital', 'humano', 'servicio', 'tecnologicos', 'mas', 'año', 'mercado', 'nacional', 'centro', 'america', 'ofrecer', 'agregado', 'solucion', 'proceso', 'consultoria', 'atraccion', 'talento', 'prueba', 'softwar', 'centro', 'desarrollo', 'satisfaccion', 'clientes', 'desempeño', 'profesional', 'colaborador', 'getecsa', 'comprometido', 'brindar', 'experiencia', 'seguir', 'innovar', 'dirigirnos', 'honestidad', 'respeto', 'compromiso', 'oportunidad', 'crecer', 'mano', 'unete', 'equipo', 'requisitosing', 'sistema', 'lic', 'ciencia', 'computacion', 'diseño', 'grafico', 'carrera', 'diseño', 'grafico', 'programacion', 'uiactividades', 'diseño', 'interfaz', 'usuario', 'proyecto', 'relacionado', 'vendors', 'portaldefinir', 'guias', 'estilo', 'diseño', 'visual', 'homogeneorevision', 'validacion', 'plataforma', 'garantizar', 'experiencia', 'usuariotrabajo', 'mano', 'devs', 'definir', 'solucion', 'componenteshabilidades', 'suave', 'competencia', 'capacidad', 'analitica', 'resolucion', 'problemasproactividad', 'autogestionofrecemos', 'sueldo', 'competitivoprestaciones', 'ley', 'superior', 'estabilidad', 'laboral', 'requerimiento', 'educacion', 'minima', 'educacion', 'superior', 'licenciaturaaños', 'experiencia', 'ingles', 'edad', 'añosdisponibilidad', 'viajar', 'nodisponibilidad', 'cambio', 'residencia', 'nopersonas', 'discapacidad']\n"
     ]
    }
   ],
   "source": [
    "# define pipeline to text pre-processing\n",
    "pipeline = [\n",
    "    do_clean_html,\n",
    "    do_language_translate,\n",
    "    do_clean_stopwords,\n",
    "    do_lemmatizing,\n",
    "    do_clean_text,\n",
    "    do_split_tokens,\n",
    "    do_clean_blanks,\n",
    "]\n",
    "\n",
    "print(do_prepare_pipeline(descriptions[:1], pipeline))"
   ]
  },
  {
   "cell_type": "code",
   "execution_count": 27,
   "metadata": {},
   "outputs": [
    {
     "name": "stdout",
     "output_type": "stream",
     "text": [
      "Elapsed time 4349.329553 seconds.\n"
     ]
    }
   ],
   "source": [
    "# apply cleaning function to every vacancy\n",
    "tictoc.tic()\n",
    "clean_descriptions = Parallel(n_jobs=24)(delayed(do_prepare_pipeline)(txt, pipeline) for txt in descriptions)\n",
    "tictoc.toc('Elapsed time')"
   ]
  },
  {
   "cell_type": "code",
   "execution_count": 107,
   "metadata": {},
   "outputs": [
    {
     "name": "stdout",
     "output_type": "stream",
     "text": [
      "CLEAN SENTENCES:\n",
      "['user experience empresa lider gestion capital humano servicio tecnologicos mas año mercado nacional centro america ofrecer agregado solucion proceso consultoria atraccion talento prueba softwar centro desarrollo satisfaccion clientes desempeño profesional colaborador getecsa comprometido brindar experiencia seguir innovar dirigirnos honestidad respeto compromiso oportunidad crecer mano unete equipo requisitosing sistema lic ciencia computacion diseño grafico carrera diseño grafico programacion uiactividades diseño interfaz usuario proyecto relacionado vendors portaldefinir guias estilo diseño visual homogeneorevision validacion plataforma garantizar experiencia usuariotrabajo mano devs definir solucion componenteshabilidades suave competencia capacidad analitica resolucion problemasproactividad autogestionofrecemos sueldo competitivoprestaciones ley superior estabilidad laboral requerimiento educacion minima educacion superior licenciaturaaños experiencia ingles edad añosdisponibilidad viajar nodisponibilidad cambio residencia nopersonas discapacidad']\n",
      "\n"
     ]
    }
   ],
   "source": [
    "# remove none types\n",
    "#clean_descriptions = list(filter(None.__ne__, clean_descriptions))\n",
    "#print(\"CLEAN DESCRIPTIONS:\\n{lines}\\n\".format(lines=clean_descriptions[:1]))\n",
    "\n",
    "# turn tokens back into strings\n",
    "# concatenate using whitespaces\n",
    "clean_sentences = [\" \".join(i) if 'list' in str(type(i)) else '' for i in clean_descriptions]\n",
    "print(\"CLEAN SENTENCES:\\n{lines}\\n\".format(lines=clean_sentences[:1]))"
   ]
  },
  {
   "cell_type": "code",
   "execution_count": 113,
   "metadata": {},
   "outputs": [
    {
     "data": {
      "text/html": [
       "<div>\n",
       "<style scoped>\n",
       "    .dataframe tbody tr th:only-of-type {\n",
       "        vertical-align: middle;\n",
       "    }\n",
       "\n",
       "    .dataframe tbody tr th {\n",
       "        vertical-align: top;\n",
       "    }\n",
       "\n",
       "    .dataframe thead th {\n",
       "        text-align: right;\n",
       "    }\n",
       "</style>\n",
       "<table border=\"1\" class=\"dataframe\">\n",
       "  <thead>\n",
       "    <tr style=\"text-align: right;\">\n",
       "      <th></th>\n",
       "      <th>ID</th>\n",
       "      <th>country</th>\n",
       "      <th>Document</th>\n",
       "    </tr>\n",
       "  </thead>\n",
       "  <tbody>\n",
       "    <tr>\n",
       "      <th>0</th>\n",
       "      <td>3</td>\n",
       "      <td>México</td>\n",
       "      <td>user experience empresa lider gestion capital ...</td>\n",
       "    </tr>\n",
       "    <tr>\n",
       "      <th>1</th>\n",
       "      <td>5</td>\n",
       "      <td>México</td>\n",
       "      <td>becario sistemas miguel hidalgo invitar partic...</td>\n",
       "    </tr>\n",
       "    <tr>\n",
       "      <th>2</th>\n",
       "      <td>6</td>\n",
       "      <td>México</td>\n",
       "      <td>soporte desarrollo linux experiencia scripting...</td>\n",
       "    </tr>\n",
       "    <tr>\n",
       "      <th>3</th>\n",
       "      <td>7</td>\n",
       "      <td>México</td>\n",
       "      <td>ejecutivo venta altabrisa diversidad mas fuert...</td>\n",
       "    </tr>\n",
       "    <tr>\n",
       "      <th>4</th>\n",
       "      <td>8</td>\n",
       "      <td>México</td>\n",
       "      <td>reparacion venta computo fix office depot leon...</td>\n",
       "    </tr>\n",
       "  </tbody>\n",
       "</table>\n",
       "</div>"
      ],
      "text/plain": [
       "   ID country                                           Document\n",
       "0   3  México  user experience empresa lider gestion capital ...\n",
       "1   5  México  becario sistemas miguel hidalgo invitar partic...\n",
       "2   6  México  soporte desarrollo linux experiencia scripting...\n",
       "3   7  México  ejecutivo venta altabrisa diversidad mas fuert...\n",
       "4   8  México  reparacion venta computo fix office depot leon..."
      ]
     },
     "execution_count": 113,
     "metadata": {},
     "output_type": "execute_result"
    }
   ],
   "source": [
    "# save to backup data cleaned\n",
    "clean_df = df.copy()\n",
    "clean_df['Document'] = clean_sentences\n",
    "clean_df.to_excel(\"clean_vacancies_comtra_tomas.xlsx\", sheet_name=\"Data\", encoding=\"utf-8\")\n",
    "clean_df.head()"
   ]
  },
  {
   "cell_type": "markdown",
   "metadata": {},
   "source": [
    "### Count Vectorizer"
   ]
  },
  {
   "cell_type": "code",
   "execution_count": 118,
   "metadata": {},
   "outputs": [
    {
     "data": {
      "text/plain": [
       "(4026,\n",
       " ['user experience empresa lider gestion capital humano servicio tecnologicos mas año mercado nacional centro america ofrecer agregado solucion proceso consultoria atraccion talento prueba softwar centro desarrollo satisfaccion clientes desempeño profesional colaborador getecsa comprometido brindar experiencia seguir innovar dirigirnos honestidad respeto compromiso oportunidad crecer mano unete equipo requisitosing sistema lic ciencia computacion diseño grafico carrera diseño grafico programacion uiactividades diseño interfaz usuario proyecto relacionado vendors portaldefinir guias estilo diseño visual homogeneorevision validacion plataforma garantizar experiencia usuariotrabajo mano devs definir solucion componenteshabilidades suave competencia capacidad analitica resolucion problemasproactividad autogestionofrecemos sueldo competitivoprestaciones ley superior estabilidad laboral requerimiento educacion minima educacion superior licenciaturaaños experiencia ingles edad añosdisponibilidad viajar nodisponibilidad cambio residencia nopersonas discapacidad'])"
      ]
     },
     "execution_count": 118,
     "metadata": {},
     "output_type": "execute_result"
    }
   ],
   "source": [
    "# define some global variables\n",
    "number_words = 10\n",
    "number_docs = 10\n",
    "\n",
    "# load data cleaned\n",
    "clean_df = pandas.read_excel(\"clean_vacancies_comtra_tomas.xlsx\", sheet_name=\"Data\")\n",
    "clean_df.fillna('', inplace=True)\n",
    "clean_sentences = clean_df[clean_df['country']=='México']['Document'].tolist()\n",
    "len(clean_sentences), clean_sentences[:1]"
   ]
  },
  {
   "cell_type": "code",
   "execution_count": 120,
   "metadata": {},
   "outputs": [
    {
     "name": "stdout",
     "output_type": "stream",
     "text": [
      "  (0, 39)\t1\n",
      "  (0, 65)\t1\n",
      "  (0, 44)\t1\n",
      "  (0, 105)\t1\n",
      "  (0, 69)\t1\n",
      "  (0, 73)\t1\n",
      "  (0, 79)\t1\n",
      "  (0, 111)\t2\n",
      "  (0, 89)\t1\n",
      "  (0, 115)\t1\n",
      "  (0, 94)\t1\n",
      "  (0, 108)\t1\n",
      "  (0, 33)\t1\n",
      "  (0, 19)\t1\n",
      "  (0, 91)\t1\n",
      "  (0, 80)\t1\n",
      "  (0, 40)\t1\n",
      "  (0, 107)\t1\n",
      "  (0, 36)\t4\n",
      "  (0, 17)\t1\n",
      "  (0, 92)\t1\n",
      "  (0, 93)\t1\n",
      "  (0, 86)\t1\n",
      "  (0, 15)\t1\n",
      "  (0, 114)\t1\n",
      "  (0, 63)\t1\n",
      "  (0, 62)\t1\n",
      "  (0, 57)\t1\n",
      "  (0, 38)\t1\n",
      "  (0, 83)\t1\n"
     ]
    },
    {
     "data": {
      "text/plain": [
       "(126,\n",
       " ['actividad',\n",
       "  'administracion',\n",
       "  'afin',\n",
       "  'alto',\n",
       "  'ambiente',\n",
       "  'analisis',\n",
       "  'aplicacion',\n",
       "  'area',\n",
       "  'atencion',\n",
       "  'avanzado',\n",
       "  'bachillerato',\n",
       "  'base',\n",
       "  'buscar',\n",
       "  'busqueda',\n",
       "  'calidad',\n",
       "  'capacidad',\n",
       "  'capacitacion',\n",
       "  'carrera',\n",
       "  'cliente',\n",
       "  'clientes',\n",
       "  'completo',\n",
       "  'comunicacion',\n",
       "  'conducir',\n",
       "  'configuracion',\n",
       "  'conocimiento',\n",
       "  'conocimientos',\n",
       "  'control',\n",
       "  'correo',\n",
       "  'crecimiento',\n",
       "  'dato',\n",
       "  'datos',\n",
       "  'desarrollador',\n",
       "  'desarrollar',\n",
       "  'desarrollo',\n",
       "  'deseable',\n",
       "  'digital',\n",
       "  'disen',\n",
       "  'disponibilidad',\n",
       "  'edad',\n",
       "  'empresa',\n",
       "  'equipo',\n",
       "  'escolaridad',\n",
       "  'etc',\n",
       "  'excelente',\n",
       "  'gestion',\n",
       "  'habilidad',\n",
       "  'herramienta',\n",
       "  'horario',\n",
       "  'html',\n",
       "  'implementacion',\n",
       "  'importante',\n",
       "  'indispensable',\n",
       "  'informacion',\n",
       "  'informatica',\n",
       "  'ing',\n",
       "  'ingenieria',\n",
       "  'ingeniero',\n",
       "  'ingles',\n",
       "  'instalacion',\n",
       "  'interesado',\n",
       "  'java',\n",
       "  'javascript',\n",
       "  'laboral',\n",
       "  'ley',\n",
       "  'licenciatura',\n",
       "  'lider',\n",
       "  'lunes',\n",
       "  'manejo',\n",
       "  'mantenimiento',\n",
       "  'mas',\n",
       "  'media',\n",
       "  'medio',\n",
       "  'mensual',\n",
       "  'mercado',\n",
       "  'microsoft',\n",
       "  'negocio',\n",
       "  'net',\n",
       "  'nivel',\n",
       "  'office',\n",
       "  'ofrecer',\n",
       "  'oportunidad',\n",
       "  'orientado',\n",
       "  'osconocimientos',\n",
       "  'osdisponibilidad',\n",
       "  'perfil',\n",
       "  'personal',\n",
       "  'plataforma',\n",
       "  'prestacion',\n",
       "  'problema',\n",
       "  'proceso',\n",
       "  'producto',\n",
       "  'profesional',\n",
       "  'programacion',\n",
       "  'proyecto',\n",
       "  'prueba',\n",
       "  'puesto',\n",
       "  'red',\n",
       "  'remoto',\n",
       "  'requerimientos',\n",
       "  'requisito',\n",
       "  'responsable',\n",
       "  'seguimiento',\n",
       "  'seguridad',\n",
       "  'seguro',\n",
       "  'server',\n",
       "  'servicio',\n",
       "  'sidisponibilidad',\n",
       "  'sistema',\n",
       "  'softwar',\n",
       "  'software',\n",
       "  'solicitar',\n",
       "  'solucion',\n",
       "  'soporte',\n",
       "  'sql',\n",
       "  'sueldo',\n",
       "  'talento',\n",
       "  'tecnico',\n",
       "  'tecnologia',\n",
       "  'tecnologias',\n",
       "  'usuarios',\n",
       "  'vacante',\n",
       "  'venta',\n",
       "  'vida',\n",
       "  'viernes',\n",
       "  'web',\n",
       "  'zona'])"
      ]
     },
     "execution_count": 120,
     "metadata": {},
     "output_type": "execute_result"
    }
   ],
   "source": [
    "# execute bag of words model\n",
    "# use raw term counts for lda \n",
    "# as it is a probabilistic graphical model\n",
    "\n",
    "vectorizer1 = sklearn.feature_extraction.text.CountVectorizer(\n",
    "    analyzer=\"word\",\n",
    "    max_df=0.5, \n",
    "    min_df=0.1, \n",
    "    max_features=1000\n",
    ")\n",
    "clean_vec1 = vectorizer1.fit_transform(clean_sentences)\n",
    "#print(clean_vec1[0])\n",
    "\n",
    "feature_names_vec1 = vectorizer1.get_feature_names()\n",
    "len(feature_names_vec1), feature_names_vec1"
   ]
  },
  {
   "cell_type": "markdown",
   "metadata": {},
   "source": [
    "### Select Number of Topics"
   ]
  },
  {
   "cell_type": "code",
   "execution_count": 121,
   "metadata": {},
   "outputs": [],
   "source": [
    "# define function to calculate perplexity for LDA model trained on ntopics\n",
    "\n",
    "def perplexity_by_ntopic(data, ntopics):\n",
    "    output_dict = {\n",
    "        \"Number Of Topics\": [], \n",
    "        \"Perplexity Score\": []\n",
    "    }\n",
    "    \n",
    "    for t in ntopics:\n",
    "        lda = sklearn.decomposition.LatentDirichletAllocation(\n",
    "            n_components=t,\n",
    "            learning_method=\"online\",\n",
    "            random_state=0,\n",
    "            n_jobs=-1\n",
    "        )\n",
    "        lda.fit(data)\n",
    "        \n",
    "        output_dict[\"Number Of Topics\"].append(t)\n",
    "        output_dict[\"Perplexity Score\"].append(lda.perplexity(data))\n",
    "        \n",
    "    output_df = pandas.DataFrame(output_dict)\n",
    "    \n",
    "    index_min_perplexity = output_df[\"Perplexity Score\"].idxmin()\n",
    "    output_num_topics = output_df.loc[\n",
    "        index_min_perplexity,  # index\n",
    "        \"Number Of Topics\"  # column\n",
    "    ]\n",
    "        \n",
    "    return (output_df, output_num_topics)"
   ]
  },
  {
   "cell_type": "code",
   "execution_count": 122,
   "metadata": {},
   "outputs": [
    {
     "name": "stdout",
     "output_type": "stream",
     "text": [
      "    Number Of Topics  Perplexity Score\n",
      "0                  1        110.261210\n",
      "1                  2        102.563501\n",
      "2                  3         98.279225\n",
      "3                  4         96.215177\n",
      "4                  6         94.684011\n",
      "5                  8         94.399998\n",
      "6                 10         94.965685\n",
      "7                 11         94.793820\n",
      "8                 12         94.391777\n",
      "9                 13         95.731206\n",
      "10                14         95.014782\n",
      "11                15         96.145739\n",
      "Elapsed time 69.173818 seconds.\n"
     ]
    }
   ],
   "source": [
    "# find perplexity scores for several different numbers of topics\n",
    "# takes several minutes\n",
    "\n",
    "tictoc.tic()\n",
    "df_perplexity, optimal_num_topics = perplexity_by_ntopic(\n",
    "    clean_vec1, \n",
    "    ntopics=[1, 2, 3, 4, 6, 8, 10, 11, 12, 13, 14, 15]\n",
    ")\n",
    "print(df_perplexity)\n",
    "tictoc.toc('Elapsed time')"
   ]
  },
  {
   "cell_type": "code",
   "execution_count": 123,
   "metadata": {},
   "outputs": [
    {
     "data": {
      "text/plain": [
       "<AxesSubplot:xlabel='Number Of Topics'>"
      ]
     },
     "execution_count": 123,
     "metadata": {},
     "output_type": "execute_result"
    },
    {
     "data": {
      "image/png": "[encoded data removed]",
      "text/plain": [
       "<Figure size 432x288 with 1 Axes>"
      ]
     },
     "metadata": {
      "needs_background": "light"
     },
     "output_type": "display_data"
    }
   ],
   "source": [
    "df_perplexity.plot.line(\"Number Of Topics\", \"Perplexity Score\")"
   ]
  },
  {
   "cell_type": "code",
   "execution_count": 124,
   "metadata": {},
   "outputs": [],
   "source": [
    "optimal_num_topics = 12"
   ]
  },
  {
   "cell_type": "code",
   "execution_count": 125,
   "metadata": {},
   "outputs": [
    {
     "data": {
      "text/plain": [
       "LatentDirichletAllocation(learning_method='online', n_components=12, n_jobs=-1,\n",
       "                          random_state=0)"
      ]
     },
     "execution_count": 125,
     "metadata": {},
     "output_type": "execute_result"
    }
   ],
   "source": [
    "# define and fit LDA model\n",
    "\n",
    "lda = sklearn.decomposition.LatentDirichletAllocation(\n",
    "    n_components=optimal_num_topics,\n",
    "    learning_method=\"online\",\n",
    "    random_state=0,\n",
    "    n_jobs=-1\n",
    ")\n",
    "lda.fit(clean_vec1)"
   ]
  },
  {
   "cell_type": "code",
   "execution_count": 126,
   "metadata": {},
   "outputs": [],
   "source": [
    "# output matrix\n",
    "# h: docs to topics\n",
    "\n",
    "lda_transform = lda.transform(clean_vec1)\n",
    "#print(lda_transform.shape)\n",
    "#print(lda_transform)"
   ]
  },
  {
   "cell_type": "code",
   "execution_count": 127,
   "metadata": {},
   "outputs": [],
   "source": [
    "# output matrix\n",
    "# w: words to topics\n",
    "\n",
    "lda_components = lda.components_\n",
    "#print(lda_components.shape)\n",
    "#print(lda_components)"
   ]
  },
  {
   "cell_type": "code",
   "execution_count": 128,
   "metadata": {},
   "outputs": [],
   "source": [
    "# define function to reformat output matrices into easily readable tables\n",
    "\n",
    "def get_topics(mod, vec, names, docs, ndocs, nwords):\n",
    "    # word to topic matrix\n",
    "    W = mod.components_\n",
    "    W_norm = W / W.sum(axis=1)[:, numpy.newaxis]\n",
    "    # topic to document matrix\n",
    "    H = mod.transform(vec)\n",
    "    \n",
    "    W_dict = {}\n",
    "    H_dict = {}\n",
    "    \n",
    "    for tpc_idx, tpc_val in enumerate(W_norm):\n",
    "        topic = \"Topic{}\".format(tpc_idx)\n",
    "        \n",
    "        # formatting w\n",
    "        W_indices = tpc_val.argsort()[::-1][:nwords]\n",
    "        W_names_values = [\n",
    "            (round(tpc_val[j], 4), names[j]) \n",
    "            for j in W_indices\n",
    "        ]\n",
    "        W_dict[topic] = W_names_values\n",
    "        \n",
    "        # formatting h\n",
    "        H_indices = H[:, tpc_idx].argsort()[::-1][:ndocs]\n",
    "        H_names_values = [\n",
    "            (round(H[:, tpc_idx][j], 4), docs[j]) \n",
    "            for j in H_indices\n",
    "        ]\n",
    "        H_dict[topic] = H_names_values\n",
    "        \n",
    "    W_df = pandas.DataFrame(\n",
    "        W_dict, \n",
    "        index=[\"Word\" + str(i) for i in range(nwords)]\n",
    "    )\n",
    "    H_df = pandas.DataFrame(\n",
    "        H_dict,\n",
    "        index=[\"Doc\" + str(i) for i in range(ndocs)]\n",
    "    )\n",
    "        \n",
    "    return (W_df, H_df)"
   ]
  },
  {
   "cell_type": "code",
   "execution_count": 130,
   "metadata": {},
   "outputs": [
    {
     "ename": "KeyError",
     "evalue": "1832",
     "output_type": "error",
     "traceback": [
      "\u001b[0;31m---------------------------------------------------------------------------\u001b[0m",
      "\u001b[0;31mKeyError\u001b[0m                                  Traceback (most recent call last)",
      "\u001b[0;32m~/anaconda3/lib/python3.8/site-packages/pandas/core/indexes/base.py\u001b[0m in \u001b[0;36mget_loc\u001b[0;34m(self, key, method, tolerance)\u001b[0m\n\u001b[1;32m   3079\u001b[0m             \u001b[0;32mtry\u001b[0m\u001b[0;34m:\u001b[0m\u001b[0;34m\u001b[0m\u001b[0;34m\u001b[0m\u001b[0m\n\u001b[0;32m-> 3080\u001b[0;31m                 \u001b[0;32mreturn\u001b[0m \u001b[0mself\u001b[0m\u001b[0;34m.\u001b[0m\u001b[0m_engine\u001b[0m\u001b[0;34m.\u001b[0m\u001b[0mget_loc\u001b[0m\u001b[0;34m(\u001b[0m\u001b[0mcasted_key\u001b[0m\u001b[0;34m)\u001b[0m\u001b[0;34m\u001b[0m\u001b[0;34m\u001b[0m\u001b[0m\n\u001b[0m\u001b[1;32m   3081\u001b[0m             \u001b[0;32mexcept\u001b[0m \u001b[0mKeyError\u001b[0m \u001b[0;32mas\u001b[0m \u001b[0merr\u001b[0m\u001b[0;34m:\u001b[0m\u001b[0;34m\u001b[0m\u001b[0;34m\u001b[0m\u001b[0m\n",
      "\u001b[0;32mpandas/_libs/index.pyx\u001b[0m in \u001b[0;36mpandas._libs.index.IndexEngine.get_loc\u001b[0;34m()\u001b[0m\n",
      "\u001b[0;32mpandas/_libs/index.pyx\u001b[0m in \u001b[0;36mpandas._libs.index.IndexEngine.get_loc\u001b[0;34m()\u001b[0m\n",
      "\u001b[0;32mpandas/_libs/hashtable_class_helper.pxi\u001b[0m in \u001b[0;36mpandas._libs.hashtable.PyObjectHashTable.get_item\u001b[0;34m()\u001b[0m\n",
      "\u001b[0;32mpandas/_libs/hashtable_class_helper.pxi\u001b[0m in \u001b[0;36mpandas._libs.hashtable.PyObjectHashTable.get_item\u001b[0;34m()\u001b[0m\n",
      "\u001b[0;31mKeyError\u001b[0m: 1832",
      "\nThe above exception was the direct cause of the following exception:\n",
      "\u001b[0;31mKeyError\u001b[0m                                  Traceback (most recent call last)",
      "\u001b[0;32m<ipython-input-130-0c4eea2ca864>\u001b[0m in \u001b[0;36m<module>\u001b[0;34m\u001b[0m\n\u001b[1;32m      1\u001b[0m \u001b[0;31m# run function\u001b[0m\u001b[0;34m\u001b[0m\u001b[0;34m\u001b[0m\u001b[0;34m\u001b[0m\u001b[0m\n\u001b[1;32m      2\u001b[0m \u001b[0;34m\u001b[0m\u001b[0m\n\u001b[0;32m----> 3\u001b[0;31m W_df, H_df = get_topics(\n\u001b[0m\u001b[1;32m      4\u001b[0m     \u001b[0mmod\u001b[0m\u001b[0;34m=\u001b[0m\u001b[0mlda\u001b[0m\u001b[0;34m,\u001b[0m\u001b[0;34m\u001b[0m\u001b[0;34m\u001b[0m\u001b[0m\n\u001b[1;32m      5\u001b[0m     \u001b[0mvec\u001b[0m\u001b[0;34m=\u001b[0m\u001b[0mclean_vec1\u001b[0m\u001b[0;34m,\u001b[0m\u001b[0;34m\u001b[0m\u001b[0;34m\u001b[0m\u001b[0m\n",
      "\u001b[0;32m<ipython-input-128-af08cd190b0c>\u001b[0m in \u001b[0;36mget_topics\u001b[0;34m(mod, vec, names, docs, ndocs, nwords)\u001b[0m\n\u001b[1;32m     24\u001b[0m         \u001b[0;31m# formatting h\u001b[0m\u001b[0;34m\u001b[0m\u001b[0;34m\u001b[0m\u001b[0;34m\u001b[0m\u001b[0m\n\u001b[1;32m     25\u001b[0m         \u001b[0mH_indices\u001b[0m \u001b[0;34m=\u001b[0m \u001b[0mH\u001b[0m\u001b[0;34m[\u001b[0m\u001b[0;34m:\u001b[0m\u001b[0;34m,\u001b[0m \u001b[0mtpc_idx\u001b[0m\u001b[0;34m]\u001b[0m\u001b[0;34m.\u001b[0m\u001b[0margsort\u001b[0m\u001b[0;34m(\u001b[0m\u001b[0;34m)\u001b[0m\u001b[0;34m[\u001b[0m\u001b[0;34m:\u001b[0m\u001b[0;34m:\u001b[0m\u001b[0;34m-\u001b[0m\u001b[0;36m1\u001b[0m\u001b[0;34m]\u001b[0m\u001b[0;34m[\u001b[0m\u001b[0;34m:\u001b[0m\u001b[0mndocs\u001b[0m\u001b[0;34m]\u001b[0m\u001b[0;34m\u001b[0m\u001b[0;34m\u001b[0m\u001b[0m\n\u001b[0;32m---> 26\u001b[0;31m         H_names_values = [\n\u001b[0m\u001b[1;32m     27\u001b[0m             \u001b[0;34m(\u001b[0m\u001b[0mround\u001b[0m\u001b[0;34m(\u001b[0m\u001b[0mH\u001b[0m\u001b[0;34m[\u001b[0m\u001b[0;34m:\u001b[0m\u001b[0;34m,\u001b[0m \u001b[0mtpc_idx\u001b[0m\u001b[0;34m]\u001b[0m\u001b[0;34m[\u001b[0m\u001b[0mj\u001b[0m\u001b[0;34m]\u001b[0m\u001b[0;34m,\u001b[0m \u001b[0;36m4\u001b[0m\u001b[0;34m)\u001b[0m\u001b[0;34m,\u001b[0m \u001b[0mdocs\u001b[0m\u001b[0;34m[\u001b[0m\u001b[0mj\u001b[0m\u001b[0;34m]\u001b[0m\u001b[0;34m)\u001b[0m\u001b[0;34m\u001b[0m\u001b[0;34m\u001b[0m\u001b[0m\n\u001b[1;32m     28\u001b[0m             \u001b[0;32mfor\u001b[0m \u001b[0mj\u001b[0m \u001b[0;32min\u001b[0m \u001b[0mH_indices\u001b[0m\u001b[0;34m\u001b[0m\u001b[0;34m\u001b[0m\u001b[0m\n",
      "\u001b[0;32m<ipython-input-128-af08cd190b0c>\u001b[0m in \u001b[0;36m<listcomp>\u001b[0;34m(.0)\u001b[0m\n\u001b[1;32m     25\u001b[0m         \u001b[0mH_indices\u001b[0m \u001b[0;34m=\u001b[0m \u001b[0mH\u001b[0m\u001b[0;34m[\u001b[0m\u001b[0;34m:\u001b[0m\u001b[0;34m,\u001b[0m \u001b[0mtpc_idx\u001b[0m\u001b[0;34m]\u001b[0m\u001b[0;34m.\u001b[0m\u001b[0margsort\u001b[0m\u001b[0;34m(\u001b[0m\u001b[0;34m)\u001b[0m\u001b[0;34m[\u001b[0m\u001b[0;34m:\u001b[0m\u001b[0;34m:\u001b[0m\u001b[0;34m-\u001b[0m\u001b[0;36m1\u001b[0m\u001b[0;34m]\u001b[0m\u001b[0;34m[\u001b[0m\u001b[0;34m:\u001b[0m\u001b[0mndocs\u001b[0m\u001b[0;34m]\u001b[0m\u001b[0;34m\u001b[0m\u001b[0;34m\u001b[0m\u001b[0m\n\u001b[1;32m     26\u001b[0m         H_names_values = [\n\u001b[0;32m---> 27\u001b[0;31m             \u001b[0;34m(\u001b[0m\u001b[0mround\u001b[0m\u001b[0;34m(\u001b[0m\u001b[0mH\u001b[0m\u001b[0;34m[\u001b[0m\u001b[0;34m:\u001b[0m\u001b[0;34m,\u001b[0m \u001b[0mtpc_idx\u001b[0m\u001b[0;34m]\u001b[0m\u001b[0;34m[\u001b[0m\u001b[0mj\u001b[0m\u001b[0;34m]\u001b[0m\u001b[0;34m,\u001b[0m \u001b[0;36m4\u001b[0m\u001b[0;34m)\u001b[0m\u001b[0;34m,\u001b[0m \u001b[0mdocs\u001b[0m\u001b[0;34m[\u001b[0m\u001b[0mj\u001b[0m\u001b[0;34m]\u001b[0m\u001b[0;34m)\u001b[0m\u001b[0;34m\u001b[0m\u001b[0;34m\u001b[0m\u001b[0m\n\u001b[0m\u001b[1;32m     28\u001b[0m             \u001b[0;32mfor\u001b[0m \u001b[0mj\u001b[0m \u001b[0;32min\u001b[0m \u001b[0mH_indices\u001b[0m\u001b[0;34m\u001b[0m\u001b[0;34m\u001b[0m\u001b[0m\n\u001b[1;32m     29\u001b[0m         ]\n",
      "\u001b[0;32m~/anaconda3/lib/python3.8/site-packages/pandas/core/frame.py\u001b[0m in \u001b[0;36m__getitem__\u001b[0;34m(self, key)\u001b[0m\n\u001b[1;32m   3022\u001b[0m             \u001b[0;32mif\u001b[0m \u001b[0mself\u001b[0m\u001b[0;34m.\u001b[0m\u001b[0mcolumns\u001b[0m\u001b[0;34m.\u001b[0m\u001b[0mnlevels\u001b[0m \u001b[0;34m>\u001b[0m \u001b[0;36m1\u001b[0m\u001b[0;34m:\u001b[0m\u001b[0;34m\u001b[0m\u001b[0;34m\u001b[0m\u001b[0m\n\u001b[1;32m   3023\u001b[0m                 \u001b[0;32mreturn\u001b[0m \u001b[0mself\u001b[0m\u001b[0;34m.\u001b[0m\u001b[0m_getitem_multilevel\u001b[0m\u001b[0;34m(\u001b[0m\u001b[0mkey\u001b[0m\u001b[0;34m)\u001b[0m\u001b[0;34m\u001b[0m\u001b[0;34m\u001b[0m\u001b[0m\n\u001b[0;32m-> 3024\u001b[0;31m             \u001b[0mindexer\u001b[0m \u001b[0;34m=\u001b[0m \u001b[0mself\u001b[0m\u001b[0;34m.\u001b[0m\u001b[0mcolumns\u001b[0m\u001b[0;34m.\u001b[0m\u001b[0mget_loc\u001b[0m\u001b[0;34m(\u001b[0m\u001b[0mkey\u001b[0m\u001b[0;34m)\u001b[0m\u001b[0;34m\u001b[0m\u001b[0;34m\u001b[0m\u001b[0m\n\u001b[0m\u001b[1;32m   3025\u001b[0m             \u001b[0;32mif\u001b[0m \u001b[0mis_integer\u001b[0m\u001b[0;34m(\u001b[0m\u001b[0mindexer\u001b[0m\u001b[0;34m)\u001b[0m\u001b[0;34m:\u001b[0m\u001b[0;34m\u001b[0m\u001b[0;34m\u001b[0m\u001b[0m\n\u001b[1;32m   3026\u001b[0m                 \u001b[0mindexer\u001b[0m \u001b[0;34m=\u001b[0m \u001b[0;34m[\u001b[0m\u001b[0mindexer\u001b[0m\u001b[0;34m]\u001b[0m\u001b[0;34m\u001b[0m\u001b[0;34m\u001b[0m\u001b[0m\n",
      "\u001b[0;32m~/anaconda3/lib/python3.8/site-packages/pandas/core/indexes/base.py\u001b[0m in \u001b[0;36mget_loc\u001b[0;34m(self, key, method, tolerance)\u001b[0m\n\u001b[1;32m   3080\u001b[0m                 \u001b[0;32mreturn\u001b[0m \u001b[0mself\u001b[0m\u001b[0;34m.\u001b[0m\u001b[0m_engine\u001b[0m\u001b[0;34m.\u001b[0m\u001b[0mget_loc\u001b[0m\u001b[0;34m(\u001b[0m\u001b[0mcasted_key\u001b[0m\u001b[0;34m)\u001b[0m\u001b[0;34m\u001b[0m\u001b[0;34m\u001b[0m\u001b[0m\n\u001b[1;32m   3081\u001b[0m             \u001b[0;32mexcept\u001b[0m \u001b[0mKeyError\u001b[0m \u001b[0;32mas\u001b[0m \u001b[0merr\u001b[0m\u001b[0;34m:\u001b[0m\u001b[0;34m\u001b[0m\u001b[0;34m\u001b[0m\u001b[0m\n\u001b[0;32m-> 3082\u001b[0;31m                 \u001b[0;32mraise\u001b[0m \u001b[0mKeyError\u001b[0m\u001b[0;34m(\u001b[0m\u001b[0mkey\u001b[0m\u001b[0;34m)\u001b[0m \u001b[0;32mfrom\u001b[0m \u001b[0merr\u001b[0m\u001b[0;34m\u001b[0m\u001b[0;34m\u001b[0m\u001b[0m\n\u001b[0m\u001b[1;32m   3083\u001b[0m \u001b[0;34m\u001b[0m\u001b[0m\n\u001b[1;32m   3084\u001b[0m         \u001b[0;32mif\u001b[0m \u001b[0mtolerance\u001b[0m \u001b[0;32mis\u001b[0m \u001b[0;32mnot\u001b[0m \u001b[0;32mNone\u001b[0m\u001b[0;34m:\u001b[0m\u001b[0;34m\u001b[0m\u001b[0;34m\u001b[0m\u001b[0m\n",
      "\u001b[0;31mKeyError\u001b[0m: 1832"
     ]
    }
   ],
   "source": [
    "# run function\n",
    "\n",
    "W_df, H_df = get_topics(\n",
    "    mod=lda,\n",
    "    vec=clean_vec1,\n",
    "    names=feature_names_vec1,\n",
    "    docs=raw,\n",
    "    ndocs=number_docs, \n",
    "    nwords=number_words\n",
    ")"
   ]
  },
  {
   "cell_type": "code",
   "execution_count": null,
   "metadata": {},
   "outputs": [],
   "source": [
    "# word-topic table\n",
    "print(W_df)"
   ]
  },
  {
   "cell_type": "code",
   "execution_count": null,
   "metadata": {},
   "outputs": [],
   "source": [
    "# document-topic table\n",
    "print(H_df)"
   ]
  },
  {
   "cell_type": "markdown",
   "metadata": {},
   "source": [
    "### Visualizing LDA"
   ]
  },
  {
   "cell_type": "code",
   "execution_count": null,
   "metadata": {},
   "outputs": [],
   "source": [
    "# iterative visualization\n",
    "# featuring pca biplot and histogram\n",
    "lda_plot = pyLDAvis.sklearn.prepare(lda, clean_vec1, vectorizer1, R=10)\n",
    "pyLDAvis.save_html(lda_plot, 'report/lda.html')\n",
    "pyLDAvis.display(lda_plot)"
   ]
  },
  {
   "cell_type": "code",
   "execution_count": null,
   "metadata": {},
   "outputs": [],
   "source": [
    "# define functiont to fit and plot t-SNE model\n",
    "\n",
    "def plot_tsne(data, threshold):\n",
    "    # filter data according to threshold\n",
    "    index_meet_threshold = numpy.amax(data, axis=1) >= threshold\n",
    "    lda_transform_filt = data[index_meet_threshold]\n",
    "    \n",
    "    # fit tsne model\n",
    "    # x-d -> 2-d, x = number of topics\n",
    "    tsne = sklearn.manifold.TSNE(\n",
    "        n_components=2, \n",
    "        verbose=0, \n",
    "        random_state=0, \n",
    "        angle=0.5, \n",
    "        init='pca'\n",
    "    )\n",
    "    tsne_fit = tsne.fit_transform(lda_transform_filt)\n",
    "    \n",
    "    # most probable topic for each headline\n",
    "    most_prob_topic = []\n",
    "    for i in range(tsne_fit.shape[0]):\n",
    "        most_prob_topic.append(lda_transform_filt[i].argmax())\n",
    "    \n",
    "    print(\"LENGTH:\\n{}\\n\".format(len(most_prob_topic)))\n",
    "\n",
    "    unique, counts = numpy.unique(\n",
    "        numpy.array(most_prob_topic), \n",
    "        return_counts=True\n",
    "    )\n",
    "\n",
    "    print(\"COUNTS:\\n{}\\n\".format(numpy.asarray((unique, counts)).T))\n",
    "    \n",
    "    # make plot\n",
    "    matplotlib.pyplot.figure(figsize=(15,10))\n",
    "    #color_list = ['b', 'g', 'r', 'c', 'm', 'y', 'k', 'b', 'g', 'r']\n",
    "    color_list = ['#1f77b4', '#ff7f0e', '#2ca02c', '#d62728', '#9467bd', '#8c564b', '#e377c2', '#7f7f7f', '#bcbd22', '#17becf']\n",
    "\n",
    "    for i in list(set(most_prob_topic)):\n",
    "        indices = [idx for idx, val in enumerate(most_prob_topic) if val == i]\n",
    "        matplotlib.pyplot.scatter(\n",
    "            x=tsne_fit[indices, 0], \n",
    "            y=tsne_fit[indices, 1], \n",
    "            s=0.5, \n",
    "            c=color_list[i], \n",
    "            label='Topic' + str(i),\n",
    "            alpha=1\n",
    "        )\n",
    "    \n",
    "    \n",
    "    matplotlib.pyplot.xlabel('x-tsne')\n",
    "    matplotlib.pyplot.ylabel('y-tsne')\n",
    "    matplotlib.pyplot.legend(markerscale=5)"
   ]
  },
  {
   "cell_type": "code",
   "execution_count": null,
   "metadata": {},
   "outputs": [],
   "source": [
    "plot_tsne(data=lda_transform, threshold=0)"
   ]
  },
  {
   "cell_type": "code",
   "execution_count": null,
   "metadata": {},
   "outputs": [],
   "source": [
    "# define and fit nmf model\n",
    "\n",
    "nmf = sklearn.decomposition.NMF(\n",
    "    n_components=optimal_num_topics,\n",
    "    init=\"nndsvda\",\n",
    "    solver=\"mu\",\n",
    "    beta_loss=\"frobenius\",\n",
    "    random_state=0, \n",
    "    alpha=0.1, \n",
    "    l1_ratio=0.5\n",
    ")\n",
    "nmf.fit(clean_vec1)"
   ]
  },
  {
   "cell_type": "code",
   "execution_count": null,
   "metadata": {},
   "outputs": [],
   "source": [
    "# run function to produce nice output tables\n",
    "\n",
    "W_df, H_df = get_topics(\n",
    "    mod=nmf,\n",
    "    vec=clean_vec1,\n",
    "    names=feature_names_vec1,\n",
    "    docs=raw,\n",
    "    ndocs=number_docs, \n",
    "    nwords=number_words\n",
    ")"
   ]
  },
  {
   "cell_type": "code",
   "execution_count": null,
   "metadata": {},
   "outputs": [],
   "source": [
    "# word-topic table\n",
    "print(W_df)"
   ]
  },
  {
   "cell_type": "code",
   "execution_count": null,
   "metadata": {},
   "outputs": [],
   "source": [
    "# document-topic table\n",
    "print(H_df)"
   ]
  },
  {
   "cell_type": "code",
   "execution_count": null,
   "metadata": {},
   "outputs": [],
   "source": [
    "# output raw document-topic matrix for t-SNE plot\n",
    "nmf_transform = nmf.transform(clean_vec1)\n",
    "print(nmf_transform.shape)\n",
    "print(nmf_transform)"
   ]
  },
  {
   "cell_type": "code",
   "execution_count": null,
   "metadata": {},
   "outputs": [],
   "source": [
    "# run function to produce t-SNE plot\n",
    "plot_tsne(data=nmf_transform, threshold=0)"
   ]
  },
  {
   "cell_type": "code",
   "execution_count": null,
   "metadata": {},
   "outputs": [],
   "source": []
  }
 ],
 "metadata": {
  "kernelspec": {
   "display_name": "Python 3",
   "language": "python",
   "name": "python3"
  },
  "language_info": {
   "codemirror_mode": {
    "name": "ipython",
    "version": 3
   },
   "file_extension": ".py",
   "mimetype": "text/x-python",
   "name": "python",
   "nbconvert_exporter": "python",
   "pygments_lexer": "ipython3",
   "version": "3.8.5"
  }
 },
 "nbformat": 4,
 "nbformat_minor": 4
}
