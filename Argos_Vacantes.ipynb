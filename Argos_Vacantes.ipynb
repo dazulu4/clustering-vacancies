{
 "cells": [
  {
   "cell_type": "code",
   "execution_count": null,
   "metadata": {},
   "outputs": [],
   "source": [
    "#!pip install langdetect\n",
    "#!pip install pyLDAvis\n",
    "#!pip install spacy==3.0.5\n",
    "#!pip install spacy-spanish-lemmatizer==0.6\n",
    "#!spacy download es_core_news_sm\n",
    "#!python3 -m spacy_spanish_lemmatizer download wiki\n",
    "#!pip install google_trans_new"
   ]
  },
  {
   "cell_type": "code",
   "execution_count": 1,
   "metadata": {},
   "outputs": [
    {
     "name": "stderr",
     "output_type": "stream",
     "text": [
      "/home/alexander/anaconda3/lib/python3.8/site-packages/sklearn/decomposition/_lda.py:28: DeprecationWarning: `np.float` is a deprecated alias for the builtin `float`. To silence this warning, use `float` by itself. Doing this will not modify any behavior and is safe. If you specifically wanted the numpy scalar type, use `np.float64` here.\n",
      "Deprecated in NumPy 1.20; for more details and guidance: https://numpy.org/devdocs/release/1.20.0-notes.html#deprecations\n",
      "  EPS = np.finfo(np.float).eps\n"
     ]
    }
   ],
   "source": [
    "import langdetect  # language detection\n",
    "import google_trans_new as gt\n",
    "import nltk  # natural language processing\n",
    "from nltk.corpus import words\n",
    "from nltk.stem.wordnet import WordNetLemmatizer\n",
    "import pyLDAvis  # plotting\n",
    "import pyLDAvis.sklearn  # plotting\n",
    "import sklearn  # machine learning\n",
    "import numpy  # arrays and matrices\n",
    "import pandas  # dataframes\n",
    "import regex  # regular expressions\n",
    "import string\n",
    "from unicodedata import normalize\n",
    "import spacy\n",
    "import spacy_spanish_lemmatizer\n",
    "from html import unescape\n",
    "from numbers import Number\n",
    "from joblib import Parallel, delayed\n",
    "from pytictoc import TicToc"
   ]
  },
  {
   "cell_type": "code",
   "execution_count": 2,
   "metadata": {},
   "outputs": [
    {
     "name": "stderr",
     "output_type": "stream",
     "text": [
      "/home/alexander/anaconda3/lib/python3.8/site-packages/ipykernel/ipkernel.py:287: DeprecationWarning: `should_run_async` will not call `transform_cell` automatically in the future. Please pass the result to `transformed_cell` argument and any exception that happen during thetransform in `preprocessing_exc_tuple` in IPython 7.17 and above.\n",
      "  and should_run_async(code)\n"
     ]
    }
   ],
   "source": [
    "# added to suppress warnings coming from pyLDAvis\n",
    "import warnings\n",
    "warnings.filterwarnings('ignore')\n",
    "\n",
    "# plotting\n",
    "import matplotlib.pyplot\n",
    "%matplotlib inline\n",
    "\n",
    "# init time counter\n",
    "tictoc = TicToc()\n",
    "\n",
    "# init translator\n",
    "translator = gt.google_translator()"
   ]
  },
  {
   "cell_type": "code",
   "execution_count": 3,
   "metadata": {},
   "outputs": [
    {
     "name": "stderr",
     "output_type": "stream",
     "text": [
      "[nltk_data] Downloading package words to /home/alexander/nltk_data...\n",
      "[nltk_data]   Package words is already up-to-date!\n",
      "[nltk_data] Downloading package wordnet to\n",
      "[nltk_data]     /home/alexander/nltk_data...\n",
      "[nltk_data]   Package wordnet is already up-to-date!\n",
      "[nltk_data] Downloading package stopwords to\n",
      "[nltk_data]     /home/alexander/nltk_data...\n",
      "[nltk_data]   Package stopwords is already up-to-date!\n"
     ]
    },
    {
     "name": "stdout",
     "output_type": "stream",
     "text": [
      "Cantidad de stopwords: 608\n"
     ]
    }
   ],
   "source": [
    "# installing specific word dictionarys\n",
    "# used for stopword removal and lemmatization\n",
    "\n",
    "nltk.download(\"words\")\n",
    "nltk.download(\"wordnet\")\n",
    "nltk.download(\"stopwords\")\n",
    "\n",
    "nlp = spacy.load(\"es_core_news_sm\")\n",
    "nlp.replace_pipe(\"lemmatizer\", \"spanish_lemmatizer\")\n",
    "\n",
    "stopwords = set(pandas.read_csv(\"stopwords/stopwords.csv\").word.tolist())\n",
    "stopwords = set([i for i in stopwords if type(i) == str])\n",
    "print(f'Cantidad de stopwords: {len(stopwords)}')"
   ]
  },
  {
   "cell_type": "code",
   "execution_count": 4,
   "metadata": {},
   "outputs": [
    {
     "name": "stdout",
     "output_type": "stream",
     "text": [
      "SHAPE:\n",
      "(15, 5)\n",
      "\n",
      "COLUMN NAMES:\n",
      "['Encargado', 'Vacante', 'Descripción vacante', 'Requerimientos', 'idioma']\n",
      "\n"
     ]
    },
    {
     "data": {
      "text/html": [
       "<div>\n",
       "<style scoped>\n",
       "    .dataframe tbody tr th:only-of-type {\n",
       "        vertical-align: middle;\n",
       "    }\n",
       "\n",
       "    .dataframe tbody tr th {\n",
       "        vertical-align: top;\n",
       "    }\n",
       "\n",
       "    .dataframe thead th {\n",
       "        text-align: right;\n",
       "    }\n",
       "</style>\n",
       "<table border=\"1\" class=\"dataframe\">\n",
       "  <thead>\n",
       "    <tr style=\"text-align: right;\">\n",
       "      <th></th>\n",
       "      <th>Encargado</th>\n",
       "      <th>Vacante</th>\n",
       "      <th>Descripción vacante</th>\n",
       "      <th>Requerimientos</th>\n",
       "      <th>idioma</th>\n",
       "    </tr>\n",
       "  </thead>\n",
       "  <tbody>\n",
       "    <tr>\n",
       "      <th>0</th>\n",
       "      <td>Tomas</td>\n",
       "      <td>ESTUDIANTE DE PRACTICA EN COMUNICACION SOCIAL ...</td>\n",
       "      <td>Redactar, editar y publicar información releva...</td>\n",
       "      <td>Comunicación social y periodismo</td>\n",
       "      <td>español</td>\n",
       "    </tr>\n",
       "    <tr>\n",
       "      <th>1</th>\n",
       "      <td>Tomas</td>\n",
       "      <td>TERRITORY SALES MANAGER JOB (grupoargos.com)</td>\n",
       "      <td>The Territory Sales Manager is an individual c...</td>\n",
       "      <td>English Office</td>\n",
       "      <td>ingles</td>\n",
       "    </tr>\n",
       "    <tr>\n",
       "      <th>2</th>\n",
       "      <td>Tomas</td>\n",
       "      <td>SUPERVISION OMM REDUCCION DE PERDIDAS (grupoar...</td>\n",
       "      <td>Programar, supervisar la ejecución de las acci...</td>\n",
       "      <td>Tecnología electrica</td>\n",
       "      <td>español</td>\n",
       "    </tr>\n",
       "    <tr>\n",
       "      <th>3</th>\n",
       "      <td>Tomas</td>\n",
       "      <td>PRODUCTION MANAGER II JOB (grupoargos.com)</td>\n",
       "      <td>To manage the production department so that al...</td>\n",
       "      <td>Experience in cement and process manufacturing...</td>\n",
       "      <td>ingles</td>\n",
       "    </tr>\n",
       "    <tr>\n",
       "      <th>4</th>\n",
       "      <td>Tomas</td>\n",
       "      <td>ESTRUCTURACION PROYECTOS INTEGRALES (grupoargo...</td>\n",
       "      <td>Liderar la estructuración e implementación de ...</td>\n",
       "      <td>Ingenieria, Arquitectura, Administracion    \\n...</td>\n",
       "      <td>español</td>\n",
       "    </tr>\n",
       "  </tbody>\n",
       "</table>\n",
       "</div>"
      ],
      "text/plain": [
       "  Encargado                                            Vacante  \\\n",
       "0     Tomas  ESTUDIANTE DE PRACTICA EN COMUNICACION SOCIAL ...   \n",
       "1     Tomas       TERRITORY SALES MANAGER JOB (grupoargos.com)   \n",
       "2     Tomas  SUPERVISION OMM REDUCCION DE PERDIDAS (grupoar...   \n",
       "3     Tomas         PRODUCTION MANAGER II JOB (grupoargos.com)   \n",
       "4     Tomas  ESTRUCTURACION PROYECTOS INTEGRALES (grupoargo...   \n",
       "\n",
       "                                 Descripción vacante  \\\n",
       "0  Redactar, editar y publicar información releva...   \n",
       "1  The Territory Sales Manager is an individual c...   \n",
       "2  Programar, supervisar la ejecución de las acci...   \n",
       "3  To manage the production department so that al...   \n",
       "4  Liderar la estructuración e implementación de ...   \n",
       "\n",
       "                                      Requerimientos   idioma  \n",
       "0                   Comunicación social y periodismo  español  \n",
       "1                                     English Office   ingles  \n",
       "2                              Tecnología electrica   español  \n",
       "3  Experience in cement and process manufacturing...   ingles  \n",
       "4  Ingenieria, Arquitectura, Administracion    \\n...  español  "
      ]
     },
     "execution_count": 4,
     "metadata": {},
     "output_type": "execute_result"
    }
   ],
   "source": [
    "path = 'argos_vacantes.xlsx'\n",
    "df = pandas.read_excel(path, sheet_name=\"Hoja1\")\n",
    "print(\"SHAPE:\\n{shape}\\n\".format(shape=df.shape))\n",
    "print(\"COLUMN NAMES:\\n{names}\\n\".format(names=df.columns.tolist()))\n",
    "df.head()"
   ]
  },
  {
   "cell_type": "code",
   "execution_count": 6,
   "metadata": {},
   "outputs": [
    {
     "name": "stdout",
     "output_type": "stream",
     "text": [
      "DESCRIPTIONS:\n",
      "['Redactar, editar y publicar información relevante en los diferentes medios de difusión. Diseñar piezas gráficas para diferentes eventos, realización de campañas de expectativa']\n",
      "\n",
      "DESCRIPTIONS:\n",
      "['Comunicación social y periodismo']\n",
      "\n"
     ]
    }
   ],
   "source": [
    "descriptions = df['Descripción vacante'].tolist()\n",
    "print(\"DESCRIPTIONS:\\n{lines}\\n\".format(lines=descriptions[:1]))\n",
    "requirements = df['Requerimientos'].tolist()\n",
    "print(\"DESCRIPTIONS:\\n{lines}\\n\".format(lines=requirements[:1]))"
   ]
  },
  {
   "cell_type": "code",
   "execution_count": 5,
   "metadata": {},
   "outputs": [],
   "source": [
    "# check language of headline, filter to spanish only\n",
    "def do_language_translate(txt):\n",
    "    lg = 'none'\n",
    "    try: \n",
    "        lg = langdetect.detect(txt)\n",
    "    except: \n",
    "        pass\n",
    "    if lg == 'en':\n",
    "        return translator.translate(txt,lang_src='en',lang_tgt='es')\n",
    "    elif lg != 'es': \n",
    "        return ''\n",
    "    return txt\n",
    "\n",
    "def do_clean_html(txt):\n",
    "    cleantxt = unescape(str(txt))\n",
    "    cleanr = regex.compile('<.*?>|&([a-z0-9]+|#[0-9]{1,6}|#x[0-9a-f]{1,6});')\n",
    "    return regex.sub(cleanr, ' ', cleantxt)\n",
    "\n",
    "def do_clean_stopwords(txt):\n",
    "    out = [t for t in txt.split(\" \") if t.lower() not in stopwords]\n",
    "    return \" \".join(out)\n",
    "\n",
    "# define function to cleaning data\n",
    "def do_clean_text(txt):\n",
    "    txt = txt.lower()\n",
    "    \n",
    "    # Remove text in square brackets, remove punctuation and remove words containing numbers.\n",
    "    #txt = txt.replace(\"ñ\", \"nh\")\n",
    "    txt = regex.sub(r\"\\[.*?¿¡!·\\]\\%\", \" \", txt)\n",
    "    txt = regex.sub(r\"https://\", \"\", txt)\n",
    "    txt = regex.sub(r\"www.\", \"\", txt)\n",
    "    txt = regex.sub(r\"[‘’“”…«»]\", \" \", txt)\n",
    "    txt = regex.sub(r'[\"\\[\\]\\{\\}]', \" \", txt)\n",
    "    txt = regex.sub(r\"_\", \" \", txt)\n",
    "    txt = regex.sub(r\"[%s]\" % regex.escape(string.punctuation), \" \", txt)\n",
    "    txt = regex.sub(r\"\\w*\\d\\w*\", \" \", txt)\n",
    "    txt = regex.sub(\n",
    "        r\"([^n\\u0300-\\u036f]|n(?!\\u0303(?![\\u0300-\\u036f])))[\\u0300-\\u036f]+\", r\"\\1\", \n",
    "        normalize(\"NFD\", txt), 0, regex.I\n",
    "    )\n",
    "    txt = regex.sub(r\"\\n\", \" \", txt)\n",
    "    txt = regex.sub(r\"&lt;/?.*?&gt;\", \" &lt;&gt; \", txt)\n",
    "\n",
    "    # Eliminar caracteres que se repitan más de dos veces seguidas\n",
    "    pattern = regex.compile(r\"(.)\\1{2,}\")\n",
    "    txt = pattern.sub(r\"\\1\\1\", txt)\n",
    "    \n",
    "    return txt.strip(' ')\n",
    "\n",
    "# define function to perform lemmatization\n",
    "def do_lemmatizing(txt):\n",
    "    out = [word.lemma_ for word in nlp(txt)]\n",
    "    return \" \".join(out)\n",
    "\n",
    "def do_clean_blanks(tokens):\n",
    "    tokens = [str(i).strip(' ') for i in tokens]\n",
    "    tokens = [i for i in tokens if len(i) >= 3]\n",
    "    return tokens\n",
    "\n",
    "def do_split_tokens(txt):\n",
    "    return txt.split(' ')\n",
    "\n",
    "# define function to execute pipeline pre-processing\n",
    "def do_prepare_pipeline(element, pipeline):\n",
    "    inout_data = element if not isinstance(element, Number) else str(element)\n",
    "    for transform in pipeline:\n",
    "        inout_data = transform(inout_data)\n",
    "    return inout_data if inout_data and len(inout_data) > 0 else None"
   ]
  },
  {
   "cell_type": "code",
   "execution_count": 7,
   "metadata": {},
   "outputs": [
    {
     "name": "stdout",
     "output_type": "stream",
     "text": [
      "['redactar', 'editar', 'publicar', 'informacion', 'relevante', 'medios', 'difusion', 'diseñar', 'piezas', 'graficas', 'eventos', 'realizacion', 'campañas', 'expectativa']\n"
     ]
    }
   ],
   "source": [
    "# define pipeline to text pre-processing\n",
    "pipeline = [\n",
    "    do_clean_html,\n",
    "    do_language_translate,\n",
    "    do_clean_stopwords,\n",
    "    #do_lemmatizing,\n",
    "    do_clean_text,\n",
    "    do_split_tokens,\n",
    "    do_clean_blanks,\n",
    "]\n",
    "\n",
    "print(do_prepare_pipeline(descriptions[:1], pipeline))"
   ]
  },
  {
   "cell_type": "code",
   "execution_count": 8,
   "metadata": {},
   "outputs": [
    {
     "name": "stdout",
     "output_type": "stream",
     "text": [
      "Elapsed time 4.427058 seconds.\n"
     ]
    }
   ],
   "source": [
    "# apply cleaning function to every vacancy\n",
    "tictoc.tic()\n",
    "clean_descriptions = Parallel(n_jobs=24)(delayed(do_prepare_pipeline)(txt, pipeline) for txt in descriptions)\n",
    "tictoc.toc('Elapsed time')"
   ]
  },
  {
   "cell_type": "code",
   "execution_count": 9,
   "metadata": {},
   "outputs": [
    {
     "name": "stdout",
     "output_type": "stream",
     "text": [
      "Elapsed time 2.409752 seconds.\n"
     ]
    }
   ],
   "source": [
    "# apply cleaning function to every vacancy\n",
    "tictoc.tic()\n",
    "clean_requirements = Parallel(n_jobs=24)(delayed(do_prepare_pipeline)(txt, pipeline) for txt in requirements)\n",
    "tictoc.toc('Elapsed time')"
   ]
  },
  {
   "cell_type": "code",
   "execution_count": 10,
   "metadata": {},
   "outputs": [
    {
     "name": "stdout",
     "output_type": "stream",
     "text": [
      "CLEAN DESCRIPTIONS:\n",
      "['redactar editar publicar informacion relevante medios difusion diseñar piezas graficas eventos realizacion campañas expectativa']\n",
      "\n",
      "CLEAN REQUIREMENTS:\n",
      "['comunicacion social periodismo']\n",
      "\n"
     ]
    }
   ],
   "source": [
    "clean_sentences1 = [\" \".join(i) if 'list' in str(type(i)) else '' for i in clean_descriptions]\n",
    "print(\"CLEAN DESCRIPTIONS:\\n{lines}\\n\".format(lines=clean_sentences1[:1]))\n",
    "\n",
    "clean_sentences2 = [\" \".join(i) if 'list' in str(type(i)) else '' for i in clean_requirements]\n",
    "print(\"CLEAN REQUIREMENTS:\\n{lines}\\n\".format(lines=clean_sentences2[:1]))"
   ]
  },
  {
   "cell_type": "code",
   "execution_count": 11,
   "metadata": {},
   "outputs": [
    {
     "data": {
      "text/html": [
       "<div>\n",
       "<style scoped>\n",
       "    .dataframe tbody tr th:only-of-type {\n",
       "        vertical-align: middle;\n",
       "    }\n",
       "\n",
       "    .dataframe tbody tr th {\n",
       "        vertical-align: top;\n",
       "    }\n",
       "\n",
       "    .dataframe thead th {\n",
       "        text-align: right;\n",
       "    }\n",
       "</style>\n",
       "<table border=\"1\" class=\"dataframe\">\n",
       "  <thead>\n",
       "    <tr style=\"text-align: right;\">\n",
       "      <th></th>\n",
       "      <th>Encargado</th>\n",
       "      <th>Vacante</th>\n",
       "      <th>Descripción vacante</th>\n",
       "      <th>Requerimientos</th>\n",
       "      <th>idioma</th>\n",
       "      <th>new_description</th>\n",
       "      <th>new_requirements</th>\n",
       "    </tr>\n",
       "  </thead>\n",
       "  <tbody>\n",
       "    <tr>\n",
       "      <th>0</th>\n",
       "      <td>Tomas</td>\n",
       "      <td>ESTUDIANTE DE PRACTICA EN COMUNICACION SOCIAL ...</td>\n",
       "      <td>Redactar, editar y publicar información releva...</td>\n",
       "      <td>Comunicación social y periodismo</td>\n",
       "      <td>español</td>\n",
       "      <td>redactar editar publicar informacion relevante...</td>\n",
       "      <td>comunicacion social periodismo</td>\n",
       "    </tr>\n",
       "    <tr>\n",
       "      <th>1</th>\n",
       "      <td>Tomas</td>\n",
       "      <td>TERRITORY SALES MANAGER JOB (grupoargos.com)</td>\n",
       "      <td>The Territory Sales Manager is an individual c...</td>\n",
       "      <td>English Office</td>\n",
       "      <td>ingles</td>\n",
       "      <td>gerente ventas territorio papel contribuyente ...</td>\n",
       "      <td>oficina ingles</td>\n",
       "    </tr>\n",
       "    <tr>\n",
       "      <th>2</th>\n",
       "      <td>Tomas</td>\n",
       "      <td>SUPERVISION OMM REDUCCION DE PERDIDAS (grupoar...</td>\n",
       "      <td>Programar, supervisar la ejecución de las acci...</td>\n",
       "      <td>Tecnología electrica</td>\n",
       "      <td>español</td>\n",
       "      <td>programar supervisar ejecucion acciones plan r...</td>\n",
       "      <td>tecnologia electrica</td>\n",
       "    </tr>\n",
       "    <tr>\n",
       "      <th>3</th>\n",
       "      <td>Tomas</td>\n",
       "      <td>PRODUCTION MANAGER II JOB (grupoargos.com)</td>\n",
       "      <td>To manage the production department so that al...</td>\n",
       "      <td>Experience in cement and process manufacturing...</td>\n",
       "      <td>ingles</td>\n",
       "      <td>administrar departamento produccion secciones ...</td>\n",
       "      <td>experiencia fabricacion cemento procesos indus...</td>\n",
       "    </tr>\n",
       "    <tr>\n",
       "      <th>4</th>\n",
       "      <td>Tomas</td>\n",
       "      <td>ESTRUCTURACION PROYECTOS INTEGRALES (grupoargo...</td>\n",
       "      <td>Liderar la estructuración e implementación de ...</td>\n",
       "      <td>Ingenieria, Arquitectura, Administracion    \\n...</td>\n",
       "      <td>español</td>\n",
       "      <td>liderar estructuracion implementacion proyecto...</td>\n",
       "      <td>ingenieria arquitectura administracion especia...</td>\n",
       "    </tr>\n",
       "  </tbody>\n",
       "</table>\n",
       "</div>"
      ],
      "text/plain": [
       "  Encargado                                            Vacante  \\\n",
       "0     Tomas  ESTUDIANTE DE PRACTICA EN COMUNICACION SOCIAL ...   \n",
       "1     Tomas       TERRITORY SALES MANAGER JOB (grupoargos.com)   \n",
       "2     Tomas  SUPERVISION OMM REDUCCION DE PERDIDAS (grupoar...   \n",
       "3     Tomas         PRODUCTION MANAGER II JOB (grupoargos.com)   \n",
       "4     Tomas  ESTRUCTURACION PROYECTOS INTEGRALES (grupoargo...   \n",
       "\n",
       "                                 Descripción vacante  \\\n",
       "0  Redactar, editar y publicar información releva...   \n",
       "1  The Territory Sales Manager is an individual c...   \n",
       "2  Programar, supervisar la ejecución de las acci...   \n",
       "3  To manage the production department so that al...   \n",
       "4  Liderar la estructuración e implementación de ...   \n",
       "\n",
       "                                      Requerimientos   idioma  \\\n",
       "0                   Comunicación social y periodismo  español   \n",
       "1                                     English Office   ingles   \n",
       "2                              Tecnología electrica   español   \n",
       "3  Experience in cement and process manufacturing...   ingles   \n",
       "4  Ingenieria, Arquitectura, Administracion    \\n...  español   \n",
       "\n",
       "                                     new_description  \\\n",
       "0  redactar editar publicar informacion relevante...   \n",
       "1  gerente ventas territorio papel contribuyente ...   \n",
       "2  programar supervisar ejecucion acciones plan r...   \n",
       "3  administrar departamento produccion secciones ...   \n",
       "4  liderar estructuracion implementacion proyecto...   \n",
       "\n",
       "                                    new_requirements  \n",
       "0                     comunicacion social periodismo  \n",
       "1                                     oficina ingles  \n",
       "2                               tecnologia electrica  \n",
       "3  experiencia fabricacion cemento procesos indus...  \n",
       "4  ingenieria arquitectura administracion especia...  "
      ]
     },
     "execution_count": 11,
     "metadata": {},
     "output_type": "execute_result"
    }
   ],
   "source": [
    "# save to backup data cleaned\n",
    "clean_df = df.copy()\n",
    "clean_df['new_description'] = clean_sentences1\n",
    "clean_df['new_requirements'] = clean_sentences2\n",
    "clean_df.to_excel(\"argos_vacantes_clean.xlsx\", sheet_name=\"Data\", encoding=\"utf-8\")\n",
    "clean_df.head()"
   ]
  },
  {
   "cell_type": "code",
   "execution_count": 14,
   "metadata": {},
   "outputs": [
    {
     "data": {
      "text/plain": [
       "['gerente ventas territorio papel contribuyente individual gestion territorio responsabilidades tecnicas basicas responsabilidades generales funcion desarrollar mantener estrategia empresarial diseñada obtener proteger participacion mercado cuentas territorio brindar servicio tecnico basico clientes argos liderar esfuerzos marketing ventas territorio ventas monitorear calidad rendimiento argos productos competitivos territorio crea estrategia comercial clara cuentas canales clave por ejemplo aumentar participacion mamposteria penetracion cuenta proteger base existente etc desarrolla objetivos ingresos productos realistas alcanzables entiende ofrecer clientes enfasis clave canal paquete identifica entiende paisaje competitivo desarrolla planes maximizar potencial cuentas utiliza practicas gestion cuentas implementa estrategias distrito decir logro precio promueve productos argos territorio enfasis segmentos mamposteria estuco proporciona asistencia tecnica basica utiliza recursos necesario satisfacer problemas productos servicios mamposteria problemas problemas estuco proporciona capacitacion educacion clientes incluir enfoque estrategias tirar traves reune inteligencia territorio clientes competidores clientes potenciales mantiene sucesion realista clientes vender pierden volumenes desarrolla mantiene fortalece relaciones clientes representar argos participar activamente asociaciones comerciales necesario destaca innovacion oportunidades desarrollo productos idea desarrolla sistema planificacion llamadas efectivo garantizar cobertura adecuada incluye futura poblacion crm incorpore eficazmente estrategias tirar traves mantener aumentar canal paquetes incluir ofrendas mamposteria color argos identificar oportunidades servicio mejora productos utilizo sistemas argos mantener pronosticos precisos precios gastos futuros informes crm gestione objetivos capital reunion dso objetivos demuestra compromiso comunicar mejorar adherirse politicas seguridad entornos areas',\n",
       " 'administrar departamento produccion secciones funcionen unidad cohesiva supervise optimizacion utilizacion confiabilidad equipo manteniendo calidad cumplimiento limitacion ambiental debajo costos presupuestados gerente produccion administra departamento procesos apoyar comunicarse coordinar necesidades plantas problemas proceso ingenieria busqueda continua optimizacion lograr mejora continua probarse gerente produccion exitoso industria fabricacion cemento programacion plazo supervision produccion planta mantenimiento calidad cumplimiento ambiental seguridad tareas principales titular responsable preparar presupuesto anual departamentos conjunciones controlador planta monitorear rendimiento relacion presupuesto mensual responsable desarrollar gastos capital necesarios departamento mantener mejorar productividad importante contribuyente plan tecnico años mantener relacion solida empleados hora ejecutivo sindical limites acuerdo colectivo titular informado facetas operacion planta cemento deberia reemplazar cualquiera subordinados necesario mantenerse tecnologia receptivo ideas ejecutar ensayos prueba necesario titular ayuda prepararse garantiza departamentos desarrollando personas capacitacion comunicacion realiza reuniones comunicacion regulares compañeros subordinados garantiza informacion reduciendo niveles bajos disponible llame base giratoria miembros personal planta evalua desempeño personal discusiones regulares objetivos revision desempeño finales gerente produccion garantizar subordinados trabajando segura ambientalmente aceptable reuniones seguridad mensuales regulares revisiones entrenamiento empleo tomar papel liderazgo programa seguridad vegetal insistir activamente cumplimiento ambiental permisos requisitos reglamentarios trabaje tiendas departamento compra establecer piezas repuesto niveles inventario necesarios proporcionar controlador acumulacion mensuales relacionadas departamento produccion responsable revisar actuaciones operativas planta garantizar adhesion revision planes tecnicos corporativos estandares calidad practicas produccion optimas',\n",
       " 'responsable aspectos generacion ventas ingresos area ventas generacion plomo recoleccion manteniendo mejorando relaciones actuales clientes area ventas resultados miden logro ebitda volumen ingresos presupuestados mantienen precio venta promedio cuota mercado servicio atencion cliente superior rentabilidad ademas responsabilidades incluyen promocion cultura seguridad implementar politicas procedimientos seguridad requeridos salud seguridad demuestre compromiso comunicar mejorar adherirse politicas seguridad entornos areas asegura aspectos funcion ejecuten safemanner observe directrices seguridad encuentran operaciones sitios construccion andargos enfoque area ventas prepare planes accion horarios objetivos identificados especificos proyectar numero contactos realizaran seguimiento clientes potenciales referencias resultantes actividad campo identificar perspectivas ventas ponerse contacto cuentas asassigned prepare presentaciones propuestas contratos ventas desarrollar mantener materiales ventas conocimiento actual establecer mantener cliente actual posibles referencias clientales prepare cuentas documentos credito activar servicios contratos ymaintain pistas planeadas negociadasprojectas comentarios especificaciones citas seguimiento llega conclusion proyectos oferta cita precios terminos credito prepara propuestas contratos pedidos obtenidos recopila cuentas clientes vencidas ayudan resolver problemas relacionados cliente ciclo negocios ventas marketing mantenga informacion relacionada participacion tomarket precio venta cierres empleo segmentacion clientes etc use informacion proyectos precios supervision continua gerente ventas responsable identificar seguimiento proyectos seguimiento etapa temprana desarrollo rastrear andreport trabajos ganaron perdieron siguieron participacion mercado estrategia crea estrategia comercial clara cuentas clave por ejemplo penetracion cuenta penetracion cuenta protege base existente etc comunique oportunidades productos servicios desarrollos especiales informacion especial informacion comentarios recopilados personal empresa apropiado productos agregado vasp promueva ventas especiales productos detenidamente cliente identificar problemas problemas especificos abordar argosvasps ayude clientes obtener informacion concreta relaciones fortalezas marketing agregado productos marca marca proveedor compañia promueve almuerzo aprendizaje vasp strouch dias placer etc orientacion cliente comuniquese clientes irregularidad anycretete ayuda empleados apoyo identificar resolver preocupaciones problemas cliente parcializacion procesar contratos proyectos clientes garantizar correccion adecuada mezclas correctas evitar respaldos carga cogustinos infelices ayudar preocupaciones clientes resuelven oportuna funciona positivamente miembro equipo mandasion envio personal plantas comunicacion obtenga informacion departamento credito andresolve problema relacionado credito cuentas cobrar ayudadas sitio programar entregar entregas informes presupuesto pronostico proporciona informes precisos pronostico backlog cartera clientes prepare variedad reportajes estado incluidas actividad cierres seguimiento puntos adherencia sistemas procesos computadora correo electronico cotizacion hojas calculo contratos etc adhiere politicas empresa procedimientos codigos etica empresarial garantiza comuniquen implementen equipo',\n",
       " 'informe coordinador produccion supervisaran actividades diarias empleados produccion produccion garantizan actividades realicen directrices seguridad ambientales operaran lineas proceso planta equipos auxiliares relacionados ubicacion central garantizan seguridad empleados integridad activos compañia proporcionar liderazgo seguridad turno servicio limpieza equipo operativo directrices ambientales realice funciones segura cumpla regulaciones planta empresa estatal federal msha proporciona orientacion entrenamiento instruccion cambiar empleados necesario administra rendimiento empleados turnos proporcionan comentarios oportunos siguiendo ciclo gestion rendimiento problemas solucion problemas realizando decisiones operativas tomando acciones correctivas liderando cambio mejora continua produccion consistente cemento clinker mezcla cruda directrices calidad establecidas garantizan acciones comunicacion adecuadas desviacion analizar continuamente equipo rendimiento sistema garantizar confiabilidad produccion calidad producto optimos siga procedimientos operativos estandar sops mantenga registro cambios preciso actividades ppw incluidas razones documentacion inactividad equipo informacion calidad producto informe general desempeño problemas operativos cambio participa completa exito programa certificacion operador sala control responsable desarrollo empleados capacitacion empleados turno gestiona efectivamente recursos empleados mantener funcionamiento eficiente planta utilizando llamadas contratistas necesario actua lider principal sitio horas horario manteniendo comunicacion equipo administracion necesario responsable iniciar comunicacion transversal efectiva departamental asegurese funciones administrativas turno realicen creacion pedidos trabajo validando hojas empleados asistencia seguimiento vacaciones entrada nomina presentar actitud positiva profesional',\n",
       " 'responsable apoyar diseño administracion entrega informacion cliente mercado activo negocios cemento rmx apoyar desarrollo conocimiento cliente cemento mezcla listos necesidades requisitos establecer sistemas informacion recopilacion datos tecnicas encuestas metodologias procesamiento informacion desarrolle analisis tecnicas datos mercado mercado proporcionar informacion respalde desarrollo equipos ventas markeria segmentacion adecuada orientacion posicionamiento enfoque mercado incluido desarrollo entrega proposicion objetivo diseño proporciona informacion consolidada metricas clave marketing ventas dashbaards informes presentaciones respaldar crecimiento ventas rentabilidad entrega objetivos estrategias comerciales compañia mejore calidad puntualidad alcance mercado cemento mezcla listos informacion cliente requerida equipos region buscan oportunidades automatizar recopilacion procesamiento prestacion diseñar implementar mejorar metodos mineria datos metricas analizar volumen precios tendencias margen unidades negocios bus desarrollar recomendaciones cortas medianas plazo experiencia cliente premium ingresos mejora margen entregue paneles interactivos estrategicos procesables informes integrar experiencia cliente kpi metricas comerciales tradicionales areas autobus mercados extraiga sintetice analice datos cuantitativos cualitativos fuentes construyendo conjuntos datos ejercicios informes hoc mensuales trimestrales sobre \\u200b\\u200bclientes canales productos precios mercados tendencias industria actuacion empresas explore comprenda conjuntos datos transaccionales fusionando fuentes datos relacionadas conjuntos datos eficientes curados construir codificar logica negocios complejos atributos analisis proponer funciones analisis negocios inteligencia negocios evaluando datos operativos region tendencias industria segmentos volumenes clientes precios descuentos evolucion rentabilidad efectos paisaje competitivo comparte mercado componentes clave apoyar procesos estrategicos toma decisiones objetivos crecimiento rentable proporcionar analisis fuertes capacidades narracion cuentos influyendo compañeros lideres principales tomar medidas mejora basadas ideas por ejemplo segmentacion propuesta valor otras investigue puntos referencia mercado externos evaluar tendencias desarrollar ideas recomendaciones procesables mercados responsables decision gerencia media ejecutivos investigacion actividad contacto interaccion clientes organizacion identificar areas conectividad ofrecer areas autobus soporte vision \\u200b\\u200b° comprension profunda clientes necesidades comportamientos evolucionantes expectativas negocios segmentos geografia prepare presentaciones hoc dignas audiencias nivel ejecutivo junta incluidos datos economicos indicadores industria mercados informacion comercial metricas operativas otras',\n",
       " 'salud seguridad demuestre compromiso comunicar mejorar adherirse politicas seguridad entornos areas asegura aspectos funcion ejecuten segura obverige directrices seguridad sitios construccion operaciones argos enfoque area ventas prepare planes accion horarios identificar objetivos especificos proyectar numero contactos realizar seguimiento cables referencias resultantes actividad campo identifique perspectivas ventas pongase contacto cuentas asignado preparar presentaciones propuestas contratos ventas desarrollar mantener materiales ventas conocimiento actual producto establecer mantener cliente actual posibles relaciones clientes prepare cuentas papeles credito activar mantener servicios contrato pistas planeadas negociadas proyectos comentarios especificaciones citas llega conclusion proyectos oferta cita precios terminos credito prepara propuestas contratos pedidos obtenidos recopila cuentas clientes vencidas ayudan resolver problemas relacionados cliente ciclo comercial ventas marketing mantenga informacion relacionada cuota mercado precio venta cierres empleo segmentacion clientes etc use informacion proyectos precios supervision continua gerente ventas responsable identificar rastrear proyectos etapa temprana desarrollo pista informe trabajos ganados perdidos seguimos cuota mercado estrategia crea estrategia comercial clara cuentas clave por ejemplo accion aumento penetracion cuenta protege base existente etc comunique oportunidades productos servicios desarrollos especiales informacion comentarios recopilados actividad campo personal empresa apropiado productos agregado vasp promueva ventas especiales productos estrechamente cliente identificar problemas problemas especificos abordar vasps argos ayude clientes obtener informacion concreta fortalece relaciones clientes productos marketing agregado productos marca proveedor compañia promueve vasp almuerzo aprende dias placer etc orientacion cliente comuniquese clientes irregularidad concreta ayuda personal apoyo identificar resolver preocupaciones problemas cliente ambas partes satisfaccion procesar contratos proyectos clientes garantizar precio adecuado mezclas correctas evitar respaldos carga clientes infelices ayudar preocupaciones clientes resuelven oportuna funciona positivamente miembro equipo personal gestion despacho planta comunicacion obtenga informacion departamento credito resuelva problema relacionado credito cuentas cobrar ayuda operaciones sitio programar dirigir entregas informes presupuesto pronostico proporciona informes precisos pronostico backlog cartera clientes prepare variedad informes estado incluida actividad cierres seguimiento adherencia objetivos sistemas procesos computadora correo electronico cotizacion hojas calculo contratos etc adhiere politicas compañia procedimientos codigos etica empresarial garantiza comuniquen implementen equipo entra experiencia ventas construccion exposicion gestion proyectos ventas estimacion conocimientos tecnicos certificaciones office construction sales']"
      ]
     },
     "execution_count": 14,
     "metadata": {},
     "output_type": "execute_result"
    }
   ],
   "source": [
    "clean_df[clean_df['idioma']=='ingles']['new_description'].tolist()"
   ]
  },
  {
   "cell_type": "code",
   "execution_count": 15,
   "metadata": {},
   "outputs": [
    {
     "data": {
      "text/plain": [
       "['oficina ingles',\n",
       " 'experiencia fabricacion cemento procesos industria relacionada ingles',\n",
       " 'grado asociados relacionados campo construccion negocio prefiere licenciatura conocimiento laboral concreto agregado productos especiales problemente aplicaciones microsoft especificamente excel word powerpoint conocimientos tecnicos certificaciones capacitacion experiencia ventas construccion exposicion gestion proyectos ventas estimacion años experiencia relacionada campo ventas construccion ingles',\n",
       " 'grado asociado fabricacion cemento pantallas hmi aspen pabellon foco plantas sap fabricacion cemento ingles',\n",
       " 'licenciatura investigacion marketing economia matematicas aplicadas estadisticas disciplinas relacionadas ciencia investigacion mercado analitica finanzas negocio analisis negocio inteligencia negocios big data crm excel avanzado powerpoint avanzado power avanzado marketing analisis negocio inteligencia negocios datos ingles nativo avanzado',\n",
       " 'oficina ventas construccion ingles']"
      ]
     },
     "execution_count": 15,
     "metadata": {},
     "output_type": "execute_result"
    }
   ],
   "source": [
    "clean_df[clean_df['idioma']=='ingles']['new_requirements'].tolist()"
   ]
  }
 ],
 "metadata": {
  "kernelspec": {
   "display_name": "Python 3",
   "language": "python",
   "name": "python3"
  },
  "language_info": {
   "codemirror_mode": {
    "name": "ipython",
    "version": 3
   },
   "file_extension": ".py",
   "mimetype": "text/x-python",
   "name": "python",
   "nbconvert_exporter": "python",
   "pygments_lexer": "ipython3",
   "version": "3.8.5"
  }
 },
 "nbformat": 4,
 "nbformat_minor": 4
}
