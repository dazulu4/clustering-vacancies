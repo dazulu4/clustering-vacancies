{
 "cells": [
  {
   "cell_type": "code",
   "execution_count": 1,
   "metadata": {},
   "outputs": [
    {
     "name": "stderr",
     "output_type": "stream",
     "text": [
      "/home/alexander/anaconda3/lib/python3.8/site-packages/sklearn/decomposition/_lda.py:28: DeprecationWarning: `np.float` is a deprecated alias for the builtin `float`. To silence this warning, use `float` by itself. Doing this will not modify any behavior and is safe. If you specifically wanted the numpy scalar type, use `np.float64` here.\n",
      "Deprecated in NumPy 1.20; for more details and guidance: https://numpy.org/devdocs/release/1.20.0-notes.html#deprecations\n",
      "  EPS = np.finfo(np.float).eps\n"
     ]
    }
   ],
   "source": [
    "#!pip install langdetect\n",
    "#!pip install pyLDAvis\n",
    "#!pip install spacy==3.0.5\n",
    "#!pip install spacy-spanish-lemmatizer==0.6\n",
    "#!spacy download es_core_news_sm\n",
    "#!python3 -m spacy_spanish_lemmatizer download wiki\n",
    "\n",
    "import langdetect  # language detection\n",
    "import nltk  # natural language processing\n",
    "from nltk.corpus import words\n",
    "from nltk.stem.wordnet import WordNetLemmatizer\n",
    "import pyLDAvis  # plotting\n",
    "import pyLDAvis.sklearn  # plotting\n",
    "import sklearn  # machine learning\n",
    "import numpy  # arrays and matrices\n",
    "import pandas  # dataframes\n",
    "import regex  # regular expressions\n",
    "import string\n",
    "from unicodedata import normalize\n",
    "import spacy\n",
    "import spacy_spanish_lemmatizer\n",
    "from html import unescape\n",
    "from numbers import Number\n",
    "from joblib import Parallel, delayed\n",
    "from pytictoc import TicToc\n",
    "tictoc = TicToc()\n",
    "\n",
    "# added to suppress warnings coming from pyLDAvis\n",
    "import warnings\n",
    "warnings.filterwarnings('ignore')"
   ]
  },
  {
   "cell_type": "code",
   "execution_count": 2,
   "metadata": {},
   "outputs": [
    {
     "name": "stderr",
     "output_type": "stream",
     "text": [
      "[nltk_data] Downloading package words to /home/alexander/nltk_data...\n",
      "[nltk_data]   Package words is already up-to-date!\n",
      "[nltk_data] Downloading package wordnet to\n",
      "[nltk_data]     /home/alexander/nltk_data...\n",
      "[nltk_data]   Package wordnet is already up-to-date!\n",
      "[nltk_data] Downloading package stopwords to\n",
      "[nltk_data]     /home/alexander/nltk_data...\n",
      "[nltk_data]   Package stopwords is already up-to-date!\n"
     ]
    },
    {
     "name": "stdout",
     "output_type": "stream",
     "text": [
      "Cantidad de stopwords: 608\n"
     ]
    }
   ],
   "source": [
    "# installing specific word dictionarys\n",
    "# used for stopword removal and lemmatization\n",
    "\n",
    "nltk.download(\"words\")\n",
    "nltk.download(\"wordnet\")\n",
    "nltk.download(\"stopwords\")\n",
    "\n",
    "nlp = spacy.load(\"es_core_news_sm\")\n",
    "nlp.replace_pipe(\"lemmatizer\", \"spanish_lemmatizer\")\n",
    "\n",
    "stopwords = set(pandas.read_csv(\"stopwords/stopwords.csv\").word.tolist())\n",
    "stopwords = set([i for i in stopwords if type(i) == str])\n",
    "print(f'Cantidad de stopwords: {len(stopwords)}')"
   ]
  },
  {
   "cell_type": "code",
   "execution_count": 4,
   "metadata": {},
   "outputs": [
    {
     "name": "stdout",
     "output_type": "stream",
     "text": [
      "SHAPE:\n",
      "(2613, 12)\n",
      "\n",
      "COLUMN NAMES:\n",
      "['Cargo', 'Descripcion', 'Educacion requerida', 'Experiencia requerida (meses)', 'Tipo de empleo', 'Empresa', 'Sector', 'Cantidad de aplicantes', 'Fecha de publicacion', 'Fecha de expiracion', 'Ciudad', 'Pais']\n",
      "\n"
     ]
    },
    {
     "data": {
      "text/html": [
       "<div>\n",
       "<style scoped>\n",
       "    .dataframe tbody tr th:only-of-type {\n",
       "        vertical-align: middle;\n",
       "    }\n",
       "\n",
       "    .dataframe tbody tr th {\n",
       "        vertical-align: top;\n",
       "    }\n",
       "\n",
       "    .dataframe thead th {\n",
       "        text-align: right;\n",
       "    }\n",
       "</style>\n",
       "<table border=\"1\" class=\"dataframe\">\n",
       "  <thead>\n",
       "    <tr style=\"text-align: right;\">\n",
       "      <th></th>\n",
       "      <th>Cargo</th>\n",
       "      <th>Descripcion</th>\n",
       "      <th>Educacion requerida</th>\n",
       "      <th>Experiencia requerida (meses)</th>\n",
       "      <th>Tipo de empleo</th>\n",
       "      <th>Empresa</th>\n",
       "      <th>Sector</th>\n",
       "      <th>Cantidad de aplicantes</th>\n",
       "      <th>Fecha de publicacion</th>\n",
       "      <th>Fecha de expiracion</th>\n",
       "      <th>Ciudad</th>\n",
       "      <th>Pais</th>\n",
       "    </tr>\n",
       "  </thead>\n",
       "  <tbody>\n",
       "    <tr>\n",
       "      <th>0</th>\n",
       "      <td>DevOps Senior Engineer</td>\n",
       "      <td>&amp;lt;p&amp;gt;&amp;lt;strong&amp;gt;Position Overview&amp;lt;/s...</td>\n",
       "      <td>bachelor degree</td>\n",
       "      <td>72.0</td>\n",
       "      <td>FULL_TIME</td>\n",
       "      <td>Qual.IT</td>\n",
       "      <td>NaN</td>\n",
       "      <td>NaN</td>\n",
       "      <td>2021-07-12T18:58:44.000Z</td>\n",
       "      <td>2021-08-11T18:58:44.000Z</td>\n",
       "      <td>Medellín</td>\n",
       "      <td>CO</td>\n",
       "    </tr>\n",
       "    <tr>\n",
       "      <th>1</th>\n",
       "      <td>Asesor Comercial experiencia en Belleza</td>\n",
       "      <td>Importante empresa esta solicitando Asesor Com...</td>\n",
       "      <td>bachelor degree</td>\n",
       "      <td>NaN</td>\n",
       "      <td>FULL_TIME</td>\n",
       "      <td>reclutapro.com</td>\n",
       "      <td>Marketing y publicidad,Servicios y tecnologías...</td>\n",
       "      <td>NaN</td>\n",
       "      <td>2021-07-07T10:27:59.000Z</td>\n",
       "      <td>2021-08-06T10:27:59.000Z</td>\n",
       "      <td>Medellín</td>\n",
       "      <td>CO</td>\n",
       "    </tr>\n",
       "    <tr>\n",
       "      <th>2</th>\n",
       "      <td>Ejecutivo de Ventas - Writing</td>\n",
       "      <td>&amp;lt;strong&amp;gt;Position: &amp;lt;/strong&amp;gt;Ejecuti...</td>\n",
       "      <td>NaN</td>\n",
       "      <td>NaN</td>\n",
       "      <td>FULL_TIME</td>\n",
       "      <td>Newell Brands</td>\n",
       "      <td>Artículos de consumo</td>\n",
       "      <td>NaN</td>\n",
       "      <td>2021-07-12T22:35:42.000Z</td>\n",
       "      <td>2021-08-11T22:35:41.000Z</td>\n",
       "      <td>Medellín</td>\n",
       "      <td>CO</td>\n",
       "    </tr>\n",
       "    <tr>\n",
       "      <th>3</th>\n",
       "      <td>Desarrollador de Android</td>\n",
       "      <td>Buscamos profesionales en ingeniería de sistem...</td>\n",
       "      <td>bachelor degree</td>\n",
       "      <td>NaN</td>\n",
       "      <td>OTHER</td>\n",
       "      <td>NAPOLEON SYSTEMS</td>\n",
       "      <td>NaN</td>\n",
       "      <td>NaN</td>\n",
       "      <td>2021-07-08T19:56:46.000Z</td>\n",
       "      <td>2021-08-07T19:56:46.000Z</td>\n",
       "      <td>Medellín</td>\n",
       "      <td>CO</td>\n",
       "    </tr>\n",
       "    <tr>\n",
       "      <th>4</th>\n",
       "      <td>Analista de Estrategia y Planeación de Rutas</td>\n",
       "      <td>&amp;lt;p&amp;gt;Nos encontramos en la búsqueda de un ...</td>\n",
       "      <td>bachelor degree</td>\n",
       "      <td>NaN</td>\n",
       "      <td>FULL_TIME</td>\n",
       "      <td>Viva</td>\n",
       "      <td>Aeronáutica/Aviación</td>\n",
       "      <td>174 solicitudes</td>\n",
       "      <td>2021-07-06T22:47:27.000Z</td>\n",
       "      <td>2021-08-05T22:47:26.000Z</td>\n",
       "      <td>Medellín</td>\n",
       "      <td>CO</td>\n",
       "    </tr>\n",
       "  </tbody>\n",
       "</table>\n",
       "</div>"
      ],
      "text/plain": [
       "                                          Cargo  \\\n",
       "0                        DevOps Senior Engineer   \n",
       "1       Asesor Comercial experiencia en Belleza   \n",
       "2                 Ejecutivo de Ventas - Writing   \n",
       "3                      Desarrollador de Android   \n",
       "4  Analista de Estrategia y Planeación de Rutas   \n",
       "\n",
       "                                         Descripcion Educacion requerida  \\\n",
       "0  &lt;p&gt;&lt;strong&gt;Position Overview&lt;/s...     bachelor degree   \n",
       "1  Importante empresa esta solicitando Asesor Com...     bachelor degree   \n",
       "2  &lt;strong&gt;Position: &lt;/strong&gt;Ejecuti...                 NaN   \n",
       "3  Buscamos profesionales en ingeniería de sistem...     bachelor degree   \n",
       "4  &lt;p&gt;Nos encontramos en la búsqueda de un ...     bachelor degree   \n",
       "\n",
       "   Experiencia requerida (meses) Tipo de empleo           Empresa  \\\n",
       "0                           72.0      FULL_TIME           Qual.IT   \n",
       "1                            NaN      FULL_TIME    reclutapro.com   \n",
       "2                            NaN      FULL_TIME     Newell Brands   \n",
       "3                            NaN          OTHER  NAPOLEON SYSTEMS   \n",
       "4                            NaN      FULL_TIME              Viva   \n",
       "\n",
       "                                              Sector Cantidad de aplicantes  \\\n",
       "0                                                NaN                    NaN   \n",
       "1  Marketing y publicidad,Servicios y tecnologías...                    NaN   \n",
       "2                               Artículos de consumo                    NaN   \n",
       "3                                                NaN                    NaN   \n",
       "4                               Aeronáutica/Aviación        174 solicitudes   \n",
       "\n",
       "       Fecha de publicacion       Fecha de expiracion    Ciudad Pais  \n",
       "0  2021-07-12T18:58:44.000Z  2021-08-11T18:58:44.000Z  Medellín   CO  \n",
       "1  2021-07-07T10:27:59.000Z  2021-08-06T10:27:59.000Z  Medellín   CO  \n",
       "2  2021-07-12T22:35:42.000Z  2021-08-11T22:35:41.000Z  Medellín   CO  \n",
       "3  2021-07-08T19:56:46.000Z  2021-08-07T19:56:46.000Z  Medellín   CO  \n",
       "4  2021-07-06T22:47:27.000Z  2021-08-05T22:47:26.000Z  Medellín   CO  "
      ]
     },
     "execution_count": 4,
     "metadata": {},
     "output_type": "execute_result"
    }
   ],
   "source": [
    "path = 'agregado_vacantes_scraping_20210712.xlsx'\n",
    "df = pandas.read_excel(path)\n",
    "df = df.drop_duplicates()\n",
    "df = df[['Cargo','Descripcion','Educacion requerida','Experiencia requerida (meses)','Tipo de empleo','Empresa','Sector',\n",
    "         'Cantidad de aplicantes','Fecha de publicacion','Fecha de expiracion','Ciudad','Pais']]\n",
    "print(\"SHAPE:\\n{shape}\\n\".format(shape=df.shape))\n",
    "print(\"COLUMN NAMES:\\n{names}\\n\".format(names=df.columns.tolist()))\n",
    "df.head()"
   ]
  },
  {
   "cell_type": "code",
   "execution_count": 5,
   "metadata": {},
   "outputs": [
    {
     "name": "stdout",
     "output_type": "stream",
     "text": [
      "TOPICS:\n",
      "Lead DevOps Engineer                                                                53\n",
      "Middle DevOps Engineer                                                              43\n",
      "Senior DevOps Engineer                                                              36\n",
      "Senior Automation Tester                                                            35\n",
      "Senior JavaScript Developer                                                         28\n",
      "                                                                                    ..\n",
      "Product Designer                                                                     1\n",
      "Sports Technology Customer Success Manager - LATAM - Bilingual Spanish / English     1\n",
      "Web Engineering Manager                                                              1\n",
      "Vendedor cajero                                                                      1\n",
      "Practicante de IngenierÃ­a en sistemas                                               1\n",
      "Name: Cargo, Length: 743, dtype: int64\n",
      "\n"
     ]
    }
   ],
   "source": [
    "# data set came with prespecified topics\n",
    "# print the topics out with counts\n",
    "\n",
    "print(\"TOPICS:\\n{topics}\\n\".format(topics=df[\"Cargo\"].value_counts()))"
   ]
  },
  {
   "cell_type": "code",
   "execution_count": 11,
   "metadata": {
    "scrolled": false
   },
   "outputs": [
    {
     "name": "stdout",
     "output_type": "stream",
     "text": [
      "JOBS:\n",
      "Asesor Comercial experiencia en Belleza\n",
      "\n",
      "SECTORS:\n",
      "Marketing y publicidad,Servicios y tecnologías de la información ,Recursos humanos\n",
      "\n",
      "DESCRIPTIONS:\n",
      "Importante empresa esta solicitando Asesor Comercial experiencia en Belleza, experiencia en ventas en el sector retail Horarios: Domingo a domingo turnos rotativos, día compensatorio entre semana. Salario Mínimo legal vigente + auxilio de transporte + prestaciones de ley. Disponibilidad para viajar: Si&lt;br&gt;Disponibilidad para cambio de residencia: Si\n",
      "\n"
     ]
    }
   ],
   "source": [
    "# view final data that will be carried forward\n",
    "\n",
    "jobs = df['Cargo'].tolist()\n",
    "sectors = df['Sector'].tolist()\n",
    "descriptions = df['Descripcion'].tolist()\n",
    "print(\"JOBS:\\n{lines}\\n\".format(lines=jobs[1]))\n",
    "print(\"SECTORS:\\n{lines}\\n\".format(lines=sectors[1]))\n",
    "print(\"DESCRIPTIONS:\\n{lines}\\n\".format(lines=descriptions[1]))"
   ]
  },
  {
   "cell_type": "code",
   "execution_count": 18,
   "metadata": {},
   "outputs": [
    {
     "name": "stdout",
     "output_type": "stream",
     "text": [
      "['asesor', 'comercial', 'experiencia', 'belleza'] ['marketing', 'publicidad', 'servicio', 'tecnologias', 'informacion', '', 'recursos', 'humano'] ['importante', 'empresa', 'solicitar', 'asesor', 'comercial', 'experiencia', 'belleza', '', 'experiencia', 'venta', 'sector', 'retail', 'horario', '', 'domingo', 'domingo', 'turno', 'rotativo', '', 'dia', 'compensatorio', 'semana', '', 'salario', 'minimo', 'legal', 'vigente', '', 'auxilio', 'transporte', '', 'prestación', 'ley', '', 'disponibilidad', 'viajar', '', 'disponibilidad', 'cambio', 'residencia']\n"
     ]
    }
   ],
   "source": [
    "# check language of headline, filter to spanish only\n",
    "def do_language_identif(txt):\n",
    "    lg = 'none'\n",
    "    try: lg = langdetect.detect(txt)\n",
    "    except: pass\n",
    "    if lg != 'es': return ''\n",
    "    return txt\n",
    "\n",
    "def do_clean_html(txt):\n",
    "    cleantxt = unescape(str(txt))\n",
    "    cleanr = regex.compile('<.*?>|&([a-z0-9]+|#[0-9]{1,6}|#x[0-9a-f]{1,6});')\n",
    "    return regex.sub(cleanr, ' ', cleantxt)\n",
    "\n",
    "def do_clean_stopwords(txt):\n",
    "    out = [t for t in txt.split(\" \") if t.lower() not in stopwords]\n",
    "    return \" \".join(out)\n",
    "\n",
    "# define function to cleaning data\n",
    "def do_clean_text(txt):\n",
    "    txt = txt.lower()\n",
    "    \n",
    "    # Remove text in square brackets, remove punctuation and remove words containing numbers.\n",
    "    txt = txt.replace(\"ñ\", \"nh\")\n",
    "    txt = regex.sub(r\"\\[.*?¿\\]\\%\", \" \", txt)\n",
    "    txt = regex.sub(r\"https://\", \"\", txt)\n",
    "    txt = regex.sub(r\"www.\", \"\", txt)\n",
    "    txt = regex.sub(r\"[‘’“”…«»]\", \"\", txt)\n",
    "    txt = regex.sub(r'[\"\\[\\]\\{\\}]', \"\", txt)\n",
    "    txt = regex.sub(r\"_\", \" \", txt)\n",
    "    txt = regex.sub(r\"[%s]\" % regex.escape(string.punctuation), \" \", txt)\n",
    "    txt = regex.sub(r\"\\w*\\d\\w*\", \"\", txt)\n",
    "    txt = regex.sub(\n",
    "        r\"([^n\\u0300-\\u036f]|n(?!\\u0303(?![\\u0300-\\u036f])))[\\u0300-\\u036f]+\", r\"\\1\", \n",
    "        normalize(\"NFD\", txt), 0, regex.I\n",
    "    )\n",
    "    txt = regex.sub(r\"\\n\", \" \", txt)\n",
    "    txt = regex.sub(r\"&lt;/?.*?&gt;\", \" &lt;&gt; \", txt)\n",
    "\n",
    "    # Eliminar caracteres que se repitan más de dos veces seguidas\n",
    "    pattern = regex.compile(r\"(.)\\1{2,}\")\n",
    "    txt = pattern.sub(r\"\\1\\1\", txt)\n",
    "    \n",
    "    return txt.strip(' ')\n",
    "\n",
    "# define function to perform lemmatization\n",
    "def do_lemmatizing(txt):\n",
    "    out = [word.lemma_ for word in nlp(txt)]\n",
    "    return out\n",
    "\n",
    "def do_clean_blanks(tokens):\n",
    "    tokens = [str(i).strip(' ') for i in tokens]\n",
    "    return tokens\n",
    "\n",
    "# define function to execute pipeline pre-processing\n",
    "def do_prepare_pipeline(element, pipeline):\n",
    "    inout_data = element if not isinstance(element, Number) else str(element)\n",
    "    for transform in pipeline:\n",
    "        inout_data = transform(inout_data)\n",
    "    return inout_data if inout_data and len(inout_data) > 0 else None\n",
    "\n",
    "# define pipeline to text pre-processing\n",
    "pipeline = [\n",
    "    do_clean_html, \n",
    "    do_clean_text,\n",
    "    do_clean_stopwords,\n",
    "    do_lemmatizing,\n",
    "    do_clean_blanks\n",
    "]\n",
    "\n",
    "print(do_prepare_pipeline(jobs[1], pipeline), \n",
    "do_prepare_pipeline(sectors[1], pipeline),\n",
    "do_prepare_pipeline(descriptions[1], pipeline))"
   ]
  },
  {
   "cell_type": "code",
   "execution_count": 19,
   "metadata": {},
   "outputs": [
    {
     "name": "stdout",
     "output_type": "stream",
     "text": [
      "Elapsed time 2351.675594 seconds.\n"
     ]
    }
   ],
   "source": [
    "# apply cleaning function to every vacancy\n",
    "#clean = list(map(do_text_cleaning, raw))\n",
    "tictoc.tic()\n",
    "clean_jobs = Parallel(n_jobs=24)(delayed(do_prepare_pipeline)(txt, pipeline) for txt in jobs)\n",
    "clean_sectors = Parallel(n_jobs=24)(delayed(do_prepare_pipeline)(txt, pipeline) for txt in sectors)\n",
    "clean_descriptions = Parallel(n_jobs=24)(delayed(do_prepare_pipeline)(txt, pipeline) for txt in descriptions)\n",
    "tictoc.toc('Elapsed time')"
   ]
  },
  {
   "cell_type": "code",
   "execution_count": 20,
   "metadata": {},
   "outputs": [],
   "source": [
    "# remove none types\n",
    "#clean_jobs = list(filter(None.__ne__, clean_jobs))\n",
    "#clean_sectors = list(filter(None.__ne__, clean_sectors))\n",
    "#clean_descriptions = list(filter(None.__ne__, clean_descriptions))\n",
    "#print(\"CLEAN JOBS:\\n{lines}\\n\".format(lines=clean_jobs[1]))\n",
    "#print(\"CLEAN SECTORS:\\n{lines}\\n\".format(lines=clean_sectors[1]))\n",
    "#print(\"CLEAN DESCRIPTIONS:\\n{lines}\\n\".format(lines=clean_descriptions[1]))"
   ]
  },
  {
   "cell_type": "code",
   "execution_count": 21,
   "metadata": {},
   "outputs": [
    {
     "name": "stdout",
     "output_type": "stream",
     "text": [
      "CLEAN JOBS:\n",
      "asesor comercial experiencia belleza\n",
      "\n",
      "CLEAN SECTORS:\n",
      "marketing publicidad servicio tecnologias informacion  recursos humano\n",
      "\n",
      "CLEAN DESCRIPTIONS:\n",
      "importante empresa solicitar asesor comercial experiencia belleza  experiencia venta sector retail horario  domingo domingo turno rotativo  dia compensatorio semana  salario minimo legal vigente  auxilio transporte  prestación ley  disponibilidad viajar  disponibilidad cambio residencia\n",
      "\n"
     ]
    }
   ],
   "source": [
    "# turn tokens back into strings\n",
    "# concatenate using whitespaces\n",
    "clean_jobs_s = [\" \".join(i) for i in clean_jobs]\n",
    "clean_sectors_s = [\" \".join(i) for i in clean_sectors]\n",
    "clean_descriptions_s = [\" \".join(i) for i in clean_descriptions]\n",
    "print(\"CLEAN JOBS:\\n{lines}\\n\".format(lines=clean_jobs_s[1]))\n",
    "print(\"CLEAN SECTORS:\\n{lines}\\n\".format(lines=clean_sectors_s[1]))\n",
    "print(\"CLEAN DESCRIPTIONS:\\n{lines}\\n\".format(lines=clean_descriptions_s[1]))"
   ]
  },
  {
   "cell_type": "code",
   "execution_count": 23,
   "metadata": {},
   "outputs": [],
   "source": [
    "# save to backup data cleaned\n",
    "clean_sentences = zip(clean_jobs_s, clean_sectors_s, clean_descriptions_s)\n",
    "clean_df = pandas.DataFrame(data=clean_sentences, columns=[\"job\", \"sector\", \"description\"])\n",
    "clean_df.to_csv(\"clean_vacancies_tomas.csv\", index=False)"
   ]
  },
  {
   "cell_type": "markdown",
   "metadata": {},
   "source": [
    "### Count Vectorizer"
   ]
  },
  {
   "cell_type": "code",
   "execution_count": 35,
   "metadata": {},
   "outputs": [
    {
     "data": {
      "text/plain": [
       "['devops senior engineer  position overview  looking senior devops join rapidly growing development team  applicant mix deep technical skills together excellent client facing consulting communication skills  responsible delivering high quality solutions  position individual pro activar  ambitious eager succeed become part rapidly growing company   like building modern reliable production systems  years experience taught anyone could write code  writing code others understand art value  youre curious  know making mistakes one gains experience  like challenge challenger  opened change enjoy exploring uncharterer territories  get things donar  focus things matter like see tangible progress  team player  know lot  work english clients development team  work remotely days  least one day week office target  requirements  years experience software development  years experience delivering solutions c  sql  year experience working azure environments  experience developing deploying microservices azure must  methodical rigorous  work many projects  require certain sense rigor organizer  attention detail  team player – able work alone  excellent communication skills  oral written  english mandatory  university degree computer science  information systems  technology related field  nice  practical knowledge javascript libraries plus  microsoft azure certifications  offer  competitive salary based experience  flexible working  work remotely  least one day week office target  exciting challenging projects international clients  certifications  training mentoring  huge amount learning  entrepreneurial environment']"
      ]
     },
     "execution_count": 35,
     "metadata": {},
     "output_type": "execute_result"
    }
   ],
   "source": [
    "# define some global variables\n",
    "number_words = 10\n",
    "number_docs = 10\n",
    "\n",
    "# load data cleaned\n",
    "clean_df = pandas.read_csv(\"clean_vacancies_tomas.csv\")\n",
    "clean_df.fillna('', inplace=True)\n",
    "clean_df['data'] = clean_df.apply(\n",
    "    lambda row: '{0} {1} {2}'.format(\n",
    "        row[\"job\"],\n",
    "        row[\"sector\"],\n",
    "        row[\"description\"]\n",
    "    ).strip(' '),\n",
    "    axis=1\n",
    ")\n",
    "clean_sentences = clean_df.data.tolist()\n",
    "\n",
    "\n",
    "# Clean data with anothers stopwords\n",
    "other_stopwords = nltk.corpus.stopwords.words(\"english\") + \\\n",
    "                  ['as', 'middle']\n",
    "\n",
    "other_mappings =  dict({'dotacia³n':'dotacion','softwar':'software','seleccia³n':'seleccion',\n",
    "                        'tecnologa':'tecnologias','informacia³n':'informacion'})\n",
    "\n",
    "def do_clean_others_stopwords(txt):\n",
    "    out = [t.strip(' ') for t in txt.split(\" \") if t not in other_stopwords]\n",
    "    return \" \".join(out)\n",
    "\n",
    "def do_clean_others_mappings(txt):\n",
    "    out = [other_mappings.get(t,t).strip(' ') for t in txt.split(\" \")]\n",
    "    return \" \".join(out)\n",
    "\n",
    "#do_clean_others_mappings(\"applicant comunicacia³n gestia³n informacia³n job experiencia venta retail\")\n",
    "\n",
    "clean_sentences = list(map(do_clean_others_stopwords, clean_sentences))\n",
    "clean_sentences = list(map(do_clean_others_mappings, clean_sentences))\n",
    "clean_sentences[:1]"
   ]
  },
  {
   "cell_type": "code",
   "execution_count": 38,
   "metadata": {},
   "outputs": [],
   "source": [
    "# execute bag of words model\n",
    "# use raw term counts for lda \n",
    "# as it is a probabilistic graphical model\n",
    "\n",
    "vectorizer1 = sklearn.feature_extraction.text.CountVectorizer(\n",
    "    analyzer=\"word\",\n",
    "    max_df=0.5, \n",
    "    min_df=0.3, \n",
    "    max_features=1000\n",
    ")\n",
    "clean_vec1 = vectorizer1.fit_transform(clean_sentences)\n",
    "#print(clean_vec1[0])\n",
    "\n",
    "feature_names_vec1 = vectorizer1.get_feature_names()"
   ]
  },
  {
   "cell_type": "code",
   "execution_count": 39,
   "metadata": {},
   "outputs": [
    {
     "data": {
      "text/plain": [
       "(50,\n",
       " ['access',\n",
       "  'anywhere',\n",
       "  'applications',\n",
       "  'applying',\n",
       "  'as',\n",
       "  'basis',\n",
       "  'colombia',\n",
       "  'community',\n",
       "  'compensation',\n",
       "  'competitive',\n",
       "  'courses',\n",
       "  'customer',\n",
       "  'depending',\n",
       "  'development',\n",
       "  'dotacion',\n",
       "  'english',\n",
       "  'enterprise',\n",
       "  'epam',\n",
       "  'even',\n",
       "  'experience',\n",
       "  'full',\n",
       "  'industry',\n",
       "  'internal',\n",
       "  'join',\n",
       "  'knowledge',\n",
       "  'learning',\n",
       "  'level',\n",
       "  'long',\n",
       "  'looking',\n",
       "  'note',\n",
       "  'offer',\n",
       "  'personal',\n",
       "  'position',\n",
       "  'professionals',\n",
       "  'projects',\n",
       "  'remote',\n",
       "  'requirements',\n",
       "  'responsibilities',\n",
       "  'seleccion',\n",
       "  'skills',\n",
       "  'team',\n",
       "  'term',\n",
       "  'though',\n",
       "  'top',\n",
       "  'training',\n",
       "  'unlimited',\n",
       "  'welcome',\n",
       "  'within',\n",
       "  'work',\n",
       "  'years'])"
      ]
     },
     "execution_count": 39,
     "metadata": {},
     "output_type": "execute_result"
    }
   ],
   "source": [
    "len(feature_names_vec1), feature_names_vec1"
   ]
  },
  {
   "cell_type": "markdown",
   "metadata": {},
   "source": [
    "### Select Number of Topics"
   ]
  },
  {
   "cell_type": "code",
   "execution_count": 40,
   "metadata": {},
   "outputs": [],
   "source": [
    "# define function to calculate perplexity for LDA model trained on ntopics\n",
    "\n",
    "def perplexity_by_ntopic(data, ntopics):\n",
    "    output_dict = {\n",
    "        \"Number Of Topics\": [], \n",
    "        \"Perplexity Score\": []\n",
    "    }\n",
    "    \n",
    "    for t in ntopics:\n",
    "        lda = sklearn.decomposition.LatentDirichletAllocation(\n",
    "            n_components=t,\n",
    "            learning_method=\"online\",\n",
    "            random_state=0,\n",
    "            n_jobs=-1\n",
    "        )\n",
    "        lda.fit(data)\n",
    "        \n",
    "        output_dict[\"Number Of Topics\"].append(t)\n",
    "        output_dict[\"Perplexity Score\"].append(lda.perplexity(data))\n",
    "        \n",
    "    output_df = pandas.DataFrame(output_dict)\n",
    "    \n",
    "    index_min_perplexity = output_df[\"Perplexity Score\"].idxmin()\n",
    "    output_num_topics = output_df.loc[\n",
    "        index_min_perplexity,  # index\n",
    "        \"Number Of Topics\"  # column\n",
    "    ]\n",
    "        \n",
    "    return (output_df, output_num_topics)"
   ]
  },
  {
   "cell_type": "code",
   "execution_count": 41,
   "metadata": {},
   "outputs": [
    {
     "name": "stdout",
     "output_type": "stream",
     "text": [
      "    Number Of Topics  Perplexity Score\n",
      "0                  1         43.693034\n",
      "1                  2         38.141916\n",
      "2                  3         38.043847\n",
      "3                  4         38.934369\n",
      "4                  6         38.641219\n",
      "5                  8         40.094667\n",
      "6                 10         39.605036\n",
      "7                 11         41.105318\n",
      "8                 12         41.478808\n",
      "9                 13         40.431765\n",
      "10                14         41.698736\n",
      "11                15         40.459143\n",
      "Elapsed time 36.678877 seconds.\n"
     ]
    }
   ],
   "source": [
    "# find perplexity scores for several different numbers of topics\n",
    "# takes several minutes\n",
    "\n",
    "tictoc.tic()\n",
    "df_perplexity, optimal_num_topics = perplexity_by_ntopic(\n",
    "    clean_vec1, \n",
    "    ntopics=[1, 2, 3, 4, 6, 8, 10, 11, 12, 13, 14, 15]\n",
    ")\n",
    "print(df_perplexity)\n",
    "tictoc.toc('Elapsed time')"
   ]
  },
  {
   "cell_type": "code",
   "execution_count": 42,
   "metadata": {},
   "outputs": [
    {
     "data": {
      "text/plain": [
       "<AxesSubplot:xlabel='Number Of Topics'>"
      ]
     },
     "execution_count": 42,
     "metadata": {},
     "output_type": "execute_result"
    },
    {
     "data": {
      "image/png": "[encoded data removed]",
      "text/plain": [
       "<Figure size 432x288 with 1 Axes>"
      ]
     },
     "metadata": {
      "needs_background": "light"
     },
     "output_type": "display_data"
    }
   ],
   "source": [
    "df_perplexity.plot.line(\"Number Of Topics\", \"Perplexity Score\")"
   ]
  },
  {
   "cell_type": "code",
   "execution_count": 43,
   "metadata": {},
   "outputs": [],
   "source": [
    "optimal_num_topics = 3"
   ]
  },
  {
   "cell_type": "code",
   "execution_count": 44,
   "metadata": {},
   "outputs": [
    {
     "data": {
      "text/plain": [
       "LatentDirichletAllocation(learning_method='online', n_components=3, n_jobs=-1,\n",
       "                          random_state=0)"
      ]
     },
     "execution_count": 44,
     "metadata": {},
     "output_type": "execute_result"
    }
   ],
   "source": [
    "# define and fit LDA model\n",
    "\n",
    "lda = sklearn.decomposition.LatentDirichletAllocation(\n",
    "    n_components=optimal_num_topics,\n",
    "    learning_method=\"online\",\n",
    "    random_state=0,\n",
    "    n_jobs=-1\n",
    ")\n",
    "lda.fit(clean_vec1)"
   ]
  },
  {
   "cell_type": "code",
   "execution_count": 45,
   "metadata": {},
   "outputs": [],
   "source": [
    "# output matrix\n",
    "# h: docs to topics\n",
    "\n",
    "lda_transform = lda.transform(clean_vec1)\n",
    "#print(lda_transform.shape)\n",
    "#print(lda_transform)"
   ]
  },
  {
   "cell_type": "code",
   "execution_count": 46,
   "metadata": {},
   "outputs": [],
   "source": [
    "# output matrix\n",
    "# w: words to topics\n",
    "\n",
    "lda_components = lda.components_\n",
    "#print(lda_components.shape)\n",
    "#print(lda_components)"
   ]
  },
  {
   "cell_type": "code",
   "execution_count": 30,
   "metadata": {},
   "outputs": [],
   "source": [
    "# define function to reformat output matrices into easily readable tables\n",
    "\n",
    "def get_topics(mod, vec, names, docs, ndocs, nwords):\n",
    "    # word to topic matrix\n",
    "    W = mod.components_\n",
    "    W_norm = W / W.sum(axis=1)[:, numpy.newaxis]\n",
    "    # topic to document matrix\n",
    "    H = mod.transform(vec)\n",
    "    \n",
    "    W_dict = {}\n",
    "    H_dict = {}\n",
    "    \n",
    "    for tpc_idx, tpc_val in enumerate(W_norm):\n",
    "        topic = \"Topic{}\".format(tpc_idx)\n",
    "        \n",
    "        # formatting w\n",
    "        W_indices = tpc_val.argsort()[::-1][:nwords]\n",
    "        W_names_values = [\n",
    "            (round(tpc_val[j], 4), names[j]) \n",
    "            for j in W_indices\n",
    "        ]\n",
    "        W_dict[topic] = W_names_values\n",
    "        \n",
    "        # formatting h\n",
    "        H_indices = H[:, tpc_idx].argsort()[::-1][:ndocs]\n",
    "        H_names_values = [\n",
    "            (round(H[:, tpc_idx][j], 4), docs[j]) \n",
    "            for j in H_indices\n",
    "        ]\n",
    "        H_dict[topic] = H_names_values\n",
    "        \n",
    "    W_df = pandas.DataFrame(\n",
    "        W_dict, \n",
    "        index=[\"Word\" + str(i) for i in range(nwords)]\n",
    "    )\n",
    "    H_df = pandas.DataFrame(\n",
    "        H_dict,\n",
    "        index=[\"Doc\" + str(i) for i in range(ndocs)]\n",
    "    )\n",
    "        \n",
    "    return (W_df, H_df)"
   ]
  },
  {
   "cell_type": "code",
   "execution_count": 31,
   "metadata": {},
   "outputs": [
    {
     "ename": "NameError",
     "evalue": "name 'raw' is not defined",
     "output_type": "error",
     "traceback": [
      "\u001b[0;31m---------------------------------------------------------------------------\u001b[0m",
      "\u001b[0;31mNameError\u001b[0m                                 Traceback (most recent call last)",
      "\u001b[0;32m<ipython-input-31-5472f5adabf4>\u001b[0m in \u001b[0;36m<module>\u001b[0;34m\u001b[0m\n\u001b[1;32m      5\u001b[0m     \u001b[0mvec\u001b[0m\u001b[0;34m=\u001b[0m\u001b[0mclean_vec1\u001b[0m\u001b[0;34m,\u001b[0m\u001b[0;34m\u001b[0m\u001b[0;34m\u001b[0m\u001b[0m\n\u001b[1;32m      6\u001b[0m     \u001b[0mnames\u001b[0m\u001b[0;34m=\u001b[0m\u001b[0mfeature_names_vec1\u001b[0m\u001b[0;34m,\u001b[0m\u001b[0;34m\u001b[0m\u001b[0;34m\u001b[0m\u001b[0m\n\u001b[0;32m----> 7\u001b[0;31m     \u001b[0mdocs\u001b[0m\u001b[0;34m=\u001b[0m\u001b[0mraw\u001b[0m\u001b[0;34m,\u001b[0m\u001b[0;34m\u001b[0m\u001b[0;34m\u001b[0m\u001b[0m\n\u001b[0m\u001b[1;32m      8\u001b[0m     \u001b[0mndocs\u001b[0m\u001b[0;34m=\u001b[0m\u001b[0mnumber_docs\u001b[0m\u001b[0;34m,\u001b[0m\u001b[0;34m\u001b[0m\u001b[0;34m\u001b[0m\u001b[0m\n\u001b[1;32m      9\u001b[0m     \u001b[0mnwords\u001b[0m\u001b[0;34m=\u001b[0m\u001b[0mnumber_words\u001b[0m\u001b[0;34m\u001b[0m\u001b[0;34m\u001b[0m\u001b[0m\n",
      "\u001b[0;31mNameError\u001b[0m: name 'raw' is not defined"
     ]
    }
   ],
   "source": [
    "# run function\n",
    "\n",
    "W_df, H_df = get_topics(\n",
    "    mod=lda,\n",
    "    vec=clean_vec1,\n",
    "    names=feature_names_vec1,\n",
    "    docs=raw,\n",
    "    ndocs=number_docs, \n",
    "    nwords=number_words\n",
    ")"
   ]
  },
  {
   "cell_type": "code",
   "execution_count": 32,
   "metadata": {},
   "outputs": [
    {
     "ename": "NameError",
     "evalue": "name 'W_df' is not defined",
     "output_type": "error",
     "traceback": [
      "\u001b[0;31m---------------------------------------------------------------------------\u001b[0m",
      "\u001b[0;31mNameError\u001b[0m                                 Traceback (most recent call last)",
      "\u001b[0;32m<ipython-input-32-4984b059dacb>\u001b[0m in \u001b[0;36m<module>\u001b[0;34m\u001b[0m\n\u001b[1;32m      1\u001b[0m \u001b[0;31m# word-topic table\u001b[0m\u001b[0;34m\u001b[0m\u001b[0;34m\u001b[0m\u001b[0;34m\u001b[0m\u001b[0m\n\u001b[0;32m----> 2\u001b[0;31m \u001b[0mprint\u001b[0m\u001b[0;34m(\u001b[0m\u001b[0mW_df\u001b[0m\u001b[0;34m)\u001b[0m\u001b[0;34m\u001b[0m\u001b[0;34m\u001b[0m\u001b[0m\n\u001b[0m",
      "\u001b[0;31mNameError\u001b[0m: name 'W_df' is not defined"
     ]
    }
   ],
   "source": [
    "# word-topic table\n",
    "print(W_df)"
   ]
  },
  {
   "cell_type": "code",
   "execution_count": 33,
   "metadata": {},
   "outputs": [
    {
     "ename": "NameError",
     "evalue": "name 'H_df' is not defined",
     "output_type": "error",
     "traceback": [
      "\u001b[0;31m---------------------------------------------------------------------------\u001b[0m",
      "\u001b[0;31mNameError\u001b[0m                                 Traceback (most recent call last)",
      "\u001b[0;32m<ipython-input-33-29d65b6615e3>\u001b[0m in \u001b[0;36m<module>\u001b[0;34m\u001b[0m\n\u001b[1;32m      1\u001b[0m \u001b[0;31m# document-topic table\u001b[0m\u001b[0;34m\u001b[0m\u001b[0;34m\u001b[0m\u001b[0;34m\u001b[0m\u001b[0m\n\u001b[0;32m----> 2\u001b[0;31m \u001b[0mprint\u001b[0m\u001b[0;34m(\u001b[0m\u001b[0mH_df\u001b[0m\u001b[0;34m)\u001b[0m\u001b[0;34m\u001b[0m\u001b[0;34m\u001b[0m\u001b[0m\n\u001b[0m",
      "\u001b[0;31mNameError\u001b[0m: name 'H_df' is not defined"
     ]
    }
   ],
   "source": [
    "# document-topic table\n",
    "print(H_df)"
   ]
  },
  {
   "cell_type": "markdown",
   "metadata": {},
   "source": [
    "### Visualizing LDA"
   ]
  },
  {
   "cell_type": "code",
   "execution_count": 47,
   "metadata": {},
   "outputs": [
    {
     "data": {
      "text/html": [
       "\n",
       "<link rel=\"stylesheet\" type=\"text/css\" href=\"https://cdn.jsdelivr.net/gh/bmabey/pyLDAvis@3.3.1/pyLDAvis/js/ldavis.v1.0.0.css\">\n",
       "\n",
       "\n",
       "<div id=\"ldavis_el2925881398791263720167295771976\"></div>\n",
       "<script type=\"text/javascript\">\n",
       "\n",
       "var ldavis_el2925881398791263720167295771976_data = {\"mdsDat\": {\"x\": [-0.20498538892022022, -0.21868914310012916, 0.4236745320203492], \"y\": [-0.07665114921287461, 0.07501592520020979, 0.0016352240126651025], \"topics\": [1, 2, 3], \"cluster\": [1, 1, 1], \"Freq\": [81.62075954569534, 12.633107824057177, 5.746132630247479]}, \"tinfo\": {\"Term\": [\"personal\", \"work\", \"experience\", \"team\", \"seleccion\", \"dotacion\", \"development\", \"offer\", \"skills\", \"customer\", \"epam\", \"courses\", \"applying\", \"though\", \"note\", \"anywhere\", \"unlimited\", \"even\", \"term\", \"community\", \"remote\", \"experience\", \"access\", \"position\", \"enterprise\", \"projects\", \"join\", \"applications\", \"knowledge\", \"english\", \"work\", \"team\", \"customer\", \"work\", \"development\", \"looking\", \"skills\", \"requirements\", \"responsibilities\", \"english\", \"internal\", \"experience\", \"years\", \"knowledge\", \"personal\", \"seleccion\", \"dotacion\", \"as\", \"offer\", \"colombia\", \"top\", \"responsibilities\", \"though\", \"note\", \"term\", \"level\", \"community\"], \"Freq\": [1404.0, 2930.0, 6654.0, 2142.0, 1043.0, 998.0, 1949.0, 1120.0, 1858.0, 1271.0, 2075.1429502317633, 966.9661590435094, 870.1146805538517, 831.696584736372, 834.5862158534512, 2023.31411294219, 840.5614339876012, 878.338919776691, 860.0790188360546, 1188.7847565424906, 2553.4799160696157, 5696.375336721347, 1147.0450223660678, 1790.2582156263904, 1022.8195441577107, 2015.2813482266251, 1728.940256496816, 1206.2814874074902, 1609.1531423512577, 1417.5636584891834, 1828.9799172918322, 1081.8827522275847, 499.3998640569142, 1100.9768774227764, 640.4441021591927, 270.43562191610255, 479.9024030261406, 334.03646945994683, 187.62566483311616, 347.8664634375465, 192.75749412314354, 957.5070305573902, 263.7943363593931, 313.04124513940064, 1404.2317623302145, 1042.7740857770436, 997.7479766797264, 192.98946194761533, 202.99300061376522, 195.87249729999513, 0.3904348675334468, 0.33115362713414886, 0.300890453732368, 0.3009345936203133, 0.3060681936827711, 0.37595272937924257, 0.3165012671191397], \"Total\": [1404.0, 2930.0, 6654.0, 2142.0, 1043.0, 998.0, 1949.0, 1120.0, 1858.0, 1271.0, 2075.8432135924763, 967.7034559785681, 870.8127555608186, 832.3992205026854, 835.4196837667622, 2025.4084909512744, 841.499036755932, 879.3728841876466, 862.9009430437487, 1208.212561085185, 2643.6358646428735, 6654.186731923578, 1181.029060080583, 1926.6919652868582, 1043.2785413457113, 2242.307968665052, 1927.971514944133, 1289.99150151148, 1922.4975016077026, 1765.7339732307187, 2930.2602906884345, 2142.2213587330084, 1271.1450892554642, 2930.2602906884345, 1949.784920594502, 1030.8477242476993, 1858.5662872650732, 1308.436694547916, 906.113080341704, 1765.7339732307187, 1016.9001128686776, 6654.186731923578, 1489.5400093546748, 1922.4975016077026, 1404.9457304189937, 1043.4688895595896, 998.4427884143532, 893.2323212802517, 1120.1262397228202, 1146.423502543983, 977.1531731971103, 906.113080341704, 832.3992205026854, 835.4196837667622, 862.9009430437487, 1461.0427301140867, 1208.212561085185], \"Category\": [\"Default\", \"Default\", \"Default\", \"Default\", \"Default\", \"Default\", \"Default\", \"Default\", \"Default\", \"Default\", \"Topic1\", \"Topic1\", \"Topic1\", \"Topic1\", \"Topic1\", \"Topic1\", \"Topic1\", \"Topic1\", \"Topic1\", \"Topic1\", \"Topic1\", \"Topic1\", \"Topic1\", \"Topic1\", \"Topic1\", \"Topic1\", \"Topic1\", \"Topic1\", \"Topic1\", \"Topic1\", \"Topic1\", \"Topic2\", \"Topic2\", \"Topic2\", \"Topic2\", \"Topic2\", \"Topic2\", \"Topic2\", \"Topic2\", \"Topic2\", \"Topic2\", \"Topic2\", \"Topic2\", \"Topic2\", \"Topic3\", \"Topic3\", \"Topic3\", \"Topic3\", \"Topic3\", \"Topic3\", \"Topic3\", \"Topic3\", \"Topic3\", \"Topic3\", \"Topic3\", \"Topic3\", \"Topic3\"], \"logprob\": [10.0, 9.0, 8.0, 7.0, 6.0, 5.0, 4.0, 3.0, 2.0, 1.0, -3.3223, -4.0859, -4.1914, -4.2366, -4.2331, -3.3476, -4.226, -4.182, -4.203, -3.8794, -3.1149, -2.3125, -3.9151, -3.47, -4.0298, -3.3516, -3.5048, -3.8648, -3.5766, -3.7034, -3.4486, -2.1078, -2.8809, -2.0904, -2.6321, -3.4943, -2.9207, -3.2831, -3.8599, -3.2425, -3.8329, -2.23, -3.5191, -3.348, -1.0593, -1.3569, -1.401, -3.0439, -2.9933, -3.029, -9.247, -9.4117, -9.5075, -9.5074, -9.4905, -9.2848, -9.4569], \"loglift\": [10.0, 9.0, 8.0, 7.0, 6.0, 5.0, 4.0, 3.0, 2.0, 1.0, 0.2027, 0.2023, 0.2023, 0.2022, 0.2021, 0.2021, 0.202, 0.2019, 0.1998, 0.1869, 0.1684, 0.0477, 0.1739, 0.1296, 0.1833, 0.0963, 0.0941, 0.136, 0.0252, -0.0165, -0.2682, 1.3857, 1.1346, 1.09, 0.9555, 0.7307, 0.7149, 0.7035, 0.4941, 0.4443, 0.4058, 0.1302, 0.3378, 0.2538, 2.8561, 2.856, 2.8559, 1.3244, 1.1486, 1.0897, -4.9685, -5.0577, -5.0687, -5.0722, -5.0876, -5.4086, -5.3907]}, \"token.table\": {\"Topic\": [1, 2, 1, 2, 1, 2, 1, 1, 2, 3, 1, 2, 3, 1, 2, 1, 1, 2, 1, 2, 3, 1, 2, 1, 2, 1, 1, 2, 1, 2, 1, 2, 1, 2, 1, 2, 1, 2, 1, 2, 1, 2, 1, 2, 3, 3, 1, 2, 1, 2, 1, 2, 1, 2, 1, 2, 3, 1, 2, 1, 2, 1, 2, 1, 1, 2, 1, 2, 1, 2, 1, 2], \"Freq\": [0.9711869409222995, 0.028788453349048112, 0.9988108616301182, 0.0009874551276620052, 0.9348898799619475, 0.06434150915161, 0.9990666701243999, 0.7008255132357581, 0.08284518846556886, 0.21606920775479446, 0.7170125160343733, 0.11165158400535254, 0.17096648800819605, 0.9840983600866319, 0.01572570970701935, 0.9992730665843735, 0.6065397306074561, 0.39255943654101244, 0.6713560999337699, 0.32824133228236263, 0.9995565209950021, 0.8030654795668463, 0.19708518116309062, 0.980562677614787, 0.01917033582824608, 0.9995937970714961, 0.9984387917658902, 0.0011371740225124035, 0.8560024281665165, 0.1439695095125567, 0.8103057415103377, 0.1897924855722029, 0.8967974820157555, 0.10321729260910083, 0.8369321669622259, 0.16280905423193084, 0.8548689057865343, 0.14510184789971597, 0.7372572904059512, 0.2619203531705353, 0.9994976372056857, 0.0011970031583301627, 0.7784836825318725, 0.04017404324992461, 0.18122957288299324, 0.9993268562631871, 0.9290535447546195, 0.07058730842828394, 0.8986276765540021, 0.10123497894677841, 0.9657154505069792, 0.034044022932090925, 0.7443997895034052, 0.2552664575915168, 0.7923955801733216, 0.20747962266376663, 0.9995506434697948, 0.7414317204837291, 0.25826358913801883, 0.494813477458242, 0.5050831911413376, 0.9966381505697327, 0.0034766447112897655, 0.9995203977936882, 0.8934116205585911, 0.10540824389179254, 0.9994069669314705, 0.0011883554898114987, 0.6241766322985236, 0.3757345391802485, 0.8224015416213737, 0.17723592407187155], \"Term\": [\"access\", \"access\", \"anywhere\", \"anywhere\", \"applications\", \"applications\", \"applying\", \"as\", \"as\", \"as\", \"colombia\", \"colombia\", \"colombia\", \"community\", \"community\", \"courses\", \"customer\", \"customer\", \"development\", \"development\", \"dotacion\", \"english\", \"english\", \"enterprise\", \"enterprise\", \"epam\", \"even\", \"even\", \"experience\", \"experience\", \"internal\", \"internal\", \"join\", \"join\", \"knowledge\", \"knowledge\", \"level\", \"level\", \"looking\", \"looking\", \"note\", \"note\", \"offer\", \"offer\", \"offer\", \"personal\", \"position\", \"position\", \"projects\", \"projects\", \"remote\", \"remote\", \"requirements\", \"requirements\", \"responsibilities\", \"responsibilities\", \"seleccion\", \"skills\", \"skills\", \"team\", \"team\", \"term\", \"term\", \"though\", \"top\", \"top\", \"unlimited\", \"unlimited\", \"work\", \"work\", \"years\", \"years\"]}, \"R\": 10, \"lambda.step\": 0.01, \"plot.opts\": {\"xlab\": \"PC1\", \"ylab\": \"PC2\"}, \"topic.order\": [2, 3, 1]};\n",
       "\n",
       "function LDAvis_load_lib(url, callback){\n",
       "  var s = document.createElement('script');\n",
       "  s.src = url;\n",
       "  s.async = true;\n",
       "  s.onreadystatechange = s.onload = callback;\n",
       "  s.onerror = function(){console.warn(\"failed to load library \" + url);};\n",
       "  document.getElementsByTagName(\"head\")[0].appendChild(s);\n",
       "}\n",
       "\n",
       "if(typeof(LDAvis) !== \"undefined\"){\n",
       "   // already loaded: just create the visualization\n",
       "   !function(LDAvis){\n",
       "       new LDAvis(\"#\" + \"ldavis_el2925881398791263720167295771976\", ldavis_el2925881398791263720167295771976_data);\n",
       "   }(LDAvis);\n",
       "}else if(typeof define === \"function\" && define.amd){\n",
       "   // require.js is available: use it to load d3/LDAvis\n",
       "   require.config({paths: {d3: \"https://d3js.org/d3.v5\"}});\n",
       "   require([\"d3\"], function(d3){\n",
       "      window.d3 = d3;\n",
       "      LDAvis_load_lib(\"https://cdn.jsdelivr.net/gh/bmabey/pyLDAvis@3.3.1/pyLDAvis/js/ldavis.v3.0.0.js\", function(){\n",
       "        new LDAvis(\"#\" + \"ldavis_el2925881398791263720167295771976\", ldavis_el2925881398791263720167295771976_data);\n",
       "      });\n",
       "    });\n",
       "}else{\n",
       "    // require.js not available: dynamically load d3 & LDAvis\n",
       "    LDAvis_load_lib(\"https://d3js.org/d3.v5.js\", function(){\n",
       "         LDAvis_load_lib(\"https://cdn.jsdelivr.net/gh/bmabey/pyLDAvis@3.3.1/pyLDAvis/js/ldavis.v3.0.0.js\", function(){\n",
       "                 new LDAvis(\"#\" + \"ldavis_el2925881398791263720167295771976\", ldavis_el2925881398791263720167295771976_data);\n",
       "            })\n",
       "         });\n",
       "}\n",
       "</script>"
      ],
      "text/plain": [
       "<IPython.core.display.HTML object>"
      ]
     },
     "execution_count": 47,
     "metadata": {},
     "output_type": "execute_result"
    }
   ],
   "source": [
    "# iterative visualization\n",
    "# featuring pca biplot and histogram\n",
    "lda_plot = pyLDAvis.sklearn.prepare(lda, clean_vec1, vectorizer1, R=10)\n",
    "pyLDAvis.save_html(lda_plot, 'report/lda_desc.html')\n",
    "pyLDAvis.display(lda_plot)"
   ]
  },
  {
   "cell_type": "code",
   "execution_count": null,
   "metadata": {},
   "outputs": [],
   "source": [
    "# define functiont to fit and plot t-SNE model\n",
    "\n",
    "def plot_tsne(data, threshold):\n",
    "    # filter data according to threshold\n",
    "    index_meet_threshold = numpy.amax(data, axis=1) >= threshold\n",
    "    lda_transform_filt = data[index_meet_threshold]\n",
    "    \n",
    "    # fit tsne model\n",
    "    # x-d -> 2-d, x = number of topics\n",
    "    tsne = sklearn.manifold.TSNE(\n",
    "        n_components=2, \n",
    "        verbose=0, \n",
    "        random_state=0, \n",
    "        angle=0.5, \n",
    "        init='pca'\n",
    "    )\n",
    "    tsne_fit = tsne.fit_transform(lda_transform_filt)\n",
    "    \n",
    "    # most probable topic for each headline\n",
    "    most_prob_topic = []\n",
    "    for i in range(tsne_fit.shape[0]):\n",
    "        most_prob_topic.append(lda_transform_filt[i].argmax())\n",
    "    \n",
    "    print(\"LENGTH:\\n{}\\n\".format(len(most_prob_topic)))\n",
    "\n",
    "    unique, counts = numpy.unique(\n",
    "        numpy.array(most_prob_topic), \n",
    "        return_counts=True\n",
    "    )\n",
    "\n",
    "    print(\"COUNTS:\\n{}\\n\".format(numpy.asarray((unique, counts)).T))\n",
    "    \n",
    "    # make plot\n",
    "    matplotlib.pyplot.figure(figsize=(10,6))\n",
    "    #color_list = ['b', 'g', 'r', 'c', 'm', 'y', 'k', 'b', 'g', 'r']\n",
    "    color_list = ['#1f77b4', '#ff7f0e', '#2ca02c', '#d62728', '#9467bd', '#8c564b', '#e377c2', '#7f7f7f', '#bcbd22', '#17becf']\n",
    "\n",
    "    for i in list(set(most_prob_topic)):\n",
    "        indices = [idx for idx, val in enumerate(most_prob_topic) if val == i]\n",
    "        matplotlib.pyplot.scatter(\n",
    "            x=tsne_fit[indices, 0], \n",
    "            y=tsne_fit[indices, 1], \n",
    "            s=0.5, \n",
    "            c=color_list[i], \n",
    "            label='Topic' + str(i),\n",
    "            alpha=1\n",
    "        )\n",
    "    \n",
    "    \n",
    "    matplotlib.pyplot.xlabel('x-tsne')\n",
    "    matplotlib.pyplot.ylabel('y-tsne')\n",
    "    matplotlib.pyplot.legend(markerscale=10)"
   ]
  },
  {
   "cell_type": "code",
   "execution_count": null,
   "metadata": {},
   "outputs": [],
   "source": [
    "plot_tsne(data=lda_transform, threshold=0)"
   ]
  },
  {
   "cell_type": "code",
   "execution_count": null,
   "metadata": {},
   "outputs": [],
   "source": [
    "# define and fit nmf model\n",
    "\n",
    "nmf = sklearn.decomposition.NMF(\n",
    "    n_components=optimal_num_topics,\n",
    "    init=\"nndsvda\",\n",
    "    solver=\"mu\",\n",
    "    beta_loss=\"frobenius\",\n",
    "    random_state=0, \n",
    "    alpha=0.1, \n",
    "    l1_ratio=0.5\n",
    ")\n",
    "nmf.fit(clean_vec1)"
   ]
  },
  {
   "cell_type": "code",
   "execution_count": null,
   "metadata": {},
   "outputs": [],
   "source": [
    "# run function to produce nice output tables\n",
    "\n",
    "W_df, H_df = get_topics(\n",
    "    mod=nmf,\n",
    "    vec=clean_vec1,\n",
    "    names=feature_names_vec1,\n",
    "    docs=raw,\n",
    "    ndocs=number_docs, \n",
    "    nwords=number_words\n",
    ")"
   ]
  },
  {
   "cell_type": "code",
   "execution_count": null,
   "metadata": {},
   "outputs": [],
   "source": [
    "# word-topic table\n",
    "print(W_df)"
   ]
  },
  {
   "cell_type": "code",
   "execution_count": null,
   "metadata": {},
   "outputs": [],
   "source": [
    "# document-topic table\n",
    "print(H_df)"
   ]
  },
  {
   "cell_type": "code",
   "execution_count": null,
   "metadata": {},
   "outputs": [],
   "source": [
    "# output raw document-topic matrix for t-SNE plot\n",
    "nmf_transform = nmf.transform(clean_vec1)\n",
    "print(nmf_transform.shape)\n",
    "print(nmf_transform)"
   ]
  },
  {
   "cell_type": "code",
   "execution_count": null,
   "metadata": {},
   "outputs": [],
   "source": [
    "# run function to produce t-SNE plot\n",
    "plot_tsne(data=nmf_transform, threshold=0)"
   ]
  },
  {
   "cell_type": "code",
   "execution_count": null,
   "metadata": {},
   "outputs": [],
   "source": []
  }
 ],
 "metadata": {
  "kernelspec": {
   "display_name": "Python 3",
   "language": "python",
   "name": "python3"
  },
  "language_info": {
   "codemirror_mode": {
    "name": "ipython",
    "version": 3
   },
   "file_extension": ".py",
   "mimetype": "text/x-python",
   "name": "python",
   "nbconvert_exporter": "python",
   "pygments_lexer": "ipython3",
   "version": "3.8.5"
  }
 },
 "nbformat": 4,
 "nbformat_minor": 4
}
