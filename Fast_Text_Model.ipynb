{
 "cells": [
  {
   "cell_type": "code",
   "execution_count": 2,
   "metadata": {},
   "outputs": [],
   "source": [
    "import pandas as pd\n",
    "import numpy as np\n",
    "import matplotlib.pyplot as plt\n",
    "from gensim.models.fasttext import FastText\n",
    "from rank_bm25 import BM25Okapi"
   ]
  },
  {
   "cell_type": "code",
   "execution_count": 3,
   "metadata": {},
   "outputs": [
    {
     "data": {
      "text/html": [
       "<div>\n",
       "<style scoped>\n",
       "    .dataframe tbody tr th:only-of-type {\n",
       "        vertical-align: middle;\n",
       "    }\n",
       "\n",
       "    .dataframe tbody tr th {\n",
       "        vertical-align: top;\n",
       "    }\n",
       "\n",
       "    .dataframe thead th {\n",
       "        text-align: right;\n",
       "    }\n",
       "</style>\n",
       "<table border=\"1\" class=\"dataframe\">\n",
       "  <thead>\n",
       "    <tr style=\"text-align: right;\">\n",
       "      <th></th>\n",
       "      <th>index</th>\n",
       "      <th>text</th>\n",
       "      <th>tokens</th>\n",
       "      <th>num_tokens</th>\n",
       "      <th>text_clean</th>\n",
       "    </tr>\n",
       "  </thead>\n",
       "  <tbody>\n",
       "    <tr>\n",
       "      <th>0</th>\n",
       "      <td>0</td>\n",
       "      <td>Financial Controller  ¡Estás interesado en hac...</td>\n",
       "      <td>['financial', 'controller', ' ', 'hacer', 'mej...</td>\n",
       "      <td>58</td>\n",
       "      <td>financial controller   hacer mejores agencias ...</td>\n",
       "    </tr>\n",
       "    <tr>\n",
       "      <th>1</th>\n",
       "      <td>1</td>\n",
       "      <td>Asistente de Gerencia RPO DESCRIPCIÓN DEL PUES...</td>\n",
       "      <td>['asistente', 'gerencia', 'rpo', 'descripcion'...</td>\n",
       "      <td>449</td>\n",
       "      <td>asistente gerencia rpo descripcion puestodar a...</td>\n",
       "    </tr>\n",
       "    <tr>\n",
       "      <th>2</th>\n",
       "      <td>2</td>\n",
       "      <td>Regional Communication Manager LATAM Regional ...</td>\n",
       "      <td>['gerente', 'comunicacion', 'gerente', 'comuni...</td>\n",
       "      <td>398</td>\n",
       "      <td>gerente comunicacion gerente comunicacion lata...</td>\n",
       "    </tr>\n",
       "    <tr>\n",
       "      <th>3</th>\n",
       "      <td>3</td>\n",
       "      <td>Especialista Lean Especialista LeanProfesional...</td>\n",
       "      <td>['especialista', 'leer', 'especialista', 'lean...</td>\n",
       "      <td>100</td>\n",
       "      <td>especialista leer especialista leanprofesional...</td>\n",
       "    </tr>\n",
       "    <tr>\n",
       "      <th>4</th>\n",
       "      <td>4</td>\n",
       "      <td>Gerencia Comercial Gerencia ComercialBilingüe ...</td>\n",
       "      <td>['gerencia', 'comercial', 'gerencia', 'comerci...</td>\n",
       "      <td>72</td>\n",
       "      <td>gerencia comercial gerencia comercialbilingue ...</td>\n",
       "    </tr>\n",
       "  </tbody>\n",
       "</table>\n",
       "</div>"
      ],
      "text/plain": [
       "   index                                               text  \\\n",
       "0      0  Financial Controller  ¡Estás interesado en hac...   \n",
       "1      1  Asistente de Gerencia RPO DESCRIPCIÓN DEL PUES...   \n",
       "2      2  Regional Communication Manager LATAM Regional ...   \n",
       "3      3  Especialista Lean Especialista LeanProfesional...   \n",
       "4      4  Gerencia Comercial Gerencia ComercialBilingüe ...   \n",
       "\n",
       "                                              tokens  num_tokens  \\\n",
       "0  ['financial', 'controller', ' ', 'hacer', 'mej...          58   \n",
       "1  ['asistente', 'gerencia', 'rpo', 'descripcion'...         449   \n",
       "2  ['gerente', 'comunicacion', 'gerente', 'comuni...         398   \n",
       "3  ['especialista', 'leer', 'especialista', 'lean...         100   \n",
       "4  ['gerencia', 'comercial', 'gerencia', 'comerci...          72   \n",
       "\n",
       "                                          text_clean  \n",
       "0  financial controller   hacer mejores agencias ...  \n",
       "1  asistente gerencia rpo descripcion puestodar a...  \n",
       "2  gerente comunicacion gerente comunicacion lata...  \n",
       "3  especialista leer especialista leanprofesional...  \n",
       "4  gerencia comercial gerencia comercialbilingue ...  "
      ]
     },
     "execution_count": 3,
     "metadata": {},
     "output_type": "execute_result"
    }
   ],
   "source": [
    "train_df = pd.read_csv(\"train_fasttext.csv\") #.drop('Unnamed: 0', axis=1)\n",
    "train_df.head()"
   ]
  },
  {
   "cell_type": "code",
   "execution_count": 4,
   "metadata": {},
   "outputs": [],
   "source": [
    "#FUNCIÓN PARA GENERAR MODELO\n",
    "def train_model(data, size):\n",
    "    ft_model = FastText(\n",
    "        sg=1, # use skip-gram: usually gives better results\n",
    "        size=size, # embedding dimension\n",
    "        window=5, # window size: 5 tokens before and 5 tokens after to get wider context\n",
    "        min_count=1, # only consider tokens with at least n occurrences in the corpus\n",
    "        negative=15, # negative subsampling: bigger than default to sample negative examples more\n",
    "        min_n=2, # min character n-gram\n",
    "        max_n=5, # max character n-gram\n",
    "        workers=1\n",
    "    )\n",
    "    ft_model.build_vocab(data.tokens.tolist())\n",
    "    ft_model.train(\n",
    "        data.tokens.tolist(),\n",
    "        epochs=6,\n",
    "        total_examples=ft_model.corpus_count, \n",
    "        total_words=ft_model.corpus_total_words,\n",
    "        queue_factor=1\n",
    "    )\n",
    "    return ft_model"
   ]
  },
  {
   "cell_type": "code",
   "execution_count": 5,
   "metadata": {},
   "outputs": [],
   "source": [
    "# Calculamos los pesos para la indexación\n",
    "def calculate_weights(data, model):\n",
    "    weighted_doc_vects = []\n",
    "    bm25 = BM25Okapi(data.tokens.tolist())\n",
    "    for i, doc in enumerate(data.tokens.tolist()):\n",
    "        doc_vector = []\n",
    "        for word in doc:\n",
    "            vector = model[word]\n",
    "            weight = (bm25.idf[word] * ((bm25.k1 + 1.0)*bm25.doc_freqs[i][word])) / \\\n",
    "                (bm25.k1 * (1.0 - bm25.b + bm25.b *(bm25.doc_len[i]/bm25.avgdl))+bm25.doc_freqs[i][word])\n",
    "            weighted_vector = vector * weight\n",
    "            doc_vector.append(weighted_vector)\n",
    "\n",
    "        weighted_doc_vects.append(np.mean(doc_vector, axis=0))\n",
    "    return weighted_doc_vects"
   ]
  },
  {
   "cell_type": "code",
   "execution_count": 6,
   "metadata": {},
   "outputs": [],
   "source": [
    "#model = train_model(train_df, 100)\n",
    "#weights = calculate_weights(train_df, model)\n",
    "\n",
    "#CON ESTA LINEA SE CREA EL DATAFRAME PARA EL CLUSTERING\n",
    "#data_df = pd.DataFrame(np.concatenate([[array] for array in weights]))\n",
    "#data_df.head()"
   ]
  },
  {
   "cell_type": "code",
   "execution_count": 7,
   "metadata": {},
   "outputs": [],
   "source": [
    "#data_df.to_csv(\"fastext_model_100.csv\")"
   ]
  },
  {
   "cell_type": "code",
   "execution_count": null,
   "metadata": {},
   "outputs": [],
   "source": [
    "model_300 = train_model(train_df, 300)\n",
    "weights_300 = calculate_weights(train_df, model_300)\n",
    "\n",
    "#CON ESTA LINEA SE CREA EL DATAFRAME PARA EL CLUSTERING\n",
    "data_df_300 = pd.DataFrame(np.concatenate([[array] for array in weights_300]))\n",
    "data_df_300.head()"
   ]
  },
  {
   "cell_type": "code",
   "execution_count": null,
   "metadata": {},
   "outputs": [],
   "source": [
    "data_df_300.to_csv(\"fastext_model_300.csv\")"
   ]
  }
 ],
 "metadata": {
  "kernelspec": {
   "display_name": "Python 3",
   "language": "python",
   "name": "python3"
  },
  "language_info": {
   "codemirror_mode": {
    "name": "ipython",
    "version": 3
   },
   "file_extension": ".py",
   "mimetype": "text/x-python",
   "name": "python",
   "nbconvert_exporter": "python",
   "pygments_lexer": "ipython3",
   "version": "3.8.5"
  }
 },
 "nbformat": 4,
 "nbformat_minor": 4
}
