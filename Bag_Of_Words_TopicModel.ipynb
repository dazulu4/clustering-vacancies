{
 "cells": [
  {
   "cell_type": "code",
   "execution_count": null,
   "metadata": {},
   "outputs": [],
   "source": [
    "!pip install langdetect"
   ]
  },
  {
   "cell_type": "code",
   "execution_count": null,
   "metadata": {},
   "outputs": [],
   "source": [
    "!pip install pyLDAvis"
   ]
  },
  {
   "cell_type": "code",
   "execution_count": 62,
   "metadata": {},
   "outputs": [],
   "source": [
    "# not necessary\n",
    "# added to suppress warnings coming from pyLDAvis\n",
    "\n",
    "import warnings\n",
    "warnings.filterwarnings('ignore')\n",
    "\n",
    "# plotting\n",
    "import matplotlib.pyplot\n",
    "%matplotlib inline"
   ]
  },
  {
   "cell_type": "code",
   "execution_count": 63,
   "metadata": {},
   "outputs": [],
   "source": [
    "import langdetect  # language detection\n",
    "import nltk  # natural language processing\n",
    "from nltk.corpus import words\n",
    "from nltk.stem.wordnet import WordNetLemmatizer\n",
    "import numpy  # arrays and matrices\n",
    "import pandas  # dataframes\n",
    "import pyLDAvis  # plotting\n",
    "import pyLDAvis.sklearn  # plotting\n",
    "import regex  # regular expressions\n",
    "import string\n",
    "from unicodedata import normalize\n",
    "import sklearn  # machine learning\n",
    "\n",
    "import spacy\n",
    "import spacy_spanish_lemmatizer\n",
    "\n",
    "from html import unescape\n",
    "\n",
    "from joblib import Parallel, delayed"
   ]
  },
  {
   "cell_type": "code",
   "execution_count": 88,
   "metadata": {},
   "outputs": [
    {
     "name": "stderr",
     "output_type": "stream",
     "text": [
      "[nltk_data] Downloading package words to /home/alexander/nltk_data...\n",
      "[nltk_data]   Package words is already up-to-date!\n",
      "[nltk_data] Downloading package wordnet to\n",
      "[nltk_data]     /home/alexander/nltk_data...\n",
      "[nltk_data]   Package wordnet is already up-to-date!\n",
      "[nltk_data] Downloading package stopwords to\n",
      "[nltk_data]     /home/alexander/nltk_data...\n",
      "[nltk_data]   Package stopwords is already up-to-date!\n"
     ]
    },
    {
     "data": {
      "text/plain": [
       "1182"
      ]
     },
     "execution_count": 88,
     "metadata": {},
     "output_type": "execute_result"
    }
   ],
   "source": [
    "# installing specific word dictionarys\n",
    "# used for stopword removal and lemmatization\n",
    "\n",
    "nltk.download(\"words\")\n",
    "nltk.download(\"wordnet\")\n",
    "nltk.download(\"stopwords\")\n",
    "\n",
    "nlp = spacy.load(\"es_core_news_sm\")\n",
    "nlp.replace_pipe(\"lemmatizer\", \"spanish_lemmatizer\")\n",
    "\n",
    "include_stopwords = set(pandas.read_csv(\"stopwords.csv\").data.tolist())\n",
    "include_stopwords = set([i for i in include_stopwords if type(i) == str])\n",
    "len(include_stopwords)"
   ]
  },
  {
   "cell_type": "code",
   "execution_count": 65,
   "metadata": {},
   "outputs": [
    {
     "data": {
      "text/html": [
       "<div>\n",
       "<style scoped>\n",
       "    .dataframe tbody tr th:only-of-type {\n",
       "        vertical-align: middle;\n",
       "    }\n",
       "\n",
       "    .dataframe tbody tr th {\n",
       "        vertical-align: top;\n",
       "    }\n",
       "\n",
       "    .dataframe thead th {\n",
       "        text-align: right;\n",
       "    }\n",
       "</style>\n",
       "<table border=\"1\" class=\"dataframe\">\n",
       "  <thead>\n",
       "    <tr style=\"text-align: right;\">\n",
       "      <th></th>\n",
       "      <th>Cargo</th>\n",
       "      <th>Descripcion</th>\n",
       "      <th>Educacion requerida</th>\n",
       "      <th>Experiencia requerida (meses)</th>\n",
       "      <th>Tipo de empleo</th>\n",
       "      <th>Empresa</th>\n",
       "      <th>Sector</th>\n",
       "      <th>Cantidad de aplicantes</th>\n",
       "      <th>Fecha de publicacion</th>\n",
       "      <th>Fecha de expiracion</th>\n",
       "      <th>Ciudad</th>\n",
       "      <th>Pais</th>\n",
       "      <th>Url vacante</th>\n",
       "    </tr>\n",
       "  </thead>\n",
       "  <tbody>\n",
       "    <tr>\n",
       "      <th>0</th>\n",
       "      <td>Financial Controller</td>\n",
       "      <td>&amp;lt;p&amp;gt;¡Estás interesado en hacer parte de u...</td>\n",
       "      <td>bachelor degree</td>\n",
       "      <td>NaN</td>\n",
       "      <td>FULL_TIME</td>\n",
       "      <td>Adbid - Marketing Digital para E-commerce</td>\n",
       "      <td>Marketing y publicidad</td>\n",
       "      <td>147 solicitudes</td>\n",
       "      <td>2021-06-25T14:01:05.000Z</td>\n",
       "      <td>2021-07-25T14:01:04.000Z</td>\n",
       "      <td>Bogotá</td>\n",
       "      <td>CO</td>\n",
       "      <td>https://co.linkedin.com/jobs/view/financial-co...</td>\n",
       "    </tr>\n",
       "    <tr>\n",
       "      <th>1</th>\n",
       "      <td>Asistente de Gerencia RPO</td>\n",
       "      <td>DESCRIPCIÓN DEL PUESTO&amp;lt;br&amp;gt;&amp;lt;br&amp;gt;Dar ...</td>\n",
       "      <td>NaN</td>\n",
       "      <td>NaN</td>\n",
       "      <td>FULL_TIME</td>\n",
       "      <td>GRUPO STT</td>\n",
       "      <td>Contabilidad</td>\n",
       "      <td>194 solicitudes</td>\n",
       "      <td>2021-06-26T01:11:33.000Z</td>\n",
       "      <td>2021-07-26T01:11:33.000Z</td>\n",
       "      <td>Bogotá</td>\n",
       "      <td>CO</td>\n",
       "      <td>https://co.linkedin.com/jobs/view/asistente-de...</td>\n",
       "    </tr>\n",
       "    <tr>\n",
       "      <th>2</th>\n",
       "      <td>Regional Communication Manager LATAM</td>\n",
       "      <td>Regional Communication Manager LATAM&amp;lt;br&amp;gt;...</td>\n",
       "      <td>bachelor degree</td>\n",
       "      <td>120.0</td>\n",
       "      <td>FULL_TIME</td>\n",
       "      <td>ABB</td>\n",
       "      <td>Manufactura eléctrica/electrónica</td>\n",
       "      <td>94 solicitudes</td>\n",
       "      <td>2021-06-19T00:00:00.000Z</td>\n",
       "      <td>2021-07-23T07:29:47.000Z</td>\n",
       "      <td>Bogotá</td>\n",
       "      <td>CO</td>\n",
       "      <td>https://co.linkedin.com/jobs/view/regional-com...</td>\n",
       "    </tr>\n",
       "    <tr>\n",
       "      <th>3</th>\n",
       "      <td>Especialista Lean</td>\n",
       "      <td>&amp;lt;strong&amp;gt;Especialista Lean&amp;lt;br&amp;gt;&amp;lt;/...</td>\n",
       "      <td>NaN</td>\n",
       "      <td>NaN</td>\n",
       "      <td>FULL_TIME</td>\n",
       "      <td>Michael Page</td>\n",
       "      <td>Telecomunicaciones,Biotecnología,Servicios y t...</td>\n",
       "      <td>NaN</td>\n",
       "      <td>2021-05-31T23:16:51.000Z</td>\n",
       "      <td>2021-07-25T23:16:50.000Z</td>\n",
       "      <td>Bogotá</td>\n",
       "      <td>CO</td>\n",
       "      <td>https://co.linkedin.com/jobs/view/especialista...</td>\n",
       "    </tr>\n",
       "    <tr>\n",
       "      <th>4</th>\n",
       "      <td>Gerencia Comercial</td>\n",
       "      <td>&amp;lt;strong&amp;gt;Gerencia Comercial&amp;lt;br&amp;gt;&amp;lt;...</td>\n",
       "      <td>bachelor degree</td>\n",
       "      <td>NaN</td>\n",
       "      <td>FULL_TIME</td>\n",
       "      <td>Michael Page</td>\n",
       "      <td>Ingeniería industrial o mecánica,Manufactura e...</td>\n",
       "      <td>NaN</td>\n",
       "      <td>2021-05-31T23:16:49.000Z</td>\n",
       "      <td>2021-07-25T23:16:49.000Z</td>\n",
       "      <td>Colombia</td>\n",
       "      <td>CO</td>\n",
       "      <td>https://co.linkedin.com/jobs/view/gerencia-com...</td>\n",
       "    </tr>\n",
       "  </tbody>\n",
       "</table>\n",
       "</div>"
      ],
      "text/plain": [
       "                                  Cargo  \\\n",
       "0                 Financial Controller    \n",
       "1             Asistente de Gerencia RPO   \n",
       "2  Regional Communication Manager LATAM   \n",
       "3                     Especialista Lean   \n",
       "4                    Gerencia Comercial   \n",
       "\n",
       "                                         Descripcion Educacion requerida  \\\n",
       "0  &lt;p&gt;¡Estás interesado en hacer parte de u...     bachelor degree   \n",
       "1  DESCRIPCIÓN DEL PUESTO&lt;br&gt;&lt;br&gt;Dar ...                 NaN   \n",
       "2  Regional Communication Manager LATAM&lt;br&gt;...     bachelor degree   \n",
       "3  &lt;strong&gt;Especialista Lean&lt;br&gt;&lt;/...                 NaN   \n",
       "4  &lt;strong&gt;Gerencia Comercial&lt;br&gt;&lt;...     bachelor degree   \n",
       "\n",
       "   Experiencia requerida (meses) Tipo de empleo  \\\n",
       "0                            NaN      FULL_TIME   \n",
       "1                            NaN      FULL_TIME   \n",
       "2                          120.0      FULL_TIME   \n",
       "3                            NaN      FULL_TIME   \n",
       "4                            NaN      FULL_TIME   \n",
       "\n",
       "                                      Empresa  \\\n",
       "0  Adbid - Marketing Digital para E-commerce    \n",
       "1                                   GRUPO STT   \n",
       "2                                         ABB   \n",
       "3                                Michael Page   \n",
       "4                                Michael Page   \n",
       "\n",
       "                                              Sector Cantidad de aplicantes  \\\n",
       "0                             Marketing y publicidad        147 solicitudes   \n",
       "1                                       Contabilidad        194 solicitudes   \n",
       "2                  Manufactura eléctrica/electrónica         94 solicitudes   \n",
       "3  Telecomunicaciones,Biotecnología,Servicios y t...                    NaN   \n",
       "4  Ingeniería industrial o mecánica,Manufactura e...                    NaN   \n",
       "\n",
       "       Fecha de publicacion       Fecha de expiracion    Ciudad Pais  \\\n",
       "0  2021-06-25T14:01:05.000Z  2021-07-25T14:01:04.000Z    Bogotá   CO   \n",
       "1  2021-06-26T01:11:33.000Z  2021-07-26T01:11:33.000Z    Bogotá   CO   \n",
       "2  2021-06-19T00:00:00.000Z  2021-07-23T07:29:47.000Z    Bogotá   CO   \n",
       "3  2021-05-31T23:16:51.000Z  2021-07-25T23:16:50.000Z    Bogotá   CO   \n",
       "4  2021-05-31T23:16:49.000Z  2021-07-25T23:16:49.000Z  Colombia   CO   \n",
       "\n",
       "                                         Url vacante  \n",
       "0  https://co.linkedin.com/jobs/view/financial-co...  \n",
       "1  https://co.linkedin.com/jobs/view/asistente-de...  \n",
       "2  https://co.linkedin.com/jobs/view/regional-com...  \n",
       "3  https://co.linkedin.com/jobs/view/especialista...  \n",
       "4  https://co.linkedin.com/jobs/view/gerencia-com...  "
      ]
     },
     "execution_count": 65,
     "metadata": {},
     "output_type": "execute_result"
    }
   ],
   "source": [
    "path = 'agregado_vacantes_scraping_20210701.xlsx'\n",
    "df = pandas.read_excel(path)\n",
    "df.head()"
   ]
  },
  {
   "cell_type": "code",
   "execution_count": 66,
   "metadata": {},
   "outputs": [
    {
     "data": {
      "text/plain": [
       "Index(['Cargo', 'Descripcion', 'Fecha de publicacion', 'Fecha de expiracion'], dtype='object')"
      ]
     },
     "execution_count": 66,
     "metadata": {},
     "output_type": "execute_result"
    }
   ],
   "source": [
    "df = df[[\"Cargo\", \"Descripcion\", \"Fecha de publicacion\", \"Fecha de expiracion\"]]\n",
    "df.columns"
   ]
  },
  {
   "cell_type": "code",
   "execution_count": 67,
   "metadata": {},
   "outputs": [
    {
     "name": "stdout",
     "output_type": "stream",
     "text": [
      "<class 'pandas.core.frame.DataFrame'>\n",
      "RangeIndex: 678 entries, 0 to 677\n",
      "Data columns (total 4 columns):\n",
      " #   Column                Non-Null Count  Dtype \n",
      "---  ------                --------------  ----- \n",
      " 0   Cargo                 678 non-null    object\n",
      " 1   Descripcion           678 non-null    object\n",
      " 2   Fecha de publicacion  678 non-null    object\n",
      " 3   Fecha de expiracion   678 non-null    object\n",
      "dtypes: object(4)\n",
      "memory usage: 21.3+ KB\n"
     ]
    }
   ],
   "source": [
    "df.info()"
   ]
  },
  {
   "cell_type": "code",
   "execution_count": 68,
   "metadata": {},
   "outputs": [
    {
     "name": "stdout",
     "output_type": "stream",
     "text": [
      "<class 'pandas.core.frame.DataFrame'>\n",
      "Int64Index: 428 entries, 0 to 656\n",
      "Data columns (total 4 columns):\n",
      " #   Column                Non-Null Count  Dtype \n",
      "---  ------                --------------  ----- \n",
      " 0   Cargo                 428 non-null    object\n",
      " 1   Descripcion           428 non-null    object\n",
      " 2   Fecha de publicacion  428 non-null    object\n",
      " 3   Fecha de expiracion   428 non-null    object\n",
      "dtypes: object(4)\n",
      "memory usage: 16.7+ KB\n"
     ]
    }
   ],
   "source": [
    "df = df.drop_duplicates()\n",
    "df.info()"
   ]
  },
  {
   "cell_type": "code",
   "execution_count": 69,
   "metadata": {},
   "outputs": [
    {
     "name": "stdout",
     "output_type": "stream",
     "text": [
      "SHAPE:\n",
      "(428, 4)\n",
      "\n",
      "COLUMN NAMES:\n",
      "Index(['Cargo', 'Descripcion', 'Fecha de publicacion', 'Fecha de expiracion'], dtype='object')\n",
      "\n",
      "HEAD:\n",
      "                       Cargo  \\\n",
      "0      Financial Controller    \n",
      "1  Asistente de Gerencia RPO   \n",
      "\n",
      "                                         Descripcion  \\\n",
      "0  &lt;p&gt;¡Estás interesado en hacer parte de u...   \n",
      "1  DESCRIPCIÓN DEL PUESTO&lt;br&gt;&lt;br&gt;Dar ...   \n",
      "\n",
      "       Fecha de publicacion       Fecha de expiracion  \n",
      "0  2021-06-25T14:01:05.000Z  2021-07-25T14:01:04.000Z  \n",
      "1  2021-06-26T01:11:33.000Z  2021-07-26T01:11:33.000Z  \n",
      "\n"
     ]
    }
   ],
   "source": [
    "# define quick look function for data frame\n",
    "\n",
    "def dataframe_quick_look(df, nrows):\n",
    "    print(\"SHAPE:\\n{shape}\\n\".format(shape=df.shape))\n",
    "    print(\"COLUMN NAMES:\\n{names}\\n\".format(names=df.columns))\n",
    "    print(\"HEAD:\\n{head}\\n\".format(head=df.head(nrows)))\n",
    "    \n",
    "dataframe_quick_look(df, nrows=2)"
   ]
  },
  {
   "cell_type": "code",
   "execution_count": 70,
   "metadata": {},
   "outputs": [
    {
     "name": "stdout",
     "output_type": "stream",
     "text": [
      "TOPICS:\n",
      "Auxiliar administrativo                 11\n",
      "Recepcionista hotel                      7\n",
      "Auxiliar servicio al cliente             6\n",
      "Jefe logística                           5\n",
      "Auxiliar archivo                         4\n",
      "                                        ..\n",
      "Jefe mercadeo y ventas                   1\n",
      "Dependiente judicial                     1\n",
      "Analista de laboratorio - Bogotá         1\n",
      "Country Marketing Manager - Colombia     1\n",
      "Gerente general hotel                    1\n",
      "Name: Cargo, Length: 341, dtype: int64\n",
      "\n"
     ]
    }
   ],
   "source": [
    "# data set came with prespecified topics\n",
    "# print the topics out with counts\n",
    "\n",
    "print(\"TOPICS:\\n{topics}\\n\".format(topics=df[\"Cargo\"].value_counts()))"
   ]
  },
  {
   "cell_type": "code",
   "execution_count": 72,
   "metadata": {
    "scrolled": false
   },
   "outputs": [
    {
     "name": "stdout",
     "output_type": "stream",
     "text": [
      "HEADLINES:\n",
      "['&lt;p&gt;¡Estás interesado en hacer parte de una de las mejores agencias de Marketing Digital!&lt;/p&gt;&lt;p&gt;&lt;br&gt;&lt;/p&gt;&lt;p&gt;Si eres profesional en alguna de las siguientes carreras: Administración de Empresas, Ingeniería Industrial, Economía, Finanzas, con conocimientos financieros y de planeación financiera, experiencia superior a 2 años, ser muy analítico(a) y con liderazgo, puedes postularte o enviarnos tu hoja de vida a Johanna.rodriguez@adbid.com.co para revisar tu perfil y de ajustarse nos pondremos en contacto.&lt;/p&gt;&lt;p&gt;&lt;br&gt;&lt;/p&gt;&lt;ul&gt;&lt;li&gt;¡Si cuentas con estas características postúlate aquí! te ofrecemos excelente plan de beneficios, crecimiento a nivel personal y profesional, salario a convenir.&lt;/li&gt;&lt;/ul&gt;']\n",
      "\n",
      "LENGTH:\n",
      "428\n",
      "\n"
     ]
    }
   ],
   "source": [
    "# view final data that will be carried forward\n",
    "\n",
    "raw = df['Descripcion'].tolist()\n",
    "print(\"HEADLINES:\\n{lines}\\n\".format(lines=raw[:1]))\n",
    "print(\"LENGTH:\\n{length}\\n\".format(length=len(raw)))"
   ]
  },
  {
   "cell_type": "code",
   "execution_count": 73,
   "metadata": {},
   "outputs": [],
   "source": [
    "def clean_html(text):\n",
    "    cleantext = unescape(text)\n",
    "    cleanr = regex.compile('<.*?>|&([a-z0-9]+|#[0-9]{1,6}|#x[0-9a-f]{1,6});')\n",
    "    cleantext = regex.sub(cleanr, ' ', cleantext)\n",
    "    return cleantext\n",
    "\n",
    "# check language of headline\n",
    "# filter to english only\n",
    "\n",
    "def do_language_identifying(txt):\n",
    "    try: the_language = langdetect.detect(txt)\n",
    "    except: the_language = 'none'\n",
    "    return the_language\n",
    "\n",
    "# define function to perform lemmatization\n",
    "\n",
    "def do_lemmatizing(txt):\n",
    "    text_lemma = nlp(txt)\n",
    "    tokens = [word.lemma_ for word in text_lemma]\n",
    "    return tokens\n",
    "    #out = WordNetLemmatizer().lemmatize(wrd)\n",
    "    #return (wrd if out is None else out)"
   ]
  },
  {
   "cell_type": "code",
   "execution_count": 18,
   "metadata": {},
   "outputs": [],
   "source": [
    "# define function to cleaning tweet data\n",
    "\n",
    "def do_text_cleaning(txt):\n",
    "    \n",
    "    txt = clean_html(txt)\n",
    "    \n",
    "    txt = txt.lower()\n",
    "       \n",
    "    # identify language of tweet\n",
    "    # return null if language not english\n",
    "    lg = do_language_identifying(txt)\n",
    "    if lg != 'es':\n",
    "        return None\n",
    "    \n",
    "    # lemmatizing\n",
    "    #out = [do_lemmatizing(i) for i in out]\n",
    "    txt = \" \".join(do_lemmatizing(txt))\n",
    "    \n",
    "    # Remove text in square brackets, remove punctuation and remove words containing numbers.\n",
    "    txt = txt.replace(\"ñ\", \"nh\")\n",
    "    txt = regex.sub(r\"\\[.*?¿\\]\\%\", \" \", txt)\n",
    "    txt = regex.sub(r\"https://\", \"\", txt)\n",
    "    txt = regex.sub(r\"www.\", \"\", txt)\n",
    "    txt = regex.sub(r\"[‘’“”…«»]\", \"\", txt)\n",
    "    txt = regex.sub(r'[\"\\[\\]\\{\\}]', \"\", txt)\n",
    "    txt = regex.sub(r\"_\", \" \", txt)\n",
    "    txt = regex.sub(r\"[%s]\" % regex.escape(string.punctuation), \" \", txt)\n",
    "    txt = regex.sub(r\"\\w*\\d\\w*\", \"\", txt)\n",
    "    txt = regex.sub(\n",
    "        r\"([^n\\u0300-\\u036f]|n(?!\\u0303(?![\\u0300-\\u036f])))[\\u0300-\\u036f]+\", r\"\\1\", \n",
    "        normalize(\"NFD\", txt), 0, regex.I\n",
    "    )\n",
    "    txt = regex.sub(r\"\\n\", \" \", txt)\n",
    "    txt = regex.sub(r\"&lt;/?.*?&gt;\", \" &lt;&gt; \", txt)\n",
    "\n",
    "    # Eliminar caracteres que se repitan más de dos veces seguidas\n",
    "    pattern = regex.compile(r\"(.)\\1{2,}\")\n",
    "    txt = pattern.sub(r\"\\1\\1\", txt)\n",
    "\n",
    "    \n",
    "    # split the string on whitespace\n",
    "    out = txt.split(' ')\n",
    "   \n",
    "    \n",
    "    # identify screen names\n",
    "    # replace with SCREENNAME\n",
    "    out = ['SCREENNAME' if i.startswith('@') else i for i in out]\n",
    "    \n",
    "    # identify urls\n",
    "    # replace with URL\n",
    "    out = [\n",
    "        'URL' if bool(regex.search('http[s]?://', i)) \n",
    "        else i for i in out\n",
    "    ]\n",
    "    \n",
    "    # remove all punctuation\n",
    "    out = [regex.sub('[^\\\\w\\\\s]|\\n', '', i) for i in out]\n",
    "    \n",
    "    # make all non-keywords lowercase\n",
    "    keys = ['SCREENNAME', 'URL']\n",
    "    out = [i.lower() if i not in keys else i for i in out]\n",
    "    \n",
    "    # remove keywords\n",
    "    out = [i for i in out if i not in keys]\n",
    "    \n",
    "    # remove stopwords\n",
    "    list_stop_words = set(nltk.corpus.stopwords.words('spanish'))\n",
    "    list_stop_words |= include_stopwords\n",
    "    list_stop_words = [regex.sub('[^\\\\w\\\\s]', '', i) for i in list_stop_words]\n",
    "    \n",
    "    out = [i for i in out if i not in list_stop_words]\n",
    "    \n",
    "    # keep words 4 or more characters long\n",
    "    out = [i for i in out if len(i) >= 4]\n",
    "    \n",
    "    return out"
   ]
  },
  {
   "cell_type": "code",
   "execution_count": 89,
   "metadata": {},
   "outputs": [],
   "source": [
    "# apply cleaning function to every vacancy\n",
    "\n",
    "#clean = list(map(do_text_cleaning, raw))\n",
    "clean = Parallel(n_jobs=8)(delayed(do_text_cleaning)(txt) for txt in raw)"
   ]
  },
  {
   "cell_type": "code",
   "execution_count": 90,
   "metadata": {},
   "outputs": [
    {
     "name": "stdout",
     "output_type": "stream",
     "text": [
      "HEADLINES:\n",
      "[['mejores', 'agencias', 'marketing', 'digital', 'profesional', 'alguno', 'carrera', 'administracion', 'empresa', 'ingenieria', 'industrial', 'economia', 'finanzas', 'financiero', 'planeacion', 'financiero', 'experiencia', 'superior', 'analitico', 'liderazgo', 'puedes', 'postularte', 'enviarnos', 'johanna', 'rodriguez', 'adbid', 'revisar', 'ajustarse', 'poner', 'contacto', 'caracteristica', 'aqui', 'plan', 'personal', 'profesional']]\n",
      "\n",
      "LENGTH:\n",
      "381\n",
      "\n"
     ]
    }
   ],
   "source": [
    "# remove none types\n",
    "\n",
    "clean = list(filter(None.__ne__, clean))\n",
    "print(\"HEADLINES:\\n{lines}\\n\".format(lines=clean[:1]))\n",
    "print(\"LENGTH:\\n{length}\\n\".format(length=len(clean)))"
   ]
  },
  {
   "cell_type": "code",
   "execution_count": 91,
   "metadata": {},
   "outputs": [
    {
     "data": {
      "text/plain": [
       "['mejores agencias marketing digital profesional alguno carrera administracion empresa ingenieria industrial economia finanzas financiero planeacion financiero experiencia superior analitico liderazgo puedes postularte enviarnos johanna rodriguez adbid revisar ajustarse poner contacto caracteristica aqui plan personal profesional']"
      ]
     },
     "execution_count": 91,
     "metadata": {},
     "output_type": "execute_result"
    }
   ],
   "source": [
    "# turn tokens back into strings\n",
    "# concatenate using whitespaces\n",
    "\n",
    "clean_sentences = [\" \".join(i) for i in clean]\n",
    "clean_sentences[0:1]"
   ]
  },
  {
   "cell_type": "markdown",
   "metadata": {},
   "source": [
    "### Count Vectorizer"
   ]
  },
  {
   "cell_type": "code",
   "execution_count": 156,
   "metadata": {},
   "outputs": [],
   "source": [
    "# define some global variables\n",
    "\n",
    "number_words = 10\n",
    "number_docs = 10\n",
    "number_features = 1000"
   ]
  },
  {
   "cell_type": "code",
   "execution_count": 157,
   "metadata": {},
   "outputs": [
    {
     "name": "stdout",
     "output_type": "stream",
     "text": [
      "  (0, 44)\t2\n",
      "  (0, 6)\t1\n",
      "  (0, 0)\t1\n",
      "  (0, 16)\t1\n",
      "  (0, 27)\t1\n",
      "  (0, 25)\t1\n",
      "  (0, 20)\t2\n",
      "  (0, 32)\t1\n",
      "  (0, 39)\t1\n",
      "  (0, 38)\t1\n"
     ]
    }
   ],
   "source": [
    "# execute bag of words model\n",
    "# use raw term counts for lda \n",
    "# as it is a probabilistic graphical model\n",
    "\n",
    "vectorizer1 = sklearn.feature_extraction.text.CountVectorizer(\n",
    "    analyzer=\"word\",\n",
    "    max_df=0.5, \n",
    "    min_df=0.08, \n",
    "    max_features=number_features\n",
    ")\n",
    "clean_vec1 = vectorizer1.fit_transform(clean_sentences)\n",
    "print(clean_vec1[0])\n",
    "\n",
    "feature_names_vec1 = vectorizer1.get_feature_names()"
   ]
  },
  {
   "cell_type": "code",
   "execution_count": 158,
   "metadata": {},
   "outputs": [
    {
     "data": {
      "text/plain": [
       "(62,\n",
       " ['administracion',\n",
       "  'administrativo',\n",
       "  'analisis',\n",
       "  'area',\n",
       "  'atencion',\n",
       "  'calidad',\n",
       "  'carrera',\n",
       "  'cliente',\n",
       "  'comercial',\n",
       "  'comerciales',\n",
       "  'comunicacion',\n",
       "  'cumplimiento',\n",
       "  'dato',\n",
       "  'decision',\n",
       "  'desarrollar',\n",
       "  'desarrollo',\n",
       "  'empresa',\n",
       "  'equipo',\n",
       "  'estrategia',\n",
       "  'estrategico',\n",
       "  'financiero',\n",
       "  'gerencia',\n",
       "  'gestion',\n",
       "  'gestionar',\n",
       "  'herramienta',\n",
       "  'industrial',\n",
       "  'informacion',\n",
       "  'ingenieria',\n",
       "  'ingles',\n",
       "  'intermedio',\n",
       "  'lider',\n",
       "  'liderar',\n",
       "  'liderazgo',\n",
       "  'logistica',\n",
       "  'mercado',\n",
       "  'negociacion',\n",
       "  'negocio',\n",
       "  'organizacion',\n",
       "  'personal',\n",
       "  'plan',\n",
       "  'posicion',\n",
       "  'presupuesto',\n",
       "  'proceso',\n",
       "  'producto',\n",
       "  'profesional',\n",
       "  'programa',\n",
       "  'proyecto',\n",
       "  'reportar',\n",
       "  'requerimiento',\n",
       "  'requisito',\n",
       "  'responsabilidad',\n",
       "  'responsable',\n",
       "  'sector',\n",
       "  'seguimiento',\n",
       "  'servicio',\n",
       "  'sistema',\n",
       "  'tecnico',\n",
       "  'tecnologia',\n",
       "  'tecnologo',\n",
       "  'trabajar',\n",
       "  'trabajo',\n",
       "  'venta'])"
      ]
     },
     "execution_count": 158,
     "metadata": {},
     "output_type": "execute_result"
    }
   ],
   "source": [
    "len(feature_names_vec1), feature_names_vec1"
   ]
  },
  {
   "cell_type": "markdown",
   "metadata": {},
   "source": [
    "### Select Number of Topics"
   ]
  },
  {
   "cell_type": "code",
   "execution_count": 159,
   "metadata": {},
   "outputs": [],
   "source": [
    "# define function to calculate perplexity for LDA model trained on ntopics\n",
    "\n",
    "def perplexity_by_ntopic(data, ntopics):\n",
    "    output_dict = {\n",
    "        \"Number Of Topics\": [], \n",
    "        \"Perplexity Score\": []\n",
    "    }\n",
    "    \n",
    "    for t in ntopics:\n",
    "        lda = sklearn.decomposition.LatentDirichletAllocation(\n",
    "            n_components=t,\n",
    "            learning_method=\"online\",\n",
    "            random_state=0,\n",
    "            n_jobs=-1\n",
    "        )\n",
    "        lda.fit(data)\n",
    "        \n",
    "        output_dict[\"Number Of Topics\"].append(t)\n",
    "        output_dict[\"Perplexity Score\"].append(lda.perplexity(data))\n",
    "        \n",
    "    output_df = pandas.DataFrame(output_dict)\n",
    "    \n",
    "    index_min_perplexity = output_df[\"Perplexity Score\"].idxmin()\n",
    "    output_num_topics = output_df.loc[\n",
    "        index_min_perplexity,  # index\n",
    "        \"Number Of Topics\"  # column\n",
    "    ]\n",
    "        \n",
    "    return (output_df, output_num_topics)"
   ]
  },
  {
   "cell_type": "code",
   "execution_count": 160,
   "metadata": {},
   "outputs": [
    {
     "name": "stdout",
     "output_type": "stream",
     "text": [
      "    Number Of Topics  Perplexity Score\n",
      "0                  1         54.262824\n",
      "1                  2         54.321884\n",
      "2                  3         56.727947\n",
      "3                  4         56.238959\n",
      "4                  6         58.753736\n",
      "5                  8         58.358532\n",
      "6                 10         58.796775\n",
      "7                 11         60.079356\n",
      "8                 12         60.791300\n",
      "9                 13         60.069231\n",
      "10                14         62.773837\n",
      "11                15         62.838918\n"
     ]
    }
   ],
   "source": [
    "# find perplexity scores for several different numbers of topics\n",
    "# takes several minutes\n",
    "\n",
    "df_perplexity, optimal_num_topics = perplexity_by_ntopic(\n",
    "    clean_vec1, \n",
    "    ntopics=[1, 2, 3, 4, 6, 8, 10, 11, 12, 13, 14, 15]\n",
    ")\n",
    "print(df_perplexity)"
   ]
  },
  {
   "cell_type": "code",
   "execution_count": 161,
   "metadata": {},
   "outputs": [
    {
     "data": {
      "text/plain": [
       "<AxesSubplot:xlabel='Number Of Topics'>"
      ]
     },
     "execution_count": 161,
     "metadata": {},
     "output_type": "execute_result"
    },
    {
     "data": {
      "image/png": "[encoded data removed]",
      "text/plain": [
       "<Figure size 432x288 with 1 Axes>"
      ]
     },
     "metadata": {
      "needs_background": "light"
     },
     "output_type": "display_data"
    }
   ],
   "source": [
    "df_perplexity.plot.line(\"Number Of Topics\", \"Perplexity Score\")"
   ]
  },
  {
   "cell_type": "code",
   "execution_count": 162,
   "metadata": {},
   "outputs": [],
   "source": [
    "optimal_num_topics = 4"
   ]
  },
  {
   "cell_type": "code",
   "execution_count": 163,
   "metadata": {},
   "outputs": [
    {
     "data": {
      "text/plain": [
       "LatentDirichletAllocation(learning_method='online', n_components=4, n_jobs=-1,\n",
       "                          random_state=0)"
      ]
     },
     "execution_count": 163,
     "metadata": {},
     "output_type": "execute_result"
    }
   ],
   "source": [
    "# define and fit LDA model\n",
    "\n",
    "lda = sklearn.decomposition.LatentDirichletAllocation(\n",
    "    n_components=optimal_num_topics,\n",
    "    learning_method=\"online\",\n",
    "    random_state=0,\n",
    "    n_jobs=-1\n",
    ")\n",
    "lda.fit(clean_vec1)"
   ]
  },
  {
   "cell_type": "code",
   "execution_count": 164,
   "metadata": {},
   "outputs": [
    {
     "name": "stdout",
     "output_type": "stream",
     "text": [
      "(381, 4)\n",
      "[[0.02158782 0.02020311 0.93797726 0.02023181]\n",
      " [0.2549209  0.00287564 0.20718066 0.5350228 ]\n",
      " [0.00895944 0.17714543 0.80493175 0.00896338]\n",
      " ...\n",
      " [0.47661465 0.20112798 0.02013575 0.30212162]\n",
      " [0.86752922 0.04297637 0.04322414 0.04627027]\n",
      " [0.83992358 0.05200131 0.05658274 0.05149237]]\n"
     ]
    }
   ],
   "source": [
    "# output matrix\n",
    "# h: docs to topics\n",
    "\n",
    "lda_transform = lda.transform(clean_vec1)\n",
    "print(lda_transform.shape)\n",
    "print(lda_transform)"
   ]
  },
  {
   "cell_type": "code",
   "execution_count": 165,
   "metadata": {},
   "outputs": [
    {
     "name": "stdout",
     "output_type": "stream",
     "text": [
      "(4, 62)\n",
      "[[ 40.84444952  30.13264487  30.80647304  41.18106467  19.7876456\n",
      "    9.09214659  26.33597252 158.9001457   88.8108122   53.44949813\n",
      "   48.18287272  21.56555577   5.98629163  19.77070618  45.85023119\n",
      "   41.50636674  99.26377411 148.98205453  66.90632812  19.43886263\n",
      "   23.55676689  40.67449111  22.55861267  12.44185726  10.45029906\n",
      "   24.79699276   4.74846062  29.00155483  36.38137925  19.37407953\n",
      "   24.0401175   49.53419136  44.60166829   1.79660497  44.43870523\n",
      "   22.78540447  68.42973488  20.02106712  36.49208119  25.77537366\n",
      "   18.26667125  31.57320731  13.7272505   60.98475723  68.16426613\n",
      "    4.34070881   2.23401707   6.56117477  29.22862725   9.98192199\n",
      "   25.61320267  18.0373993   62.13680698  13.38412843  55.04859755\n",
      "    4.11500676   3.69998651  13.36604526   4.93705385  53.25211921\n",
      "   97.36979217  81.97625465]\n",
      " [  1.27902013  18.61549546   7.56394822  26.8322781   11.74441949\n",
      "    3.03810238  13.56743522  34.59922814  12.26635398   5.82563565\n",
      "    2.74018081   4.12878729   0.9814324    1.54267506   2.73200363\n",
      "    9.93585301  78.94782575  20.39405053   7.31896446   4.50580252\n",
      "    5.13903645  32.70277604   2.69873242   1.06037657   6.48258463\n",
      "    3.10253132  55.15973664  35.18795472   7.56260677   2.53792319\n",
      "    3.5972174    3.16514159   7.42426644   0.33837922   4.92210622\n",
      "    2.94385223   0.61572527   1.69359387   1.10576834   1.57613416\n",
      "   11.00969288   2.90764327   0.5752188    2.08930622  36.96860102\n",
      "    0.87859357  87.75336749  65.9476812   19.9997749    2.1011922\n",
      "    0.5205019    0.86078531  11.82008344   0.98338758  10.55791138\n",
      "    4.47383999  57.9584892    4.0906085    0.63034578   7.28442596\n",
      "    2.93426436   3.46264187]\n",
      " [ 63.7377746   44.39782635   2.41618288  71.20612356   0.92461713\n",
      "    6.9080987   52.82198323  18.59052108   0.54681893   0.47028843\n",
      "    4.66694114   9.15126657   5.46983201   6.99384235   0.66349018\n",
      "   11.63448499  71.05481705  23.3257636    1.91177522  16.43331928\n",
      "   80.42546739  18.21035848  21.62050616  17.28589307   0.82486611\n",
      "   56.44590586   6.36606945  56.78088798  29.05144905  14.99371539\n",
      "    5.11460829  20.71341608   4.42904701  41.38767413   0.93371412\n",
      "    4.12067661  14.910942     7.14226269  15.74996819   3.93538037\n",
      "    4.65195664   5.8812494   85.77428204   8.16155696 114.10461108\n",
      "    7.36095372   4.60228323   1.71997877  15.44183188  20.10907423\n",
      "    7.85521075  24.19966062  35.98721755   2.15251781  41.72694117\n",
      "   24.04930648   0.77188812  18.85727056  27.12175221  11.02220837\n",
      "   26.85577782   0.43909619]\n",
      " [  6.70801619  10.51408492  37.25002088   5.44803837  12.88163949\n",
      "   28.61039816   8.75601432  29.44750309   0.79926059   1.95066636\n",
      "   26.28421982  12.22248632  43.01427593   8.00817589   2.29481795\n",
      "   32.50453748   4.75810393  35.39649985   3.3406497    5.81790566\n",
      "    2.75565467   0.49189596  94.02246834   7.13996345  23.05992693\n",
      "    2.40028202  39.95366911   3.22610214   1.74940106   2.79984581\n",
      "    5.16721949   0.37885225   0.49838829   0.3723863    0.64221575\n",
      "    2.56013084  15.14981284  23.60627348  32.59135993  14.37752308\n",
      "    5.27458791   1.09825886  83.14136856   9.87872562   6.50045735\n",
      "   35.35472015  33.71441286   0.88500435   6.31158873  16.87443694\n",
      "   17.9516035    5.11498793   4.94563875  45.57106419  43.3850053\n",
      "   51.29220492  18.92431328   8.67196398  10.13105103   3.03834608\n",
      "   43.14495582   2.40841612]]\n"
     ]
    }
   ],
   "source": [
    "# output matrix\n",
    "# w: words to topics\n",
    "\n",
    "lda_components = lda.components_\n",
    "print(lda_components.shape)\n",
    "print(lda_components)"
   ]
  },
  {
   "cell_type": "code",
   "execution_count": 166,
   "metadata": {},
   "outputs": [],
   "source": [
    "# define function to reformat output matrices into easily readable tables\n",
    "\n",
    "def get_topics(mod, vec, names, docs, ndocs, nwords):\n",
    "    # word to topic matrix\n",
    "    W = mod.components_\n",
    "    W_norm = W / W.sum(axis=1)[:, numpy.newaxis]\n",
    "    # topic to document matrix\n",
    "    H = mod.transform(vec)\n",
    "    \n",
    "    W_dict = {}\n",
    "    H_dict = {}\n",
    "    \n",
    "    for tpc_idx, tpc_val in enumerate(W_norm):\n",
    "        topic = \"Topic{}\".format(tpc_idx)\n",
    "        \n",
    "        # formatting w\n",
    "        W_indices = tpc_val.argsort()[::-1][:nwords]\n",
    "        W_names_values = [\n",
    "            (round(tpc_val[j], 4), names[j]) \n",
    "            for j in W_indices\n",
    "        ]\n",
    "        W_dict[topic] = W_names_values\n",
    "        \n",
    "        # formatting h\n",
    "        H_indices = H[:, tpc_idx].argsort()[::-1][:ndocs]\n",
    "        H_names_values = [\n",
    "            (round(H[:, tpc_idx][j], 4), docs[j]) \n",
    "            for j in H_indices\n",
    "        ]\n",
    "        H_dict[topic] = H_names_values\n",
    "        \n",
    "    W_df = pandas.DataFrame(\n",
    "        W_dict, \n",
    "        index=[\"Word\" + str(i) for i in range(nwords)]\n",
    "    )\n",
    "    H_df = pandas.DataFrame(\n",
    "        H_dict,\n",
    "        index=[\"Doc\" + str(i) for i in range(ndocs)]\n",
    "    )\n",
    "        \n",
    "    return (W_df, H_df)"
   ]
  },
  {
   "cell_type": "code",
   "execution_count": 167,
   "metadata": {},
   "outputs": [],
   "source": [
    "# run function\n",
    "\n",
    "W_df, H_df = get_topics(\n",
    "    mod=lda,\n",
    "    vec=clean_vec1,\n",
    "    names=feature_names_vec1,\n",
    "    docs=raw,\n",
    "    ndocs=number_docs, \n",
    "    nwords=number_words\n",
    ")"
   ]
  },
  {
   "cell_type": "code",
   "execution_count": 168,
   "metadata": {},
   "outputs": [
    {
     "name": "stdout",
     "output_type": "stream",
     "text": [
      "                      Topic0                 Topic1                    Topic2  \\\n",
      "Word0      (0.0704, cliente)      (0.112, proyecto)     (0.0863, profesional)   \n",
      "Word1        (0.066, equipo)      (0.1008, empresa)         (0.0649, proceso)   \n",
      "Word2       (0.044, empresa)     (0.0842, reportar)      (0.0608, financiero)   \n",
      "Word3      (0.0431, trabajo)       (0.074, tecnico)            (0.0538, area)   \n",
      "Word4    (0.0394, comercial)  (0.0704, informacion)         (0.0537, empresa)   \n",
      "Word5        (0.0363, venta)  (0.0472, profesional)  (0.0482, administracion)   \n",
      "Word6      (0.0303, negocio)   (0.0449, ingenieria)      (0.0429, ingenieria)   \n",
      "Word7  (0.0302, profesional)      (0.0442, cliente)      (0.0427, industrial)   \n",
      "Word8   (0.0296, estrategia)     (0.0417, gerencia)         (0.0399, carrera)   \n",
      "Word9       (0.0275, sector)         (0.0343, area)  (0.0336, administrativo)   \n",
      "\n",
      "                      Topic3  \n",
      "Word0      (0.0902, gestion)  \n",
      "Word1      (0.0797, proceso)  \n",
      "Word2      (0.0492, sistema)  \n",
      "Word3  (0.0437, seguimiento)  \n",
      "Word4     (0.0416, servicio)  \n",
      "Word5      (0.0414, trabajo)  \n",
      "Word6         (0.0413, dato)  \n",
      "Word7  (0.0383, informacion)  \n",
      "Word8     (0.0357, analisis)  \n",
      "Word9        (0.034, equipo)  \n"
     ]
    }
   ],
   "source": [
    "# word-topic table\n",
    "print(W_df)"
   ]
  },
  {
   "cell_type": "code",
   "execution_count": 169,
   "metadata": {},
   "outputs": [
    {
     "name": "stdout",
     "output_type": "stream",
     "text": [
      "                                                 Topic0  \\\n",
      "Doc0  (0.9874, &lt;strong&gt;&lt;u&gt;Job Descriptio...   \n",
      "Doc1  (0.9862, &lt;strong&gt;Gerencia Comercial&lt;b...   \n",
      "Doc2  (0.9855, &lt;strong&gt;Reporta a&lt;/strong&gt...   \n",
      "Doc3  (0.9841, &lt;strong&gt;Sobre la empresa&lt;br&...   \n",
      "Doc4  (0.9796, Manejo de Excel y word ideal conocimi...   \n",
      "Doc5  (0.9787, puntualidad respeto honestidad buen t...   \n",
      "Doc6  (0.9782, &lt;strong&gt;Coordinación Administra...   \n",
      "Doc7  (0.978, &lt;p&gt;The Andean Products team is p...   \n",
      "Doc8  (0.9732, &lt;strong&gt;Project Manager Oil &am...   \n",
      "Doc9  (0.9725, Dominio del inglés B1KPIS Eficiencia ...   \n",
      "\n",
      "                                                 Topic1  \\\n",
      "Doc0  (0.9793, &lt;strong&gt;Dirección de Negocios S...   \n",
      "Doc1  (0.9667, &lt;p&gt;Nuestra pandilla está expand...   \n",
      "Doc2  (0.9629, &lt;strong&gt;¡TE QUEREMOS EN NUESTRO...   \n",
      "Doc3  (0.9103, Empresa requiere Asesor Servicio al C...   \n",
      "Doc4  (0.9095, Persona honesta responsable con orien...   \n",
      "Doc5  (0.8999, DESEAMOS QUE SEA UNA PERSONA CON BUEN...   \n",
      "Doc6  (0.8717, Planeación seguimiento de gestión del...   \n",
      "Doc7  (0.8689, En el espacio asignado de Habilidades...   \n",
      "Doc8  (0.85, &lt;strong&gt;&lt;u&gt;About Ropstar&lt...   \n",
      "Doc9  (0.8419, En el espacio asignado de Habilidades...   \n",
      "\n",
      "                                                 Topic2  \\\n",
      "Doc0  (0.9802, &lt;strong&gt;Accounting and Finance ...   \n",
      "Doc1  (0.979, &lt;strong&gt;TITLE: &lt;/strong&gt;Bu...   \n",
      "Doc2  (0.9768, &lt;strong&gt;Gerencia de Proyectos&l...   \n",
      "Doc3  (0.9593, &lt;p&gt;&lt;strong&gt;This is an ent...   \n",
      "Doc4  (0.9484, &lt;strong&gt;Investment Associate in...   \n",
      "Doc5  (0.9395, Se Solicita auxiliar administrativo, ...   \n",
      "Doc6  (0.938, &lt;p&gt;¡Estás interesado en hacer pa...   \n",
      "Doc7  (0.9344, En el espacio asignado de Habilidades...   \n",
      "Doc8  (0.9299, &lt;strong&gt;&lt;u&gt;Rol&lt;br&gt;&...   \n",
      "Doc9  (0.9294, Excelente presentación personal y exp...   \n",
      "\n",
      "                                                 Topic3  \n",
      "Doc0  (0.9749, OPERADOR LOGISTICOTENER CURSO DE ALTU...  \n",
      "Doc1  (0.9741, &lt;p&gt;&lt;strong&gt;Lee bien:&lt;/...  \n",
      "Doc2  (0.9626, Capacidad de seguir instrucciones esc...  \n",
      "Doc3  (0.9487, Servicio al clienteManejo de office W...  \n",
      "Doc4  (0.9484, En el espacio asignado de Habilidades...  \n",
      "Doc5  (0.9429, En el espacio asignado de Habilidades...  \n",
      "Doc6  (0.9349, Profesional en ciencias económicas ad...  \n",
      "Doc7  (0.9274, Trabajo en equipo orientación al serv...  \n",
      "Doc8  (0.9236, HABILIDADES Autonomía Trabajo en equi...  \n",
      "Doc9  (0.9144, Liderazgo planeación y organización m...  \n"
     ]
    }
   ],
   "source": [
    "# document-topic table\n",
    "print(H_df)"
   ]
  },
  {
   "cell_type": "markdown",
   "metadata": {},
   "source": [
    "### Visualizing LDA"
   ]
  },
  {
   "cell_type": "code",
   "execution_count": 170,
   "metadata": {},
   "outputs": [
    {
     "data": {
      "text/html": [
       "\n",
       "<link rel=\"stylesheet\" type=\"text/css\" href=\"https://cdn.jsdelivr.net/gh/bmabey/pyLDAvis@3.3.1/pyLDAvis/js/ldavis.v1.0.0.css\">\n",
       "\n",
       "\n",
       "<div id=\"ldavis_el208864140249916959648962419872\"></div>\n",
       "<script type=\"text/javascript\">\n",
       "\n",
       "var ldavis_el208864140249916959648962419872_data = {\"mdsDat\": {\"x\": [-0.019918860052509035, 0.00415917721104619, 0.15730532369716174, -0.1415456408556988], \"y\": [-0.030922958024817128, -0.11899124122565656, 0.07059926014747463, 0.07931493910299911], \"topics\": [1, 2, 3, 4], \"cluster\": [1, 1, 1, 1], \"Freq\": [40.69471992630911, 25.173902043166297, 21.155010307500433, 12.976367723024154]}, \"tinfo\": {\"Term\": [\"proyecto\", \"empresa\", \"reportar\", \"proceso\", \"gestion\", \"tecnico\", \"informacion\", \"profesional\", \"financiero\", \"ingenieria\", \"venta\", \"desarrollar\", \"mercado\", \"comercial\", \"comerciales\", \"estrategia\", \"liderazgo\", \"presupuesto\", \"producto\", \"trabajar\", \"cliente\", \"equipo\", \"negocio\", \"trabajo\", \"empresa\", \"sector\", \"profesional\", \"logistica\", \"financiero\", \"industrial\", \"tecnologo\", \"administracion\", \"carrera\", \"profesional\", \"area\", \"responsable\", \"ingenieria\", \"proceso\", \"administrativo\", \"empresa\", \"dato\", \"seguimiento\", \"programa\", \"gestion\", \"sistema\", \"calidad\", \"herramienta\", \"analisis\", \"organizacion\", \"proceso\", \"informacion\", \"servicio\", \"trabajo\", \"equipo\", \"reportar\", \"tecnico\", \"proyecto\", \"informacion\", \"gerencia\", \"empresa\", \"ingenieria\", \"requerimiento\", \"posicion\", \"atencion\", \"profesional\", \"area\", \"cliente\"], \"Freq\": [128.0, 257.0, 71.0, 202.0, 156.0, 80.0, 109.0, 234.0, 118.0, 127.0, 83.62573755538376, 46.77280532845863, 45.33287738653975, 90.59781646098335, 54.52498070894459, 68.25258192437049, 45.49911950868283, 32.20850671809285, 62.2118603065725, 54.32363022936973, 162.09745051809142, 151.97979275922674, 69.8066418667979, 99.32901571152621, 101.2611073592118, 63.38709100146559, 69.5358314960271, 44.56298027045475, 86.59579431900136, 60.77649546612719, 29.20256172472748, 68.62780409088961, 56.87454165305813, 122.85883753744808, 76.66913268383402, 26.056284180162493, 61.137177767227186, 92.35497568599109, 47.80407454986099, 76.50621777496038, 49.375260049193656, 52.31014812009459, 40.58300328229183, 107.92658307346231, 58.87733551932027, 32.841325778732724, 26.47004660937552, 42.758582543327464, 27.09718730517437, 95.43637791187659, 45.86204833783605, 49.80081316312438, 49.525264975498786, 40.630961397104464, 61.79651633934677, 54.31021469788094, 82.22961458511467, 51.68763335178633, 30.644256128304242, 73.97834942879601, 32.97300191430712, 18.74086236046611, 10.316673061146547, 11.005151325107871, 34.64156305664972, 25.143284521760684, 32.421333517088996], \"Total\": [128.0, 257.0, 71.0, 202.0, 156.0, 80.0, 109.0, 234.0, 118.0, 127.0, 90.10777747525997, 52.68141058004432, 51.68769181894182, 103.59827572346384, 62.729415798516854, 81.00396056773909, 57.796994086674744, 42.52625979170871, 84.29697174644906, 76.50503115513635, 248.33781198915136, 236.83641480488444, 103.82871352222716, 180.52002536590135, 257.20741055039525, 118.88834205357087, 234.4979820560493, 47.140270144011915, 118.60527397554003, 91.73491612355983, 46.45886280886622, 119.19261731750336, 106.50470802530886, 234.4979820560493, 150.075803971838, 51.13462080466939, 127.3984690912575, 202.33382746779418, 108.0556666932247, 257.20741055039525, 62.291142819003895, 69.20273310657002, 53.760036739835705, 156.74721959957265, 93.16176514367388, 52.4013800502616, 44.093301458565264, 83.87430754980804, 56.798320752024985, 202.33382746779418, 109.24816936256468, 160.77867530736026, 180.52002536590135, 236.83641480488444, 71.35752843108051, 80.6386138181196, 128.16408473082743, 109.24816936256468, 92.30929222075147, 257.20741055039525, 127.3984690912575, 72.42910948709701, 40.01435431845921, 46.97309444091182, 234.4979820560493, 150.075803971838, 248.33781198915136], \"Category\": [\"Default\", \"Default\", \"Default\", \"Default\", \"Default\", \"Default\", \"Default\", \"Default\", \"Default\", \"Default\", \"Topic1\", \"Topic1\", \"Topic1\", \"Topic1\", \"Topic1\", \"Topic1\", \"Topic1\", \"Topic1\", \"Topic1\", \"Topic1\", \"Topic1\", \"Topic1\", \"Topic1\", \"Topic1\", \"Topic1\", \"Topic1\", \"Topic1\", \"Topic2\", \"Topic2\", \"Topic2\", \"Topic2\", \"Topic2\", \"Topic2\", \"Topic2\", \"Topic2\", \"Topic2\", \"Topic2\", \"Topic2\", \"Topic2\", \"Topic2\", \"Topic3\", \"Topic3\", \"Topic3\", \"Topic3\", \"Topic3\", \"Topic3\", \"Topic3\", \"Topic3\", \"Topic3\", \"Topic3\", \"Topic3\", \"Topic3\", \"Topic3\", \"Topic3\", \"Topic4\", \"Topic4\", \"Topic4\", \"Topic4\", \"Topic4\", \"Topic4\", \"Topic4\", \"Topic4\", \"Topic4\", \"Topic4\", \"Topic4\", \"Topic4\", \"Topic4\"], \"logprob\": [10.0, 9.0, 8.0, 7.0, 6.0, 5.0, 4.0, 3.0, 2.0, 1.0, -3.3152, -3.8963, -3.9275, -3.2351, -3.7429, -3.5184, -3.9239, -4.2693, -3.611, -3.7466, -2.6534, -2.7178, -3.4958, -3.1431, -3.1239, -3.5923, -3.4997, -3.4644, -2.8, -3.1541, -3.887, -3.0326, -3.2204, -2.4503, -2.9218, -4.001, -3.1482, -2.7356, -3.3942, -2.9239, -3.1879, -3.1302, -3.384, -2.4059, -3.0119, -3.5957, -3.8113, -3.3318, -3.7879, -2.5289, -3.2617, -3.1793, -3.1849, -3.3828, -2.4748, -2.6039, -2.1891, -2.6534, -3.1762, -2.2948, -3.1029, -3.6679, -4.2648, -4.2002, -3.0536, -3.374, -3.1198], \"loglift\": [10.0, 9.0, 8.0, 7.0, 6.0, 5.0, 4.0, 3.0, 2.0, 1.0, 0.8244, 0.7801, 0.7679, 0.765, 0.7589, 0.7278, 0.6598, 0.6212, 0.5953, 0.5567, 0.4725, 0.4554, 0.5021, 0.3017, -0.0331, 0.2701, -0.3165, 1.3231, 1.0648, 0.9677, 0.9151, 0.8273, 0.752, 0.733, 0.7077, 0.7052, 0.6452, 0.5951, 0.5638, 0.1669, 1.3209, 1.2734, 1.2721, 1.1801, 1.0944, 1.086, 1.043, 0.8795, 0.8132, 0.8018, 0.6853, 0.3813, 0.2599, -0.2095, 1.8982, 1.6468, 1.5982, 1.2936, 0.9393, 0.7959, 0.6904, 0.6901, 0.6866, 0.5908, 0.1296, 0.2555, 0.0061]}, \"token.table\": {\"Topic\": [1, 2, 3, 4, 1, 2, 3, 4, 1, 2, 3, 4, 1, 2, 3, 4, 1, 2, 3, 4, 1, 2, 3, 4, 1, 2, 3, 4, 1, 2, 3, 4, 1, 2, 3, 4, 1, 2, 3, 4, 1, 2, 3, 4, 1, 2, 3, 4, 1, 2, 3, 4, 1, 2, 3, 4, 1, 2, 3, 4, 1, 2, 3, 4, 1, 2, 3, 4, 1, 2, 3, 4, 1, 2, 3, 4, 1, 2, 3, 4, 1, 2, 3, 4, 1, 2, 3, 4, 1, 2, 3, 4, 1, 2, 1, 2, 3, 4, 1, 2, 3, 4, 1, 2, 3, 4, 1, 2, 3, 4, 1, 2, 3, 4, 1, 2, 3, 4, 1, 2, 3, 4, 1, 2, 3, 4, 1, 2, 3, 4, 1, 2, 3, 4, 1, 2, 3, 4, 1, 2, 3, 4, 1, 2, 3, 4, 1, 2, 3, 4, 1, 2, 3, 4, 1, 2, 3, 4, 1, 2, 3, 4, 1, 2, 3, 4, 1, 2, 3, 4, 1, 2, 3, 4, 1, 2, 3, 4, 1, 3, 4], \"Freq\": [0.3523708174653224, 0.5788949144073153, 0.06711825094577568, 0.00838978136822196, 0.2868891650820175, 0.4442154814173174, 0.11105387035432936, 0.15732631633529992, 0.36960066682626164, 0.03576780646705758, 0.5126718926944919, 0.08345821508980102, 0.2798585707252408, 0.5130740463296081, 0.03997979581789154, 0.16658248257454808, 0.42577565387262933, 0.021288782693631464, 0.319331740404472, 0.23417660962994613, 0.17175120180742395, 0.13358426807244086, 0.6297544066272212, 0.05725040060247465, 0.25350991989559707, 0.5351876086684827, 0.0938925629242952, 0.12206033180158377, 0.6523372284808443, 0.08053546030627708, 0.13691028252067103, 0.12885673649004334, 0.8783929979964862, 0.009652670307653695, 0.009652670307653695, 0.10617937338419065, 0.8767816390424665, 0.015941484346226664, 0.03188296869245333, 0.07970742173113332, 0.09632188026207651, 0.09632188026207651, 0.7866286888069581, 0.016053646710346085, 0.8921553064451081, 0.018982027796704427, 0.05694608339011328, 0.05694608339011328, 0.3926791991874232, 0.2993692904696197, 0.019439564316209072, 0.2877055518798943, 0.6417931977446283, 0.10555809173431385, 0.17311527044427472, 0.08022414971807854, 0.8394651264382981, 0.024690150777597, 0.049380301555194, 0.0864155277215895, 0.20235187859310136, 0.7335255598999925, 0.02529398482413767, 0.04215664137356278, 0.44415896832955076, 0.21666291138026866, 0.010833145569013432, 0.3358275126394164, 0.14673306524196048, 0.14673306524196048, 0.6890074367883362, 0.01913909546634267, 0.2494709998147171, 0.02267918180133792, 0.5896587268347858, 0.13607509080802752, 0.27252436756280385, 0.6649594568532414, 0.03270292410753646, 0.03270292410753646, 0.04576735728546968, 0.06407430019965756, 0.421059687026321, 0.47598051576888467, 0.23548163658474214, 0.4788126610556423, 0.031397551544632286, 0.2590298002432163, 0.7785872035579593, 0.0865096892842177, 0.01730193785684354, 0.12111356499790478, 0.04242657061340693, 0.9545978388016559, 0.8706134558616331, 0.01934696568581407, 0.01934696568581407, 0.09673482842907034, 0.6741872996915707, 0.15409995421521616, 0.16373120135366717, 0.00963124713845101, 0.35212308630245825, 0.1408492345209833, 0.47536616650831864, 0.035212308630245825, 0.4748296036163957, 0.12495515884641993, 0.1499461906157039, 0.24991031769283986, 0.7524762383697566, 0.14108929469432938, 0.023514882449054895, 0.07054464734716469, 0.06919258225483034, 0.4546941119603137, 0.46952109387206303, 0.0049423273039164535, 0.7354949853535124, 0.10676540109970341, 0.13049104578852638, 0.023725644688822982, 0.29851003145634203, 0.524524769559001, 0.0298510031456342, 0.14925501572817101, 0.074404711056234, 0.148809422112468, 0.7626482883263985, 0.0186011777640585, 0.015604995769294002, 0.03901248942323501, 0.304297417501233, 0.6398048265410541, 0.09809756803391578, 0.028027876581118796, 0.014013938290559398, 0.8688641740146826, 0.41419810643045935, 0.23471226031059364, 0.09664622483377384, 0.2623254674059576, 0.3520119972876834, 0.5084617738599871, 0.1173373324292278, 0.019556222071537968, 0.529908979398605, 0.3280388920086603, 0.0504675218474862, 0.0925237900537247, 0.20230414857228893, 0.028900592653184135, 0.7514154089827875, 0.014450296326592067, 0.3483048973562254, 0.2798878639469668, 0.3109865154966298, 0.06219730309932596, 0.042936069253638645, 0.2790844501486512, 0.63330702149117, 0.042936069253638645, 0.049604027284273516, 0.012401006821068379, 0.27282215006350435, 0.6696543683376925, 0.1076220918400482, 0.6242081326722795, 0.2582930204161157, 0.02152441836800964, 0.7058359324172967, 0.15685242942606595, 0.03921310735651649, 0.09149725049853846, 0.5484156109513834, 0.1606469971473749, 0.2769775812885774, 0.016618654877314645, 0.932216977863682, 0.0332934634951315, 0.0332934634951315], \"Term\": [\"administracion\", \"administracion\", \"administracion\", \"administracion\", \"administrativo\", \"administrativo\", \"administrativo\", \"administrativo\", \"analisis\", \"analisis\", \"analisis\", \"analisis\", \"area\", \"area\", \"area\", \"area\", \"atencion\", \"atencion\", \"atencion\", \"atencion\", \"calidad\", \"calidad\", \"calidad\", \"calidad\", \"carrera\", \"carrera\", \"carrera\", \"carrera\", \"cliente\", \"cliente\", \"cliente\", \"cliente\", \"comercial\", \"comercial\", \"comercial\", \"comercial\", \"comerciales\", \"comerciales\", \"comerciales\", \"comerciales\", \"dato\", \"dato\", \"dato\", \"dato\", \"desarrollar\", \"desarrollar\", \"desarrollar\", \"desarrollar\", \"empresa\", \"empresa\", \"empresa\", \"empresa\", \"equipo\", \"equipo\", \"equipo\", \"equipo\", \"estrategia\", \"estrategia\", \"estrategia\", \"estrategia\", \"financiero\", \"financiero\", \"financiero\", \"financiero\", \"gerencia\", \"gerencia\", \"gerencia\", \"gerencia\", \"gestion\", \"gestion\", \"gestion\", \"gestion\", \"herramienta\", \"herramienta\", \"herramienta\", \"herramienta\", \"industrial\", \"industrial\", \"industrial\", \"industrial\", \"informacion\", \"informacion\", \"informacion\", \"informacion\", \"ingenieria\", \"ingenieria\", \"ingenieria\", \"ingenieria\", \"liderazgo\", \"liderazgo\", \"liderazgo\", \"liderazgo\", \"logistica\", \"logistica\", \"mercado\", \"mercado\", \"mercado\", \"mercado\", \"negocio\", \"negocio\", \"negocio\", \"negocio\", \"organizacion\", \"organizacion\", \"organizacion\", \"organizacion\", \"posicion\", \"posicion\", \"posicion\", \"posicion\", \"presupuesto\", \"presupuesto\", \"presupuesto\", \"presupuesto\", \"proceso\", \"proceso\", \"proceso\", \"proceso\", \"producto\", \"producto\", \"producto\", \"producto\", \"profesional\", \"profesional\", \"profesional\", \"profesional\", \"programa\", \"programa\", \"programa\", \"programa\", \"proyecto\", \"proyecto\", \"proyecto\", \"proyecto\", \"reportar\", \"reportar\", \"reportar\", \"reportar\", \"requerimiento\", \"requerimiento\", \"requerimiento\", \"requerimiento\", \"responsable\", \"responsable\", \"responsable\", \"responsable\", \"sector\", \"sector\", \"sector\", \"sector\", \"seguimiento\", \"seguimiento\", \"seguimiento\", \"seguimiento\", \"servicio\", \"servicio\", \"servicio\", \"servicio\", \"sistema\", \"sistema\", \"sistema\", \"sistema\", \"tecnico\", \"tecnico\", \"tecnico\", \"tecnico\", \"tecnologo\", \"tecnologo\", \"tecnologo\", \"tecnologo\", \"trabajar\", \"trabajar\", \"trabajar\", \"trabajar\", \"trabajo\", \"trabajo\", \"trabajo\", \"trabajo\", \"venta\", \"venta\", \"venta\"]}, \"R\": 10, \"lambda.step\": 0.01, \"plot.opts\": {\"xlab\": \"PC1\", \"ylab\": \"PC2\"}, \"topic.order\": [1, 3, 4, 2]};\n",
       "\n",
       "function LDAvis_load_lib(url, callback){\n",
       "  var s = document.createElement('script');\n",
       "  s.src = url;\n",
       "  s.async = true;\n",
       "  s.onreadystatechange = s.onload = callback;\n",
       "  s.onerror = function(){console.warn(\"failed to load library \" + url);};\n",
       "  document.getElementsByTagName(\"head\")[0].appendChild(s);\n",
       "}\n",
       "\n",
       "if(typeof(LDAvis) !== \"undefined\"){\n",
       "   // already loaded: just create the visualization\n",
       "   !function(LDAvis){\n",
       "       new LDAvis(\"#\" + \"ldavis_el208864140249916959648962419872\", ldavis_el208864140249916959648962419872_data);\n",
       "   }(LDAvis);\n",
       "}else if(typeof define === \"function\" && define.amd){\n",
       "   // require.js is available: use it to load d3/LDAvis\n",
       "   require.config({paths: {d3: \"https://d3js.org/d3.v5\"}});\n",
       "   require([\"d3\"], function(d3){\n",
       "      window.d3 = d3;\n",
       "      LDAvis_load_lib(\"https://cdn.jsdelivr.net/gh/bmabey/pyLDAvis@3.3.1/pyLDAvis/js/ldavis.v3.0.0.js\", function(){\n",
       "        new LDAvis(\"#\" + \"ldavis_el208864140249916959648962419872\", ldavis_el208864140249916959648962419872_data);\n",
       "      });\n",
       "    });\n",
       "}else{\n",
       "    // require.js not available: dynamically load d3 & LDAvis\n",
       "    LDAvis_load_lib(\"https://d3js.org/d3.v5.js\", function(){\n",
       "         LDAvis_load_lib(\"https://cdn.jsdelivr.net/gh/bmabey/pyLDAvis@3.3.1/pyLDAvis/js/ldavis.v3.0.0.js\", function(){\n",
       "                 new LDAvis(\"#\" + \"ldavis_el208864140249916959648962419872\", ldavis_el208864140249916959648962419872_data);\n",
       "            })\n",
       "         });\n",
       "}\n",
       "</script>"
      ],
      "text/plain": [
       "<IPython.core.display.HTML object>"
      ]
     },
     "execution_count": 170,
     "metadata": {},
     "output_type": "execute_result"
    }
   ],
   "source": [
    "# iterative visualization\n",
    "# featuring pca biplot and histogram\n",
    "lda_plot = pyLDAvis.sklearn.prepare(lda, clean_vec1, vectorizer1, R=10)\n",
    "pyLDAvis.enable_notebook()\n",
    "pyLDAvis.display(lda_plot)"
   ]
  },
  {
   "cell_type": "code",
   "execution_count": 137,
   "metadata": {},
   "outputs": [],
   "source": [
    "# define functiont to fit and plot t-SNE model\n",
    "\n",
    "def plot_tsne(data, threshold):\n",
    "    # filter data according to threshold\n",
    "    index_meet_threshold = numpy.amax(data, axis=1) >= threshold\n",
    "    lda_transform_filt = data[index_meet_threshold]\n",
    "    \n",
    "    # fit tsne model\n",
    "    # x-d -> 2-d, x = number of topics\n",
    "    tsne = sklearn.manifold.TSNE(\n",
    "        n_components=2, \n",
    "        verbose=0, \n",
    "        random_state=0, \n",
    "        angle=0.5, \n",
    "        init='pca'\n",
    "    )\n",
    "    tsne_fit = tsne.fit_transform(lda_transform_filt)\n",
    "    \n",
    "    # most probable topic for each headline\n",
    "    most_prob_topic = []\n",
    "    for i in range(tsne_fit.shape[0]):\n",
    "        most_prob_topic.append(lda_transform_filt[i].argmax())\n",
    "    \n",
    "    print(\"LENGTH:\\n{}\\n\".format(len(most_prob_topic)))\n",
    "\n",
    "    unique, counts = numpy.unique(\n",
    "        numpy.array(most_prob_topic), \n",
    "        return_counts=True\n",
    "    )\n",
    "\n",
    "    print(\"COUNTS:\\n{}\\n\".format(numpy.asarray((unique, counts)).T))\n",
    "    \n",
    "    # make plot\n",
    "    matplotlib.pyplot.figure(figsize=(10,6))\n",
    "    color_list = ['b', 'g', 'r', 'c', 'm', 'y', 'k']\n",
    "\n",
    "    for i in list(set(most_prob_topic)):\n",
    "        indices = [idx for idx, val in enumerate(most_prob_topic) if val == i]\n",
    "        matplotlib.pyplot.scatter(\n",
    "            x=tsne_fit[indices, 0], \n",
    "            y=tsne_fit[indices, 1], \n",
    "            s=0.5, \n",
    "            c=color_list[i], \n",
    "            label='Topic' + str(i),\n",
    "            alpha=1\n",
    "        )\n",
    "    \n",
    "    \n",
    "    matplotlib.pyplot.xlabel('x-tsne')\n",
    "    matplotlib.pyplot.ylabel('y-tsne')\n",
    "    matplotlib.pyplot.legend(markerscale=10)"
   ]
  },
  {
   "cell_type": "code",
   "execution_count": 138,
   "metadata": {},
   "outputs": [
    {
     "name": "stdout",
     "output_type": "stream",
     "text": [
      "LENGTH:\n",
      "381\n",
      "\n",
      "COUNTS:\n",
      "[[  0  91]\n",
      " [  1 157]\n",
      " [  2 133]]\n",
      "\n"
     ]
    },
    {
     "data": {
      "image/png": "[encoded data removed]",
      "text/plain": [
       "<Figure size 720x432 with 1 Axes>"
      ]
     },
     "metadata": {
      "needs_background": "light"
     },
     "output_type": "display_data"
    }
   ],
   "source": [
    "plot_tsne(data=lda_transform, threshold=0)"
   ]
  },
  {
   "cell_type": "code",
   "execution_count": 139,
   "metadata": {},
   "outputs": [
    {
     "data": {
      "text/plain": [
       "NMF(alpha=0.1, init='nndsvda', l1_ratio=0.5, n_components=3, random_state=0,\n",
       "    solver='mu')"
      ]
     },
     "execution_count": 139,
     "metadata": {},
     "output_type": "execute_result"
    }
   ],
   "source": [
    "# define and fit nmf model\n",
    "\n",
    "nmf = sklearn.decomposition.NMF(\n",
    "    n_components=optimal_num_topics,\n",
    "    init=\"nndsvda\",\n",
    "    solver=\"mu\",\n",
    "    beta_loss=\"frobenius\",\n",
    "    random_state=0, \n",
    "    alpha=0.1, \n",
    "    l1_ratio=0.5\n",
    ")\n",
    "nmf.fit(clean_vec1)"
   ]
  },
  {
   "cell_type": "code",
   "execution_count": 140,
   "metadata": {},
   "outputs": [],
   "source": [
    "# run function to produce nice output tables\n",
    "\n",
    "W_df, H_df = get_topics(\n",
    "    mod=nmf,\n",
    "    vec=clean_vec1,\n",
    "    names=feature_names_vec1,\n",
    "    docs=raw,\n",
    "    ndocs=number_docs, \n",
    "    nwords=number_words\n",
    ")"
   ]
  },
  {
   "cell_type": "code",
   "execution_count": 141,
   "metadata": {},
   "outputs": [
    {
     "name": "stdout",
     "output_type": "stream",
     "text": [
      "                         Topic0                    Topic1  \\\n",
      "Word0         (0.0847, empresa)         (0.1869, proceso)   \n",
      "Word1     (0.0778, profesional)        (0.1083, proyecto)   \n",
      "Word2          (0.0645, equipo)         (0.0848, gestion)   \n",
      "Word3       (0.047, ingenieria)        (0.0648, servicio)   \n",
      "Word4      (0.0451, financiero)         (0.0617, sistema)   \n",
      "Word5       (0.0404, comercial)         (0.0413, trabajo)   \n",
      "Word6        (0.0397, gerencia)      (0.0365, desarrollo)   \n",
      "Word7  (0.0372, administracion)        (0.0314, personal)   \n",
      "Word8             (0.037, area)     (0.0292, informacion)   \n",
      "Word9           (0.035, sector)  (0.0272, administracion)   \n",
      "\n",
      "                         Topic2  \n",
      "Word0         (0.2807, cliente)  \n",
      "Word1        (0.1354, servicio)  \n",
      "Word2          (0.0507, equipo)  \n",
      "Word3         (0.0357, trabajo)  \n",
      "Word4         (0.0349, negocio)  \n",
      "Word5         (0.0346, empresa)  \n",
      "Word6        (0.0322, personal)  \n",
      "Word7          (0.0286, sector)  \n",
      "Word8  (0.0283, administrativo)  \n",
      "Word9      (0.0257, estrategia)  \n"
     ]
    }
   ],
   "source": [
    "# word-topic table\n",
    "print(W_df)"
   ]
  },
  {
   "cell_type": "code",
   "execution_count": 142,
   "metadata": {},
   "outputs": [
    {
     "name": "stdout",
     "output_type": "stream",
     "text": [
      "                                                 Topic0  \\\n",
      "Doc0  (1.0109, &lt;strong&gt;Acerca de Autolab&lt;br...   \n",
      "Doc1  (0.9238, &lt;strong&gt;Reporta a&lt;/strong&gt...   \n",
      "Doc2  (0.8932, En el espacio asignado de Habilidades...   \n",
      "Doc3  (0.8786, &lt;strong&gt;Gerencia Comercial&lt;b...   \n",
      "Doc4  (0.8742, &lt;p&gt;Estudiante Universitario que...   \n",
      "Doc5  (0.8402, &lt;strong&gt;&lt;u&gt;Job Descriptio...   \n",
      "Doc6  (0.8099, Manejo de Excel y word ideal conocimi...   \n",
      "Doc7  (0.7861, &lt;strong&gt;Gerente Comercial&lt;br...   \n",
      "Doc8  (0.7591, Laboratorio Farmacéutico ubicado en e...   \n",
      "Doc9  (0.7004, &lt;strong&gt;Gerencia de Canales&lt;...   \n",
      "\n",
      "                                                 Topic1  \\\n",
      "Doc0  (2.6914, &lt;strong&gt;Gerencia Mercadeo&lt;br...   \n",
      "Doc1  (1.6642, &lt;p&gt;¡Buscamos talento como tú! ¡...   \n",
      "Doc2  (1.3903, &lt;strong&gt;CEO&lt;br&gt;&lt;/stron...   \n",
      "Doc3  (1.3504, &lt;strong&gt;Coordinación de Manufac...   \n",
      "Doc4  (1.3236, DESCRIPCIÓN DEL PUESTO&lt;br&gt;&lt;b...   \n",
      "Doc5  (1.2596, En el espacio asignado de Habilidades...   \n",
      "Doc6  (1.2222, Ingeniero a químico Deseable especial...   \n",
      "Doc7  (0.8563, &lt;p&gt;&lt;strong&gt;Lee bien:&lt;/...   \n",
      "Doc8  (0.7723, Regional Communication Manager LATAM&...   \n",
      "Doc9  (0.7064, &lt;p&gt;¡En Crusardi Servicios Busca...   \n",
      "\n",
      "                                                 Topic2  \n",
      "Doc0  (2.7831, En el espacio asignado de Habilidades...  \n",
      "Doc1  (1.8687, DESCRIPCIÓN DEL PUESTO&lt;br&gt;&lt;b...  \n",
      "Doc2  (1.2766, Excelente manejo de relaciones labora...  \n",
      "Doc3  (1.262, En Jobandtalent empleamos a más de 15....  \n",
      "Doc4  (1.1545, &lt;strong&gt;Gerencia Mercadeo&lt;br...  \n",
      "Doc5  (1.1145, YOUR NEXT STEP IS AT RAPPI!&lt;br&gt;...  \n",
      "Doc6  (1.049, &lt;p&gt;The Andean Products team is p...  \n",
      "Doc7  (1.0433, &lt;strong&gt;Líder de Tecnología&lt;...  \n",
      "Doc8  (0.8892, &lt;p&gt;We are looking for our next ...  \n",
      "Doc9  (0.8625, &lt;strong&gt;Vicepresidente Comercia...  \n"
     ]
    }
   ],
   "source": [
    "# document-topic table\n",
    "print(H_df)"
   ]
  },
  {
   "cell_type": "code",
   "execution_count": 143,
   "metadata": {},
   "outputs": [
    {
     "name": "stdout",
     "output_type": "stream",
     "text": [
      "(381, 3)\n",
      "[[2.95450643e-01 4.42258118e-03 3.04448291e-13]\n",
      " [7.48264611e-02 1.32356923e+00 1.86865074e+00]\n",
      " [3.55090954e-01 7.72343479e-01 3.30465707e-04]\n",
      " ...\n",
      " [1.24195258e-01 7.62750937e-03 1.80208803e-01]\n",
      " [3.58257215e-02 3.78392636e-06 1.03762226e-02]\n",
      " [9.08688510e-02 9.96817498e-03 3.10065364e-03]]\n"
     ]
    }
   ],
   "source": [
    "# output raw document-topic matrix for t-SNE plot\n",
    "nmf_transform = nmf.transform(clean_vec1)\n",
    "print(nmf_transform.shape)\n",
    "print(nmf_transform)"
   ]
  },
  {
   "cell_type": "code",
   "execution_count": 144,
   "metadata": {},
   "outputs": [
    {
     "name": "stdout",
     "output_type": "stream",
     "text": [
      "LENGTH:\n",
      "381\n",
      "\n",
      "COUNTS:\n",
      "[[  0 218]\n",
      " [  1  93]\n",
      " [  2  70]]\n",
      "\n"
     ]
    },
    {
     "data": {
      "image/png": "[encoded data removed]",
      "text/plain": [
       "<Figure size 720x432 with 1 Axes>"
      ]
     },
     "metadata": {
      "needs_background": "light"
     },
     "output_type": "display_data"
    }
   ],
   "source": [
    "# run function to produce t-SNE plot\n",
    "plot_tsne(data=nmf_transform, threshold=0)"
   ]
  },
  {
   "cell_type": "code",
   "execution_count": null,
   "metadata": {},
   "outputs": [],
   "source": []
  }
 ],
 "metadata": {
  "kernelspec": {
   "display_name": "Python 3",
   "language": "python",
   "name": "python3"
  },
  "language_info": {
   "codemirror_mode": {
    "name": "ipython",
    "version": 3
   },
   "file_extension": ".py",
   "mimetype": "text/x-python",
   "name": "python",
   "nbconvert_exporter": "python",
   "pygments_lexer": "ipython3",
   "version": "3.8.5"
  }
 },
 "nbformat": 4,
 "nbformat_minor": 4
}
