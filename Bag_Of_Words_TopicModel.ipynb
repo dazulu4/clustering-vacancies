{
 "cells": [
  {
   "cell_type": "code",
   "execution_count": null,
   "metadata": {},
   "outputs": [],
   "source": [
    "!pip install langdetect"
   ]
  },
  {
   "cell_type": "code",
   "execution_count": null,
   "metadata": {},
   "outputs": [],
   "source": [
    "!pip install pyLDAvis"
   ]
  },
  {
   "cell_type": "code",
   "execution_count": 34,
   "metadata": {},
   "outputs": [],
   "source": [
    "# not necessary\n",
    "# added to suppress warnings coming from pyLDAvis\n",
    "\n",
    "import warnings\n",
    "warnings.filterwarnings('ignore')\n",
    "\n",
    "# plotting\n",
    "import matplotlib.pyplot\n",
    "%matplotlib inline"
   ]
  },
  {
   "cell_type": "code",
   "execution_count": 63,
   "metadata": {},
   "outputs": [],
   "source": [
    "import langdetect  # language detection\n",
    "import nltk  # natural language processing\n",
    "from nltk.corpus import words\n",
    "from nltk.stem.wordnet import WordNetLemmatizer\n",
    "import numpy  # arrays and matrices\n",
    "import pandas  # dataframes\n",
    "import pyLDAvis  # plotting\n",
    "import pyLDAvis.sklearn  # plotting\n",
    "import regex  # regular expressions\n",
    "import string\n",
    "from unicodedata import normalize\n",
    "import sklearn  # machine learning"
   ]
  },
  {
   "cell_type": "code",
   "execution_count": 64,
   "metadata": {},
   "outputs": [
    {
     "name": "stderr",
     "output_type": "stream",
     "text": [
      "[nltk_data] Downloading package words to /home/alexander/nltk_data...\n",
      "[nltk_data]   Package words is already up-to-date!\n",
      "[nltk_data] Downloading package wordnet to\n",
      "[nltk_data]     /home/alexander/nltk_data...\n",
      "[nltk_data]   Package wordnet is already up-to-date!\n",
      "[nltk_data] Downloading package stopwords to\n",
      "[nltk_data]     /home/alexander/nltk_data...\n",
      "[nltk_data]   Package stopwords is already up-to-date!\n"
     ]
    },
    {
     "data": {
      "text/plain": [
       "True"
      ]
     },
     "execution_count": 64,
     "metadata": {},
     "output_type": "execute_result"
    }
   ],
   "source": [
    "# installing specific word dictionarys\n",
    "# used for stopword removal and lemmatization\n",
    "\n",
    "nltk.download(\"words\")\n",
    "nltk.download(\"wordnet\")\n",
    "nltk.download(\"stopwords\")"
   ]
  },
  {
   "cell_type": "code",
   "execution_count": 65,
   "metadata": {},
   "outputs": [
    {
     "data": {
      "text/html": [
       "<div>\n",
       "<style scoped>\n",
       "    .dataframe tbody tr th:only-of-type {\n",
       "        vertical-align: middle;\n",
       "    }\n",
       "\n",
       "    .dataframe tbody tr th {\n",
       "        vertical-align: top;\n",
       "    }\n",
       "\n",
       "    .dataframe thead th {\n",
       "        text-align: right;\n",
       "    }\n",
       "</style>\n",
       "<table border=\"1\" class=\"dataframe\">\n",
       "  <thead>\n",
       "    <tr style=\"text-align: right;\">\n",
       "      <th></th>\n",
       "      <th>Cargo</th>\n",
       "      <th>Descripcion</th>\n",
       "      <th>Educacion requerida</th>\n",
       "      <th>Experiencia requerida (meses)</th>\n",
       "      <th>Tipo de empleo</th>\n",
       "      <th>Empresa</th>\n",
       "      <th>Sector</th>\n",
       "      <th>Cantidad de aplicantes</th>\n",
       "      <th>Fecha de publicacion</th>\n",
       "      <th>Fecha de expiracion</th>\n",
       "      <th>Ciudad</th>\n",
       "      <th>Pais</th>\n",
       "      <th>Url vacante</th>\n",
       "    </tr>\n",
       "  </thead>\n",
       "  <tbody>\n",
       "    <tr>\n",
       "      <th>0</th>\n",
       "      <td>Financial Controller</td>\n",
       "      <td>&amp;lt;p&amp;gt;¡Estás interesado en hacer parte de u...</td>\n",
       "      <td>bachelor degree</td>\n",
       "      <td>NaN</td>\n",
       "      <td>FULL_TIME</td>\n",
       "      <td>Adbid - Marketing Digital para E-commerce</td>\n",
       "      <td>Marketing y publicidad</td>\n",
       "      <td>147 solicitudes</td>\n",
       "      <td>2021-06-25T14:01:05.000Z</td>\n",
       "      <td>2021-07-25T14:01:04.000Z</td>\n",
       "      <td>Bogotá</td>\n",
       "      <td>CO</td>\n",
       "      <td>https://co.linkedin.com/jobs/view/financial-co...</td>\n",
       "    </tr>\n",
       "    <tr>\n",
       "      <th>1</th>\n",
       "      <td>Asistente de Gerencia RPO</td>\n",
       "      <td>DESCRIPCIÓN DEL PUESTO&amp;lt;br&amp;gt;&amp;lt;br&amp;gt;Dar ...</td>\n",
       "      <td>NaN</td>\n",
       "      <td>NaN</td>\n",
       "      <td>FULL_TIME</td>\n",
       "      <td>GRUPO STT</td>\n",
       "      <td>Contabilidad</td>\n",
       "      <td>194 solicitudes</td>\n",
       "      <td>2021-06-26T01:11:33.000Z</td>\n",
       "      <td>2021-07-26T01:11:33.000Z</td>\n",
       "      <td>Bogotá</td>\n",
       "      <td>CO</td>\n",
       "      <td>https://co.linkedin.com/jobs/view/asistente-de...</td>\n",
       "    </tr>\n",
       "    <tr>\n",
       "      <th>2</th>\n",
       "      <td>Regional Communication Manager LATAM</td>\n",
       "      <td>Regional Communication Manager LATAM&amp;lt;br&amp;gt;...</td>\n",
       "      <td>bachelor degree</td>\n",
       "      <td>120.0</td>\n",
       "      <td>FULL_TIME</td>\n",
       "      <td>ABB</td>\n",
       "      <td>Manufactura eléctrica/electrónica</td>\n",
       "      <td>94 solicitudes</td>\n",
       "      <td>2021-06-19T00:00:00.000Z</td>\n",
       "      <td>2021-07-23T07:29:47.000Z</td>\n",
       "      <td>Bogotá</td>\n",
       "      <td>CO</td>\n",
       "      <td>https://co.linkedin.com/jobs/view/regional-com...</td>\n",
       "    </tr>\n",
       "    <tr>\n",
       "      <th>3</th>\n",
       "      <td>Especialista Lean</td>\n",
       "      <td>&amp;lt;strong&amp;gt;Especialista Lean&amp;lt;br&amp;gt;&amp;lt;/...</td>\n",
       "      <td>NaN</td>\n",
       "      <td>NaN</td>\n",
       "      <td>FULL_TIME</td>\n",
       "      <td>Michael Page</td>\n",
       "      <td>Telecomunicaciones,Biotecnología,Servicios y t...</td>\n",
       "      <td>NaN</td>\n",
       "      <td>2021-05-31T23:16:51.000Z</td>\n",
       "      <td>2021-07-25T23:16:50.000Z</td>\n",
       "      <td>Bogotá</td>\n",
       "      <td>CO</td>\n",
       "      <td>https://co.linkedin.com/jobs/view/especialista...</td>\n",
       "    </tr>\n",
       "    <tr>\n",
       "      <th>4</th>\n",
       "      <td>Gerencia Comercial</td>\n",
       "      <td>&amp;lt;strong&amp;gt;Gerencia Comercial&amp;lt;br&amp;gt;&amp;lt;...</td>\n",
       "      <td>bachelor degree</td>\n",
       "      <td>NaN</td>\n",
       "      <td>FULL_TIME</td>\n",
       "      <td>Michael Page</td>\n",
       "      <td>Ingeniería industrial o mecánica,Manufactura e...</td>\n",
       "      <td>NaN</td>\n",
       "      <td>2021-05-31T23:16:49.000Z</td>\n",
       "      <td>2021-07-25T23:16:49.000Z</td>\n",
       "      <td>Colombia</td>\n",
       "      <td>CO</td>\n",
       "      <td>https://co.linkedin.com/jobs/view/gerencia-com...</td>\n",
       "    </tr>\n",
       "  </tbody>\n",
       "</table>\n",
       "</div>"
      ],
      "text/plain": [
       "                                  Cargo  \\\n",
       "0                 Financial Controller    \n",
       "1             Asistente de Gerencia RPO   \n",
       "2  Regional Communication Manager LATAM   \n",
       "3                     Especialista Lean   \n",
       "4                    Gerencia Comercial   \n",
       "\n",
       "                                         Descripcion Educacion requerida  \\\n",
       "0  &lt;p&gt;¡Estás interesado en hacer parte de u...     bachelor degree   \n",
       "1  DESCRIPCIÓN DEL PUESTO&lt;br&gt;&lt;br&gt;Dar ...                 NaN   \n",
       "2  Regional Communication Manager LATAM&lt;br&gt;...     bachelor degree   \n",
       "3  &lt;strong&gt;Especialista Lean&lt;br&gt;&lt;/...                 NaN   \n",
       "4  &lt;strong&gt;Gerencia Comercial&lt;br&gt;&lt;...     bachelor degree   \n",
       "\n",
       "   Experiencia requerida (meses) Tipo de empleo  \\\n",
       "0                            NaN      FULL_TIME   \n",
       "1                            NaN      FULL_TIME   \n",
       "2                          120.0      FULL_TIME   \n",
       "3                            NaN      FULL_TIME   \n",
       "4                            NaN      FULL_TIME   \n",
       "\n",
       "                                      Empresa  \\\n",
       "0  Adbid - Marketing Digital para E-commerce    \n",
       "1                                   GRUPO STT   \n",
       "2                                         ABB   \n",
       "3                                Michael Page   \n",
       "4                                Michael Page   \n",
       "\n",
       "                                              Sector Cantidad de aplicantes  \\\n",
       "0                             Marketing y publicidad        147 solicitudes   \n",
       "1                                       Contabilidad        194 solicitudes   \n",
       "2                  Manufactura eléctrica/electrónica         94 solicitudes   \n",
       "3  Telecomunicaciones,Biotecnología,Servicios y t...                    NaN   \n",
       "4  Ingeniería industrial o mecánica,Manufactura e...                    NaN   \n",
       "\n",
       "       Fecha de publicacion       Fecha de expiracion    Ciudad Pais  \\\n",
       "0  2021-06-25T14:01:05.000Z  2021-07-25T14:01:04.000Z    Bogotá   CO   \n",
       "1  2021-06-26T01:11:33.000Z  2021-07-26T01:11:33.000Z    Bogotá   CO   \n",
       "2  2021-06-19T00:00:00.000Z  2021-07-23T07:29:47.000Z    Bogotá   CO   \n",
       "3  2021-05-31T23:16:51.000Z  2021-07-25T23:16:50.000Z    Bogotá   CO   \n",
       "4  2021-05-31T23:16:49.000Z  2021-07-25T23:16:49.000Z  Colombia   CO   \n",
       "\n",
       "                                         Url vacante  \n",
       "0  https://co.linkedin.com/jobs/view/financial-co...  \n",
       "1  https://co.linkedin.com/jobs/view/asistente-de...  \n",
       "2  https://co.linkedin.com/jobs/view/regional-com...  \n",
       "3  https://co.linkedin.com/jobs/view/especialista...  \n",
       "4  https://co.linkedin.com/jobs/view/gerencia-com...  "
      ]
     },
     "execution_count": 65,
     "metadata": {},
     "output_type": "execute_result"
    }
   ],
   "source": [
    "path = 'agregado_vacantes_scraping_20210701.xlsx'\n",
    "df = pandas.read_excel(path)\n",
    "df.head()"
   ]
  },
  {
   "cell_type": "code",
   "execution_count": 66,
   "metadata": {},
   "outputs": [
    {
     "data": {
      "text/plain": [
       "Index(['Cargo', 'Descripcion', 'Fecha de publicacion', 'Fecha de expiracion'], dtype='object')"
      ]
     },
     "execution_count": 66,
     "metadata": {},
     "output_type": "execute_result"
    }
   ],
   "source": [
    "df = df[[\"Cargo\", \"Descripcion\", \"Fecha de publicacion\", \"Fecha de expiracion\"]]\n",
    "df.columns"
   ]
  },
  {
   "cell_type": "code",
   "execution_count": 67,
   "metadata": {},
   "outputs": [
    {
     "name": "stdout",
     "output_type": "stream",
     "text": [
      "<class 'pandas.core.frame.DataFrame'>\n",
      "RangeIndex: 678 entries, 0 to 677\n",
      "Data columns (total 4 columns):\n",
      " #   Column                Non-Null Count  Dtype \n",
      "---  ------                --------------  ----- \n",
      " 0   Cargo                 678 non-null    object\n",
      " 1   Descripcion           678 non-null    object\n",
      " 2   Fecha de publicacion  678 non-null    object\n",
      " 3   Fecha de expiracion   678 non-null    object\n",
      "dtypes: object(4)\n",
      "memory usage: 21.3+ KB\n"
     ]
    }
   ],
   "source": [
    "df.info()"
   ]
  },
  {
   "cell_type": "code",
   "execution_count": 68,
   "metadata": {},
   "outputs": [
    {
     "name": "stdout",
     "output_type": "stream",
     "text": [
      "<class 'pandas.core.frame.DataFrame'>\n",
      "Int64Index: 428 entries, 0 to 656\n",
      "Data columns (total 4 columns):\n",
      " #   Column                Non-Null Count  Dtype \n",
      "---  ------                --------------  ----- \n",
      " 0   Cargo                 428 non-null    object\n",
      " 1   Descripcion           428 non-null    object\n",
      " 2   Fecha de publicacion  428 non-null    object\n",
      " 3   Fecha de expiracion   428 non-null    object\n",
      "dtypes: object(4)\n",
      "memory usage: 16.7+ KB\n"
     ]
    }
   ],
   "source": [
    "df = df.drop_duplicates()\n",
    "df.info()"
   ]
  },
  {
   "cell_type": "code",
   "execution_count": 69,
   "metadata": {},
   "outputs": [
    {
     "name": "stdout",
     "output_type": "stream",
     "text": [
      "SHAPE:\n",
      "(428, 4)\n",
      "\n",
      "COLUMN NAMES:\n",
      "Index(['Cargo', 'Descripcion', 'Fecha de publicacion', 'Fecha de expiracion'], dtype='object')\n",
      "\n",
      "HEAD:\n",
      "                       Cargo  \\\n",
      "0      Financial Controller    \n",
      "1  Asistente de Gerencia RPO   \n",
      "\n",
      "                                         Descripcion  \\\n",
      "0  &lt;p&gt;¡Estás interesado en hacer parte de u...   \n",
      "1  DESCRIPCIÓN DEL PUESTO&lt;br&gt;&lt;br&gt;Dar ...   \n",
      "\n",
      "       Fecha de publicacion       Fecha de expiracion  \n",
      "0  2021-06-25T14:01:05.000Z  2021-07-25T14:01:04.000Z  \n",
      "1  2021-06-26T01:11:33.000Z  2021-07-26T01:11:33.000Z  \n",
      "\n"
     ]
    }
   ],
   "source": [
    "# define quick look function for data frame\n",
    "\n",
    "def dataframe_quick_look(df, nrows):\n",
    "    print(\"SHAPE:\\n{shape}\\n\".format(shape=df.shape))\n",
    "    print(\"COLUMN NAMES:\\n{names}\\n\".format(names=df.columns))\n",
    "    print(\"HEAD:\\n{head}\\n\".format(head=df.head(nrows)))\n",
    "    \n",
    "dataframe_quick_look(df, nrows=2)"
   ]
  },
  {
   "cell_type": "code",
   "execution_count": 70,
   "metadata": {},
   "outputs": [
    {
     "name": "stdout",
     "output_type": "stream",
     "text": [
      "TOPICS:\n",
      "Auxiliar administrativo                             11\n",
      "Recepcionista hotel                                  7\n",
      "Auxiliar servicio al cliente                         6\n",
      "Jefe logística                                       5\n",
      "Auxiliar administrativo en salud                     4\n",
      "                                                    ..\n",
      "Investment Associate                                 1\n",
      "Director de Transformación de Procesos y Calidad     1\n",
      "Director ejecutivo organización no gubernamental     1\n",
      "Managing Director Colombia                           1\n",
      "Auxiliar de archivo                                  1\n",
      "Name: Cargo, Length: 341, dtype: int64\n",
      "\n"
     ]
    }
   ],
   "source": [
    "# data set came with prespecified topics\n",
    "# print the topics out with counts\n",
    "\n",
    "print(\"TOPICS:\\n{topics}\\n\".format(topics=df[\"Cargo\"].value_counts()))"
   ]
  },
  {
   "cell_type": "code",
   "execution_count": 71,
   "metadata": {
    "scrolled": false
   },
   "outputs": [
    {
     "name": "stdout",
     "output_type": "stream",
     "text": [
      "HEADLINES:\n",
      "['&lt;p&gt;¡Estás interesado en hacer parte de una de las mejores agencias de Marketing Digital!&lt;/p&gt;&lt;p&gt;&lt;br&gt;&lt;/p&gt;&lt;p&gt;Si eres profesional en alguna de las siguientes carreras: Administración de Empresas, Ingeniería Industrial, Economía, Finanzas, con conocimientos financieros y de planeación financiera, experiencia superior a 2 años, ser muy analítico(a) y con liderazgo, puedes postularte o enviarnos tu hoja de vida a Johanna.rodriguez@adbid.com.co para revisar tu perfil y de ajustarse nos pondremos en contacto.&lt;/p&gt;&lt;p&gt;&lt;br&gt;&lt;/p&gt;&lt;ul&gt;&lt;li&gt;¡Si cuentas con estas características postúlate aquí! te ofrecemos excelente plan de beneficios, crecimiento a nivel personal y profesional, salario a convenir.&lt;/li&gt;&lt;/ul&gt;', 'DESCRIPCIÓN DEL PUESTO&lt;br&gt;&lt;br&gt;Dar apoyo administrativo, logístico y asistencial a las actividades necesarias para la facilitación del trabajo del departamento, con la confidencialidad que amerita el puesto.&lt;br&gt;&lt;br&gt;DESCRIPCIÓN DE ROLES&lt;br&gt;&lt;br&gt;Cumplimiento de Políticas y Procedimientos&lt;br&gt;&lt;br&gt;Políticas internas&lt;br&gt;&lt;br&gt;Políticas y procedimientos de su àrea&lt;br&gt;&lt;br&gt;Soporte administrativo&lt;br&gt;&lt;br&gt;Brindar apoyo en todos los procesos administrativos que realice el departamento.&lt;br&gt;&lt;br&gt;Llevar un control óptimo de la agenda, calendario de actividades, reuniones, citas.&lt;br&gt;&lt;br&gt;Contestar y revisar todo tipo de documentos, como e-mail y llamadas telefónicas.&lt;br&gt;&lt;br&gt;Diligenciar formularios, recopilar informaciòn&lt;br&gt;&lt;br&gt;Buscar firmas&lt;br&gt;&lt;br&gt;Realizar solicitud de gastos administrativos y de compras (OC)&lt;br&gt;&lt;br&gt;Soporte al Dpto de RPO&lt;br&gt;&lt;br&gt;Bajar semanalmente métricas del sistema requeridas por el BDM RPO&lt;br&gt;&lt;br&gt;Agendamiento de trabajo semanal con equipo de operaciones, comercial y RPO.&lt;br&gt;&lt;br&gt;Realizar actas de reuniones agendadas por la jefatura&lt;br&gt;&lt;br&gt;Preparar presentaciones de temas de capacitación asignada por la jefatura&lt;br&gt;&lt;br&gt;Mantener actualizada la base de datos del personal de RPO de la organización&lt;br&gt;&lt;br&gt;Responder correos asignados en su labor&lt;br&gt;&lt;br&gt;Mantener actualizado el cronograma de trabajo semanal&lt;br&gt;&lt;br&gt;Presentar informe de gestión mensual&lt;br&gt;&lt;br&gt;Cumplir con todas aquellas otras funciones propias de su cargo y que el empleador le indique, ya sea en forma escrita, oral o a través de cualquiera de los sistemas de comunicación.&lt;br&gt;&lt;br&gt;&lt;br&gt;Requisitos&lt;br&gt;&lt;br&gt;&lt;br&gt;REQUISITOS DE EDUCACIÓN&lt;br&gt;&lt;br&gt;Técnico, Tecnólogo o estudiantes de carreras administrativas, o afines&lt;br&gt;&lt;br&gt;Deseable manejo de Excel, power point y word&lt;br&gt;&lt;br&gt;EXPERIENCIA LABORAL&lt;br&gt;&lt;br&gt;Un año de experiencia mínima en posiciones de apoyo administrativo o similares&lt;br&gt;&lt;br&gt;Atención al detalle&lt;br&gt;&lt;br&gt;Planeación y organización&lt;br&gt;&lt;br&gt;Comunicación (oral y escrita)&lt;br&gt;&lt;br&gt;Servicio al Cliente&lt;br&gt;&lt;br&gt;Trabajo en equipo&lt;br&gt;&lt;br&gt;Grupo STT es una empresa multilatina con presencia en 25 países a nivel global. Nos encargamos de estructurar negocios, convirtiéndonos en sus aliados estratégicos para el desarrollo de su empresa y para esto brindamos diversos servicios de Outsourcing como por ejemplo&lt;br&gt;&lt;br&gt;Servicio de administración de personal temporal o permanente (HRO) Mediante este servicio, STT funciona como patrono y tendrá a cargo el reclutamiento de los recursos, acorde a los requisitos y perfiles definidos para cada puesto. Lo anterior nos permite elegir al personal más idóneo y acorde a los requisitos y cultura empresarial del cliente. La Administración de Personal de STT incluye además, la inducción inicial, convenios especiales para nuestros contratistas, el manejo administrativo de planilla, pagos, retenciones, impuestos, cargas sociales, reportes a la seguridad social, incapacidades, terminación laboral.&lt;br&gt;&lt;br&gt;Reclutamiento y selección de personal (RPO) Bajo esta modalidad, STT funciona como su propio departamento de reclutamiento, encargándose de establecer el flujo de selección y reclutamiento estándar, además de cubrir las etapas de negociación y contratación final para elegir al candidato más calificado, que cumpla con las expectativas del rol y esté acorde a la cultura y utilidades del cliente. Con este servicio STT puede realizar cualquier tipo de búsqueda, ya sea para puestos gerenciales, mandos medios, puestos operativos o de especialización.&lt;br&gt;&lt;br&gt;Administración de nómina (PPO) En este caso STT asume el proceso de preparación, contabilidad y pago de la nómina en nombre del cliente; en períodos, modalidades acordadas y de acuerdo a las obligaciones del empleado y el patrón. El sistema nos permite agilizar los reportes históricos de ingresos y salidas, adaptándolos a los requerimientos específicos de cada cliente. La relación contractual empleado-patrono, desde la óptica de las instituciones pertinentes, es responsabilidad del cliente y STT Group se limita al proceso de la nómina.&lt;br&gt;&lt;br&gt;Tercerización de proceso de negocio (BPO) STT Group asume la gestión de procesos completos en sus instalaciones o en las del cliente, donde no sólo nos limitamos a asignar el recurso humano idóneo, sino que nos responsabilizamos del entrenamiento, producción, administración, etc. El equipo de ingenieros de servicios STT realizan el mapeo respectivo, establecen indicadores, determinan los recursos y tiempos para conformar una negociación basada en unidades de producción y no en personas. STT Group cuenta con vasta experiencia brindando este tipo de servicios en plataformas de digitalización de imágenes, centros de atención de llamadas, servicio al cliente, cuentas por pagar y cuentas por cobrar, entre otros.&lt;br&gt;&lt;br&gt;E-Learning (E-L) Ofrecemos esta revolucionaria modalidad de capacitación que se posiciona como la forma de capacitación predominante en el futuro. Este sistema ha transformado la educación, abriendo puertas al aprendizaje empresarial. Es por ello que hoy en día está ocupando un lugar cada vez más destacado y reconocido dentro de las organizaciones.&lt;br&gt;&lt;br&gt;Tercerización de Procesos Financieros (FAO) En Grupo STT contamos con el servicio de FAO, servicio con el cual usted terceriza la parte contable, financiera y auditora de su compañía, desde cualquier país donde su empresa tenga operaciones, colocándolas en manos de personal calificado para un manejo óptimo de dichas actividades.&lt;br&gt;&lt;br&gt;Tenemos 21 años en el mercado y contamos con personal altamente capacitado para desarrollar cualquiera de estos servicios en cualquier parte del mundo.']\n",
      "\n",
      "LENGTH:\n",
      "428\n",
      "\n"
     ]
    }
   ],
   "source": [
    "# view final data that will be carried forward\n",
    "\n",
    "raw = df['Descripcion'].tolist()\n",
    "print(\"HEADLINES:\\n{lines}\\n\".format(lines=raw[:2]))\n",
    "print(\"LENGTH:\\n{length}\\n\".format(length=len(raw)))"
   ]
  },
  {
   "cell_type": "code",
   "execution_count": 72,
   "metadata": {},
   "outputs": [],
   "source": [
    "# check language of headline\n",
    "# filter to english only\n",
    "\n",
    "def do_language_identifying(txt):\n",
    "    try: the_language = langdetect.detect(txt)\n",
    "    except: the_language = 'none'\n",
    "    return the_language"
   ]
  },
  {
   "cell_type": "code",
   "execution_count": 73,
   "metadata": {},
   "outputs": [],
   "source": [
    "# define function to perform lemmatization\n",
    "\n",
    "def do_lemmatizing(wrd):\n",
    "    out = WordNetLemmatizer().lemmatize(wrd)\n",
    "    return (wrd if out is None else out)"
   ]
  },
  {
   "cell_type": "code",
   "execution_count": 74,
   "metadata": {},
   "outputs": [],
   "source": [
    "# define function to cleaning tweet data\n",
    "\n",
    "def do_text_cleaning(txt):\n",
    "    # identify language of tweet\n",
    "    # return null if language not english\n",
    "    lg = do_language_identifying(txt)\n",
    "    if lg != 'es':\n",
    "        return None\n",
    "    \n",
    "     # Remove text in square brackets, remove punctuation and remove words containing numbers.\n",
    "    txt = regex.sub(r\"\\[.*?¿\\]\\%\", \" \", txt)\n",
    "    txt = regex.sub(r\"https://\", \"\", txt)\n",
    "    txt = regex.sub(r\"www.\", \"\", txt)\n",
    "    txt = regex.sub(r\"[‘’“”…«»]\", \"\", txt)\n",
    "    txt = regex.sub(r'[\"\\[\\]\\{\\}]', \"\", txt)\n",
    "    txt = regex.sub(r\"_\", \" \", txt)\n",
    "    txt = regex.sub(r\"[%s]\" % regex.escape(string.punctuation), \" \", txt)\n",
    "    txt = regex.sub(r\"\\w*\\d\\w*\", \"\", txt)\n",
    "    txt = regex.sub(\n",
    "        r\"([^n\\u0300-\\u036f]|n(?!\\u0303(?![\\u0300-\\u036f])))[\\u0300-\\u036f]+\", r\"\\1\", \n",
    "        normalize(\"NFD\", txt), 0, regex.I\n",
    "    )\n",
    "    txt = regex.sub(r\"\\n\", \" \", txt)\n",
    "    txt = regex.sub(r\"&lt;/?.*?&gt;\", \" &lt;&gt; \", txt)\n",
    "\n",
    "    # Eliminar caracteres que se repitan más de dos veces seguidas\n",
    "    pattern = regex.compile(r\"(.)\\1{2,}\")\n",
    "    txt = pattern.sub(r\"\\1\\1\", txt)\n",
    "\n",
    "    \n",
    "    # split the string on whitespace\n",
    "    out = txt.split(' ')\n",
    "   \n",
    "    \n",
    "    # identify screen names\n",
    "    # replace with SCREENNAME\n",
    "    out = ['SCREENNAME' if i.startswith('@') else i for i in out]\n",
    "    \n",
    "    # identify urls\n",
    "    # replace with URL\n",
    "    out = [\n",
    "        'URL' if bool(regex.search('http[s]?://', i)) \n",
    "        else i for i in out\n",
    "    ]\n",
    "    \n",
    "    # remove all punctuation\n",
    "    out = [regex.sub('[^\\\\w\\\\s]|\\n', '', i) for i in out]\n",
    "    \n",
    "    # make all non-keywords lowercase\n",
    "    keys = ['SCREENNAME', 'URL']\n",
    "    out = [i.lower() if i not in keys else i for i in out]\n",
    "    \n",
    "    # remove keywords\n",
    "    out = [i for i in out if i not in keys]\n",
    "    \n",
    "    # remove stopwords\n",
    "    list_stop_words = set(nltk.corpus.stopwords.words('spanish'))\n",
    "    include_stopwords = {\"mas\", \"menos\", \"null\", \"none\"}\n",
    "    list_stop_words |= include_stopwords\n",
    "    list_stop_words = [regex.sub('[^\\\\w\\\\s]', '', i) for i in list_stop_words]\n",
    "    \n",
    "    out = [i for i in out if i not in list_stop_words]\n",
    "    \n",
    "    # lemmatizing\n",
    "    out = [do_lemmatizing(i) for i in out]\n",
    "    \n",
    "    # keep words 4 or more characters long\n",
    "    out = [i for i in out if len(i) >= 4]\n",
    "    \n",
    "    return out"
   ]
  },
  {
   "cell_type": "code",
   "execution_count": 165,
   "metadata": {},
   "outputs": [],
   "source": [
    "# apply cleaning function to every tweet\n",
    "\n",
    "clean = list(map(do_text_cleaning, raw))"
   ]
  },
  {
   "cell_type": "code",
   "execution_count": 166,
   "metadata": {},
   "outputs": [
    {
     "name": "stdout",
     "output_type": "stream",
     "text": [
      "HEADLINES:\n",
      "[['interesado', 'hacer', 'parte', 'mejores', 'agencias', 'marketing', 'digital', 'profesional', 'alguna', 'siguientes', 'carreras', 'administracion', 'empresas', 'ingenieria', 'industrial', 'economia', 'finanzas', 'conocimientos', 'financieros', 'planeacion', 'financiera', 'experiencia', 'superior', 'años', 'analitico', 'liderazgo', 'puedes', 'postularte', 'enviarnos', 'hoja', 'vida', 'johanna', 'rodriguez', 'adbid', 'revisar', 'perfil', 'ajustarse', 'pondremos', 'contacto', 'cuentas', 'caracteristicas', 'postulate', 'aqui', 'ofrecemos', 'excelente', 'plan', 'beneficios', 'crecimiento', 'nivel', 'personal', 'profesional', 'salario', 'convenir'], ['descripcion', 'puesto', 'apoyo', 'administrativo', 'logistico', 'asistencial', 'actividades', 'necesarias', 'facilitacion', 'trabajo', 'departamento', 'confidencialidad', 'amerita', 'puesto', 'descripcion', 'role', 'cumplimiento', 'politicas', 'procedimientos', 'politicas', 'internas', 'politicas', 'procedimientos', 'area', 'soporte', 'administrativo', 'brindar', 'apoyo', 'procesos', 'administrativos', 'realice', 'departamento', 'llevar', 'control', 'optimo', 'agenda', 'calendario', 'actividades', 'reuniones', 'citas', 'contestar', 'revisar', 'tipo', 'documentos', 'mail', 'llamadas', 'telefonicas', 'diligenciar', 'formularios', 'recopilar', 'informacion', 'buscar', 'firmas', 'realizar', 'solicitud', 'gastos', 'administrativos', 'compras', 'soporte', 'dpto', 'bajar', 'semanalmente', 'metricas', 'sistema', 'requeridas', 'agendamiento', 'trabajo', 'semanal', 'equipo', 'operaciones', 'comercial', 'realizar', 'actas', 'reuniones', 'agendadas', 'jefatura', 'preparar', 'presentaciones', 'temas', 'capacitacion', 'asignada', 'jefatura', 'mantener', 'actualizada', 'base', 'datos', 'personal', 'organizacion', 'responder', 'correos', 'asignados', 'labor', 'mantener', 'actualizado', 'cronograma', 'trabajo', 'semanal', 'presentar', 'informe', 'gestion', 'mensual', 'cumplir', 'toda', 'aquellas', 'funciones', 'propias', 'cargo', 'empleador', 'indique', 'forma', 'escrita', 'oral', 'trave', 'cualquiera', 'sistemas', 'comunicacion', 'requisitos', 'requisitos', 'educacion', 'tecnico', 'tecnologo', 'estudiantes', 'carreras', 'administrativas', 'afines', 'deseable', 'manejo', 'excel', 'power', 'point', 'word', 'experiencia', 'laboral', 'año', 'experiencia', 'minimum', 'posiciones', 'apoyo', 'administrativo', 'similares', 'atencion', 'detalle', 'planeacion', 'organizacion', 'comunicacion', 'oral', 'escrita', 'servicio', 'cliente', 'trabajo', 'equipo', 'grupo', 'empresa', 'multilatina', 'presencia', 'paises', 'nivel', 'global', 'encargamos', 'estructurar', 'negocios', 'convirtiendonos', 'aliados', 'estrategicos', 'desarrollo', 'empresa', 'brindamos', 'diversos', 'servicios', 'outsourcing', 'ejemplo', 'servicio', 'administracion', 'personal', 'temporal', 'permanente', 'mediante', 'servicio', 'funciona', 'patrono', 'tendra', 'cargo', 'reclutamiento', 'recursos', 'acorde', 'requisitos', 'perfiles', 'definidos', 'cada', 'puesto', 'anterior', 'permite', 'elegir', 'personal', 'idoneo', 'acorde', 'requisitos', 'cultura', 'empresarial', 'cliente', 'administracion', 'personal', 'incluye', 'ademas', 'induccion', 'inicial', 'convenios', 'especiales', 'contratistas', 'manejo', 'administrativo', 'planilla', 'pagos', 'retenciones', 'impuestos', 'cargas', 'sociales', 'reportes', 'seguridad', 'social', 'incapacidades', 'terminacion', 'laboral', 'reclutamiento', 'seleccion', 'personal', 'bajo', 'modalidad', 'funciona', 'propio', 'departamento', 'reclutamiento', 'encargandose', 'establecer', 'flujo', 'seleccion', 'reclutamiento', 'estandar', 'ademas', 'cubrir', 'etapas', 'negociacion', 'contratacion', 'final', 'elegir', 'candidato', 'calificado', 'cumpla', 'expectativas', 'acorde', 'cultura', 'utilidades', 'cliente', 'servicio', 'puede', 'realizar', 'cualquier', 'tipo', 'busqueda', 'puestos', 'gerenciales', 'mandos', 'medios', 'puestos', 'operativos', 'especializacion', 'administracion', 'nomina', 'caso', 'asume', 'proceso', 'preparacion', 'contabilidad', 'pago', 'nomina', 'nombre', 'cliente', 'periodos', 'modalidades', 'acordadas', 'acuerdo', 'obligaciones', 'empleado', 'patron', 'sistema', 'permite', 'agilizar', 'reportes', 'historicos', 'ingresos', 'salidas', 'adaptandolos', 'requerimientos', 'especificos', 'cada', 'cliente', 'relacion', 'contractual', 'empleado', 'patrono', 'optica', 'instituciones', 'pertinentes', 'responsabilidad', 'cliente', 'group', 'limita', 'proceso', 'nomina', 'tercerizacion', 'proceso', 'negocio', 'group', 'asume', 'gestion', 'procesos', 'completos', 'instalaciones', 'cliente', 'solo', 'limitamos', 'asignar', 'recurso', 'humano', 'idoneo', 'sino', 'responsabilizamos', 'entrenamiento', 'produccion', 'administracion', 'equipo', 'ingenieros', 'servicios', 'realizan', 'mapeo', 'respectivo', 'establecen', 'indicadores', 'determinan', 'recursos', 'tiempos', 'conformar', 'negociacion', 'basada', 'unidades', 'produccion', 'persona', 'group', 'cuenta', 'vasta', 'experiencia', 'brindando', 'tipo', 'servicios', 'plataformas', 'digitalizacion', 'imagenes', 'centros', 'atencion', 'llamadas', 'servicio', 'cliente', 'cuentas', 'pagar', 'cuentas', 'cobrar', 'learning', 'ofrecemos', 'revolucionaria', 'modalidad', 'capacitacion', 'posiciona', 'forma', 'capacitacion', 'predominante', 'futuro', 'sistema', 'transformado', 'educacion', 'abriendo', 'puertas', 'aprendizaje', 'empresarial', 'ello', 'ocupando', 'lugar', 'cada', 'destacado', 'reconocido', 'dentro', 'organizaciones', 'tercerizacion', 'procesos', 'financieros', 'grupo', 'contamos', 'servicio', 'servicio', 'usted', 'terceriza', 'parte', 'contable', 'financiera', 'auditora', 'compañia', 'cualquier', 'pais', 'empresa', 'operaciones', 'colocandolas', 'manos', 'personal', 'calificado', 'manejo', 'optimo', 'dichas', 'actividades', 'años', 'mercado', 'contamos', 'personal', 'altamente', 'capacitado', 'desarrollar', 'cualquiera', 'servicios', 'cualquier', 'parte', 'mundo']]\n",
      "\n",
      "LENGTH:\n",
      "341\n",
      "\n"
     ]
    }
   ],
   "source": [
    "# remove none types\n",
    "\n",
    "clean = list(filter(None.__ne__, clean))\n",
    "print(\"HEADLINES:\\n{lines}\\n\".format(lines=clean[:2]))\n",
    "print(\"LENGTH:\\n{length}\\n\".format(length=len(clean)))"
   ]
  },
  {
   "cell_type": "code",
   "execution_count": 167,
   "metadata": {},
   "outputs": [
    {
     "data": {
      "text/plain": [
       "['interesado hacer parte mejores agencias marketing digital profesional alguna siguientes carreras administracion empresas ingenieria industrial economia finanzas conocimientos financieros planeacion financiera experiencia superior años analitico liderazgo puedes postularte enviarnos hoja vida johanna rodriguez adbid revisar perfil ajustarse pondremos contacto cuentas caracteristicas postulate aqui ofrecemos excelente plan beneficios crecimiento nivel personal profesional salario convenir',\n",
       " 'descripcion puesto apoyo administrativo logistico asistencial actividades necesarias facilitacion trabajo departamento confidencialidad amerita puesto descripcion role cumplimiento politicas procedimientos politicas internas politicas procedimientos area soporte administrativo brindar apoyo procesos administrativos realice departamento llevar control optimo agenda calendario actividades reuniones citas contestar revisar tipo documentos mail llamadas telefonicas diligenciar formularios recopilar informacion buscar firmas realizar solicitud gastos administrativos compras soporte dpto bajar semanalmente metricas sistema requeridas agendamiento trabajo semanal equipo operaciones comercial realizar actas reuniones agendadas jefatura preparar presentaciones temas capacitacion asignada jefatura mantener actualizada base datos personal organizacion responder correos asignados labor mantener actualizado cronograma trabajo semanal presentar informe gestion mensual cumplir toda aquellas funciones propias cargo empleador indique forma escrita oral trave cualquiera sistemas comunicacion requisitos requisitos educacion tecnico tecnologo estudiantes carreras administrativas afines deseable manejo excel power point word experiencia laboral año experiencia minimum posiciones apoyo administrativo similares atencion detalle planeacion organizacion comunicacion oral escrita servicio cliente trabajo equipo grupo empresa multilatina presencia paises nivel global encargamos estructurar negocios convirtiendonos aliados estrategicos desarrollo empresa brindamos diversos servicios outsourcing ejemplo servicio administracion personal temporal permanente mediante servicio funciona patrono tendra cargo reclutamiento recursos acorde requisitos perfiles definidos cada puesto anterior permite elegir personal idoneo acorde requisitos cultura empresarial cliente administracion personal incluye ademas induccion inicial convenios especiales contratistas manejo administrativo planilla pagos retenciones impuestos cargas sociales reportes seguridad social incapacidades terminacion laboral reclutamiento seleccion personal bajo modalidad funciona propio departamento reclutamiento encargandose establecer flujo seleccion reclutamiento estandar ademas cubrir etapas negociacion contratacion final elegir candidato calificado cumpla expectativas acorde cultura utilidades cliente servicio puede realizar cualquier tipo busqueda puestos gerenciales mandos medios puestos operativos especializacion administracion nomina caso asume proceso preparacion contabilidad pago nomina nombre cliente periodos modalidades acordadas acuerdo obligaciones empleado patron sistema permite agilizar reportes historicos ingresos salidas adaptandolos requerimientos especificos cada cliente relacion contractual empleado patrono optica instituciones pertinentes responsabilidad cliente group limita proceso nomina tercerizacion proceso negocio group asume gestion procesos completos instalaciones cliente solo limitamos asignar recurso humano idoneo sino responsabilizamos entrenamiento produccion administracion equipo ingenieros servicios realizan mapeo respectivo establecen indicadores determinan recursos tiempos conformar negociacion basada unidades produccion persona group cuenta vasta experiencia brindando tipo servicios plataformas digitalizacion imagenes centros atencion llamadas servicio cliente cuentas pagar cuentas cobrar learning ofrecemos revolucionaria modalidad capacitacion posiciona forma capacitacion predominante futuro sistema transformado educacion abriendo puertas aprendizaje empresarial ello ocupando lugar cada destacado reconocido dentro organizaciones tercerizacion procesos financieros grupo contamos servicio servicio usted terceriza parte contable financiera auditora compañia cualquier pais empresa operaciones colocandolas manos personal calificado manejo optimo dichas actividades años mercado contamos personal altamente capacitado desarrollar cualquiera servicios cualquier parte mundo',\n",
       " 'strong especialista lean strong profesional ingenieria industrial afines años experiencia preferiblemente sector financiero strong about client strong cliente importante empresa sector financiero especializada procesos fiduciarios financieros strong description strong reportando gerencia proyectos posicion especialista lean debera optimizacion procesos implementacion procesos bajo metodologias lean sigma levantamiento diseño procesos diseño presentaciones alto impacto posicionamiento procesos dentro solucion strong successful applicant strong strong perfil debe cumplir siguientes requerimientos strong profesional ingenieria industrial afines años experiencia preferiblemente sector financiero realizando procesos implementacion mejoras optimizacion procesos bajo metodologia lean sigma contar certificacion yellow sigma strong what offer strong ofrecemos pertenecer empresa brinda beneficios seguro vida poliza exequial poliza asistencia medica strong contact dhayana romero strong strong quote strong',\n",
       " 'espacio asignado habilidades competencias solicitud empresa reporta informacion adicional',\n",
       " 'creacion estrategias ventas manejo herramientas ofimaticas analisis numerico capacidad negociacion desarrollo relaciones orientacion logro espiritu comercial']"
      ]
     },
     "execution_count": 167,
     "metadata": {},
     "output_type": "execute_result"
    }
   ],
   "source": [
    "# turn tokens back into strings\n",
    "# concatenate using whitespaces\n",
    "\n",
    "clean_sentences = [\" \".join(i) for i in clean]\n",
    "clean_sentences[0:5]"
   ]
  },
  {
   "cell_type": "markdown",
   "metadata": {},
   "source": [
    "### Count Vectorizer"
   ]
  },
  {
   "cell_type": "code",
   "execution_count": 211,
   "metadata": {},
   "outputs": [],
   "source": [
    "# define some global variables\n",
    "\n",
    "number_words = 5\n",
    "number_docs = 5\n",
    "number_features = 500"
   ]
  },
  {
   "cell_type": "code",
   "execution_count": 245,
   "metadata": {},
   "outputs": [
    {
     "name": "stdout",
     "output_type": "stream",
     "text": [
      "  (0, 31)\t2\n",
      "  (0, 5)\t1\n",
      "  (0, 0)\t1\n",
      "  (0, 23)\t1\n",
      "  (0, 21)\t1\n",
      "  (0, 12)\t1\n",
      "  (0, 17)\t1\n",
      "  (0, 2)\t1\n",
      "  (0, 27)\t1\n",
      "  (0, 26)\t1\n",
      "  (0, 29)\t1\n"
     ]
    }
   ],
   "source": [
    "# execute bag of words model\n",
    "# use raw term counts for lda \n",
    "# as it is a probabilistic graphical model\n",
    "\n",
    "vectorizer1 = sklearn.feature_extraction.text.CountVectorizer(\n",
    "    analyzer=\"word\",\n",
    "    max_df=0.65, \n",
    "    min_df=0.15, \n",
    "    max_features=number_features\n",
    ")\n",
    "clean_vec1 = vectorizer1.fit_transform(clean_sentences)\n",
    "print(clean_vec1[0])\n",
    "\n",
    "feature_names_vec1 = vectorizer1.get_feature_names()"
   ]
  },
  {
   "cell_type": "markdown",
   "metadata": {},
   "source": [
    "### Select Number of Topics"
   ]
  },
  {
   "cell_type": "code",
   "execution_count": 246,
   "metadata": {},
   "outputs": [],
   "source": [
    "# define function to calculate perplexity for LDA model trained on ntopics\n",
    "\n",
    "def perplexity_by_ntopic(data, ntopics):\n",
    "    output_dict = {\n",
    "        \"Number Of Topics\": [], \n",
    "        \"Perplexity Score\": []\n",
    "    }\n",
    "    \n",
    "    for t in ntopics:\n",
    "        lda = sklearn.decomposition.LatentDirichletAllocation(\n",
    "            n_components=t,\n",
    "            learning_method=\"online\",\n",
    "            random_state=0\n",
    "        )\n",
    "        lda.fit(data)\n",
    "        \n",
    "        output_dict[\"Number Of Topics\"].append(t)\n",
    "        output_dict[\"Perplexity Score\"].append(lda.perplexity(data))\n",
    "        \n",
    "    output_df = pandas.DataFrame(output_dict)\n",
    "    \n",
    "    index_min_perplexity = output_df[\"Perplexity Score\"].idxmin()\n",
    "    output_num_topics = output_df.loc[\n",
    "        index_min_perplexity,  # index\n",
    "        \"Number Of Topics\"  # column\n",
    "    ]\n",
    "        \n",
    "    return (output_df, output_num_topics)"
   ]
  },
  {
   "cell_type": "code",
   "execution_count": 247,
   "metadata": {},
   "outputs": [
    {
     "name": "stdout",
     "output_type": "stream",
     "text": [
      "    Number Of Topics  Perplexity Score\n",
      "0                  1         27.643441\n",
      "1                  2         26.701483\n",
      "2                  3         26.082709\n",
      "3                  4         26.954830\n",
      "4                  6         25.999518\n",
      "5                  8         26.688507\n",
      "6                 10         27.263566\n",
      "7                 11         27.463771\n",
      "8                 12         27.459466\n",
      "9                 13         27.995714\n",
      "10                14         28.353824\n",
      "11                15         28.539696\n"
     ]
    }
   ],
   "source": [
    "# find perplexity scores for several different numbers of topics\n",
    "# takes several minutes\n",
    "\n",
    "df_perplexity, optimal_num_topics = perplexity_by_ntopic(\n",
    "    clean_vec1, \n",
    "    ntopics=[1, 2, 3, 4, 6, 8, 10, 11, 12, 13, 14, 15]\n",
    ")\n",
    "print(df_perplexity)"
   ]
  },
  {
   "cell_type": "code",
   "execution_count": 248,
   "metadata": {},
   "outputs": [
    {
     "data": {
      "text/plain": [
       "<AxesSubplot:xlabel='Number Of Topics'>"
      ]
     },
     "execution_count": 248,
     "metadata": {},
     "output_type": "execute_result"
    },
    {
     "data": {
      "image/png": "[encoded data removed]",
      "text/plain": [
       "<Figure size 432x288 with 1 Axes>"
      ]
     },
     "metadata": {
      "needs_background": "light"
     },
     "output_type": "display_data"
    }
   ],
   "source": [
    "df_perplexity.plot.line(\"Number Of Topics\", \"Perplexity Score\")"
   ]
  },
  {
   "cell_type": "code",
   "execution_count": 258,
   "metadata": {},
   "outputs": [],
   "source": [
    "optimal_num_topics = 3"
   ]
  },
  {
   "cell_type": "code",
   "execution_count": 259,
   "metadata": {},
   "outputs": [
    {
     "data": {
      "text/plain": [
       "LatentDirichletAllocation(learning_method='online', n_components=3,\n",
       "                          random_state=0)"
      ]
     },
     "execution_count": 259,
     "metadata": {},
     "output_type": "execute_result"
    }
   ],
   "source": [
    "# define and fit LDA model\n",
    "\n",
    "lda = sklearn.decomposition.LatentDirichletAllocation(\n",
    "    n_components=optimal_num_topics,\n",
    "    learning_method=\"online\",\n",
    "    random_state=0\n",
    ")\n",
    "lda.fit(clean_vec1)"
   ]
  },
  {
   "cell_type": "code",
   "execution_count": 260,
   "metadata": {},
   "outputs": [
    {
     "name": "stdout",
     "output_type": "stream",
     "text": [
      "(341, 3)\n",
      "[[0.9422133  0.02863054 0.02915616]\n",
      " [0.92509287 0.06904575 0.00586138]\n",
      " [0.23509578 0.00864814 0.75625608]\n",
      " ...\n",
      " [0.94185255 0.02915126 0.02899619]\n",
      " [0.55856035 0.09023305 0.3512066 ]\n",
      " [0.88973958 0.05182533 0.05843509]]\n"
     ]
    }
   ],
   "source": [
    "# output matrix\n",
    "# h: docs to topics\n",
    "\n",
    "lda_transform = lda.transform(clean_vec1)\n",
    "print(lda_transform.shape)\n",
    "print(lda_transform)"
   ]
  },
  {
   "cell_type": "code",
   "execution_count": 261,
   "metadata": {},
   "outputs": [
    {
     "name": "stdout",
     "output_type": "stream",
     "text": [
      "(3, 38)\n",
      "[[5.57499062e+01 4.73053275e+01 8.05091165e+01 5.95583698e+01\n",
      "  5.75355533e+01 3.59255913e+01 4.62049704e+01 2.41732215e+01\n",
      "  9.38191071e+00 9.55056656e-01 4.98856070e+01 5.11617512e+01\n",
      "  4.20282377e+01 1.78605120e+01 3.05484740e+01 3.23053338e+01\n",
      "  8.13251039e+01 1.94466182e+02 9.55592420e+01 1.60318107e+01\n",
      "  8.02635553e+00 3.57897419e+01 7.37851828e+00 2.39801995e+01\n",
      "  2.21975915e+01 1.33604827e+02 2.38162161e+01 5.66146730e+01\n",
      "  5.86242947e+01 6.85051201e+01 9.69474115e+01 8.04264772e+01\n",
      "  3.28800722e+00 2.78784735e+01 5.38723970e+01 8.18331670e-01\n",
      "  2.70958820e+00 1.06431086e+02]\n",
      " [7.85247834e+00 7.87539320e+00 1.19969343e+01 3.53699925e+00\n",
      "  7.11259223e+00 4.06686349e+00 1.58474373e+00 4.15657146e+00\n",
      "  3.13197421e+01 5.73176808e+01 3.09836865e+00 2.43919264e+00\n",
      "  2.58109155e+00 3.64583351e+00 6.92855399e+00 7.00008596e+01\n",
      "  7.47297965e+00 2.01906933e+01 6.07447853e+00 5.91128725e+01\n",
      "  2.53663479e+01 1.45135499e+01 8.79174898e+01 2.03743204e+01\n",
      "  2.57729211e+00 5.94987501e+00 8.60078883e+00 1.24841292e+01\n",
      "  3.93822888e+00 9.81420207e-01 9.22122289e+00 1.34420821e+01\n",
      "  5.06555139e+00 7.02987573e+00 7.21463555e-01 5.34745005e+01\n",
      "  6.82640240e+01 3.25485536e+00]\n",
      " [3.11050297e+01 3.66073267e+01 7.35418125e+01 6.89830370e+01\n",
      "  2.45316712e+01 2.76085210e+01 5.35849622e+01 6.94112811e+01\n",
      "  6.80911689e+01 7.13139008e-01 1.77346286e+01 2.39480009e+01\n",
      "  1.59580942e+01 4.49014875e+01 3.80327639e+01 4.05614090e+01\n",
      "  5.20202465e+01 1.16250475e+02 2.06699956e+01 1.49046279e+01\n",
      "  5.81737412e+01 1.73700205e+01 2.75739377e+00 4.26207725e+01\n",
      "  3.31140666e+01 1.62413137e+01 3.89421828e+01 7.05355210e+01\n",
      "  1.10991259e+01 1.34882325e+00 1.58518861e+01 5.50177189e+01\n",
      "  4.20862605e+01 4.70859745e+01 3.14605963e+01 4.48848067e-01\n",
      "  8.40622656e+02 3.33441810e+01]]\n"
     ]
    }
   ],
   "source": [
    "# output matrix\n",
    "# w: words to topics\n",
    "\n",
    "lda_components = lda.components_\n",
    "print(lda_components.shape)\n",
    "print(lda_components)"
   ]
  },
  {
   "cell_type": "code",
   "execution_count": 262,
   "metadata": {},
   "outputs": [],
   "source": [
    "# define function to reformat output matrices into easily readable tables\n",
    "\n",
    "def get_topics(mod, vec, names, docs, ndocs, nwords):\n",
    "    # word to topic matrix\n",
    "    W = mod.components_\n",
    "    W_norm = W / W.sum(axis=1)[:, numpy.newaxis]\n",
    "    # topic to document matrix\n",
    "    H = mod.transform(vec)\n",
    "    \n",
    "    W_dict = {}\n",
    "    H_dict = {}\n",
    "    \n",
    "    for tpc_idx, tpc_val in enumerate(W_norm):\n",
    "        topic = \"Topic{}\".format(tpc_idx)\n",
    "        \n",
    "        # formatting w\n",
    "        W_indices = tpc_val.argsort()[::-1][:nwords]\n",
    "        W_names_values = [\n",
    "            (round(tpc_val[j], 4), names[j]) \n",
    "            for j in W_indices\n",
    "        ]\n",
    "        W_dict[topic] = W_names_values\n",
    "        \n",
    "        # formatting h\n",
    "        H_indices = H[:, tpc_idx].argsort()[::-1][:ndocs]\n",
    "        H_names_values = [\n",
    "            (round(H[:, tpc_idx][j], 4), docs[j]) \n",
    "            for j in H_indices\n",
    "        ]\n",
    "        H_dict[topic] = H_names_values\n",
    "        \n",
    "    W_df = pandas.DataFrame(\n",
    "        W_dict, \n",
    "        index=[\"Word\" + str(i) for i in range(nwords)]\n",
    "    )\n",
    "    H_df = pandas.DataFrame(\n",
    "        H_dict,\n",
    "        index=[\"Doc\" + str(i) for i in range(ndocs)]\n",
    "    )\n",
    "        \n",
    "    return (W_df, H_df)"
   ]
  },
  {
   "cell_type": "code",
   "execution_count": 263,
   "metadata": {},
   "outputs": [],
   "source": [
    "# run function\n",
    "\n",
    "W_df, H_df = get_topics(\n",
    "    mod=lda,\n",
    "    vec=clean_vec1,\n",
    "    names=feature_names_vec1,\n",
    "    docs=raw,\n",
    "    ndocs=number_docs, \n",
    "    nwords=number_words\n",
    ")"
   ]
  },
  {
   "cell_type": "code",
   "execution_count": 264,
   "metadata": {},
   "outputs": [
    {
     "name": "stdout",
     "output_type": "stream",
     "text": [
      "                      Topic0                  Topic1                 Topic2\n",
      "Word0  (0.1057, experiencia)   (0.1329, informacion)       (0.3826, strong)\n",
      "Word1       (0.0726, manejo)       (0.1058, empresa)  (0.0529, experiencia)\n",
      "Word2      (0.0579, trabajo)        (0.1032, strong)           (0.0335, an)\n",
      "Word3     (0.0527, procesos)   (0.0894, habilidades)           (0.0321, os)\n",
      "Word4       (0.052, gestion)  (0.0866, competencias)     (0.0316, clientes)\n"
     ]
    }
   ],
   "source": [
    "# word-topic table\n",
    "print(W_df)"
   ]
  },
  {
   "cell_type": "code",
   "execution_count": 265,
   "metadata": {},
   "outputs": [
    {
     "name": "stdout",
     "output_type": "stream",
     "text": [
      "                                                 Topic0  \\\n",
      "Doc0  (0.9737, Creación de estrategias de Ventas Man...   \n",
      "Doc1  (0.9725, Estamos contratando Talento para Bogo...   \n",
      "Doc2  (0.9649, &lt;p&gt;&lt;strong&gt;***Native Engl...   \n",
      "Doc3  (0.9596, &lt;p&gt;DAI está buscando candidatos...   \n",
      "Doc4  (0.9595, &lt;strong&gt;Reporta a&lt;/strong&gt...   \n",
      "\n",
      "                                                 Topic1  \\\n",
      "Doc0  (0.9391, &lt;strong&gt;Especialista de Bebidas...   \n",
      "Doc1  (0.888, 1 Capacidad la aplicación de red así c...   \n",
      "Doc2  (0.888, Capacidad de seguir instrucciones escr...   \n",
      "Doc3  (0.888, ¿Te apasionan las finanzas corporativa...   \n",
      "Doc4  (0.888, Nuestro coordinador de gestión comerci...   \n",
      "\n",
      "                                                 Topic2  \n",
      "Doc0  (0.986, 50 tiempo en oficina y 50 viajar a var...  \n",
      "Doc1  (0.9857, &lt;p&gt;Somos una empresa joven e in...  \n",
      "Doc2  (0.9852, &lt;p&gt;Pertenecer al Grupo Bolívar ...  \n",
      "Doc3  (0.9844, &lt;p&gt;&lt;strong&gt;Descripción:&a...  \n",
      "Doc4  (0.9841, &lt;p&gt;We are working on a project ...  \n"
     ]
    }
   ],
   "source": [
    "# document-topic table\n",
    "print(H_df)"
   ]
  },
  {
   "cell_type": "markdown",
   "metadata": {},
   "source": [
    "### Visualizing LDA"
   ]
  },
  {
   "cell_type": "code",
   "execution_count": 266,
   "metadata": {},
   "outputs": [
    {
     "data": {
      "text/html": [
       "\n",
       "<link rel=\"stylesheet\" type=\"text/css\" href=\"https://cdn.jsdelivr.net/gh/bmabey/pyLDAvis@3.3.1/pyLDAvis/js/ldavis.v1.0.0.css\">\n",
       "\n",
       "\n",
       "<div id=\"ldavis_el1302021400127332297606996942167\"></div>\n",
       "<script type=\"text/javascript\">\n",
       "\n",
       "var ldavis_el1302021400127332297606996942167_data = {\"mdsDat\": {\"x\": [0.005316713985541552, -0.15498456534128682, 0.14966785135574517], \"y\": [-0.1072180106203889, 0.05080229445550462, 0.05641571616488424], \"topics\": [1, 2, 3], \"cluster\": [1, 1, 1], \"Freq\": [53.60144846820367, 36.94228561693854, 9.456265914857772]}, \"tinfo\": {\"Term\": [\"strong\", \"empresa\", \"informacion\", \"habilidades\", \"competencias\", \"solicitud\", \"compan\", \"manejo\", \"ia\", \"personal\", \"strong\", \"requerimientos\", \"clientes\", \"ia\", \"debe\", \"compan\", \"sector\", \"ingles\", \"nivel\", \"cliente\", \"area\", \"os\", \"an\", \"experiencia\", \"profesional\", \"personal\", \"manejo\", \"procesos\", \"persona\", \"gestion\", \"trabajo\", \"comunicacion\", \"conocimientos\", \"conocimiento\", \"cargo\", \"experiencia\", \"equipo\", \"profesional\", \"an\", \"area\", \"solicitud\", \"competencias\", \"informacion\", \"habilidades\", \"empresa\", \"compan\", \"ia\", \"ingenieria\", \"industrial\", \"nivel\", \"strong\", \"experiencia\"], \"Freq\": [1147.0, 140.0, 78.0, 81.0, 45.0, 42.0, 122.0, 168.0, 103.0, 75.0, 1092.177500547462, 54.68049952353102, 90.18248426666132, 75.58213040630396, 58.33817831784499, 88.46733078296718, 61.17636908606901, 43.02339245629036, 50.59556211513871, 69.62016741342707, 89.62608888005796, 91.64315097624343, 95.54906986977208, 151.0382244516131, 71.48167401672616, 73.27846398020064, 142.91422963994316, 103.70257562142265, 62.70915599313612, 102.21768031548463, 113.84705966105372, 53.361568449366146, 44.956708301940054, 54.72663265382866, 61.54455265325978, 208.01632168851881, 86.99172679576236, 86.03048504707012, 86.11888258655866, 63.70831623286566, 40.71085207527747, 43.63671660220338, 66.93276020489142, 45.003420013044014, 53.29259019379164, 23.844138329660286, 19.311739744416048, 15.511242439531998, 11.049359549506237, 6.547895509317764, 51.97031397589775, 15.371444728844596], \"Total\": [1147.0, 140.0, 78.0, 81.0, 45.0, 42.0, 122.0, 168.0, 103.0, 75.0, 1147.0462031580164, 62.05408261572677, 119.20451647684526, 103.47949124934597, 80.21880831919732, 122.34709863069234, 96.3493151951981, 68.72980892345264, 82.61915532166185, 120.25112409711892, 156.0271699238816, 161.70699202668436, 190.80137893864983, 374.42599086897656, 167.74579584706058, 75.7780885303818, 168.5454470847329, 131.31835085850162, 80.12790199379972, 133.69771729219138, 159.6473928029942, 78.76208272206195, 67.65525352774709, 87.69802040794039, 98.83219464334054, 374.42599086897656, 160.26821938789323, 167.74579584706058, 190.80137893864983, 156.0271699238816, 42.169369043970384, 45.58486490635071, 78.40794260547928, 81.51711702344659, 140.54825467414344, 122.34709863069234, 103.47949124934597, 96.53731313528786, 71.90085058073052, 82.61915532166185, 1147.0462031580164, 374.42599086897656], \"Category\": [\"Default\", \"Default\", \"Default\", \"Default\", \"Default\", \"Default\", \"Default\", \"Default\", \"Default\", \"Default\", \"Topic1\", \"Topic1\", \"Topic1\", \"Topic1\", \"Topic1\", \"Topic1\", \"Topic1\", \"Topic1\", \"Topic1\", \"Topic1\", \"Topic1\", \"Topic1\", \"Topic1\", \"Topic1\", \"Topic1\", \"Topic2\", \"Topic2\", \"Topic2\", \"Topic2\", \"Topic2\", \"Topic2\", \"Topic2\", \"Topic2\", \"Topic2\", \"Topic2\", \"Topic2\", \"Topic2\", \"Topic2\", \"Topic2\", \"Topic2\", \"Topic3\", \"Topic3\", \"Topic3\", \"Topic3\", \"Topic3\", \"Topic3\", \"Topic3\", \"Topic3\", \"Topic3\", \"Topic3\", \"Topic3\", \"Topic3\"], \"logprob\": [10.0, 9.0, 8.0, 7.0, 6.0, 5.0, 4.0, 3.0, 2.0, 1.0, -0.9608, -3.9553, -3.4549, -3.6315, -3.8905, -3.4741, -3.843, -4.195, -4.0329, -3.7137, -3.4611, -3.4389, -3.3971, -2.9392, -3.6873, -3.2903, -2.6223, -2.943, -3.446, -2.9574, -2.8497, -3.6075, -3.7788, -3.5822, -3.4648, -2.2469, -3.1187, -3.1298, -3.1288, -3.4302, -2.5154, -2.446, -2.0182, -2.4151, -2.2461, -3.0503, -3.2611, -3.4803, -3.8195, -4.3427, -2.2712, -3.4894], \"loglift\": [10.0, 9.0, 8.0, 7.0, 6.0, 5.0, 4.0, 3.0, 2.0, 1.0, 0.5746, 0.4971, 0.3446, 0.3094, 0.3051, 0.2994, 0.1694, 0.1552, 0.1332, 0.0771, 0.0692, 0.0557, -0.068, -0.2843, -0.2294, 0.9623, 0.8309, 0.7597, 0.7507, 0.7273, 0.6577, 0.6065, 0.5871, 0.5243, 0.5222, 0.408, 0.3848, 0.3281, 0.2003, 0.1001, 2.3233, 2.3148, 2.2003, 1.7644, 1.3887, 0.7232, 0.6798, 0.5301, 0.4856, -0.1766, -0.7358, -0.8344]}, \"token.table\": {\"Topic\": [1, 2, 3, 1, 2, 3, 1, 2, 3, 1, 2, 3, 1, 2, 3, 1, 2, 3, 1, 2, 3, 1, 2, 3, 1, 2, 3, 1, 2, 3, 1, 2, 3, 1, 2, 3, 1, 2, 3, 1, 2, 3, 1, 2, 3, 1, 2, 3, 1, 2, 3, 1, 2, 3, 1, 2, 3, 1, 2, 3, 1, 2, 3, 1, 2, 3, 1, 2, 3, 1, 2, 3, 1, 2, 3, 1, 2, 3, 1, 2, 3, 1, 2, 3, 1, 2, 3, 1, 2, 3, 1, 2, 3, 1, 2, 3, 1, 2, 3], \"Freq\": [0.5031410178165839, 0.45073049512735647, 0.04716947042030475, 0.5768226139326044, 0.41018496990762976, 0.019227420464420143, 0.32378113341993064, 0.6273259460011157, 0.05059080209686417, 0.582115140507673, 0.4074805983553711, 0.008315930578681043, 0.7550049499800785, 0.21811254110535602, 0.025166831666002618, 0.7192651152736373, 0.08173467219018606, 0.19616321325644653, 0.02193710570502719, 0.02193710570502719, 0.9652326510211965, 0.2920186872300356, 0.6729126270952994, 0.025392929324350923, 0.35348574410002515, 0.6271521266290768, 0.022805531877420977, 0.3103971813716932, 0.6651368172250568, 0.029561636321113638, 0.7230224583892242, 0.23685218464474586, 0.037397713364959874, 0.3770946862547584, 0.24902479280974613, 0.3770946862547584, 0.42428873459572963, 0.5428399986739482, 0.0374372412878585, 0.4032839698161863, 0.5555169915348792, 0.04006132150491917, 0.20194810013840778, 0.7629150449673183, 0.03739779632192737, 0.23307988179384548, 0.20854515739449334, 0.5520312989854235, 0.7344450487958922, 0.08697375577846092, 0.18361126219897306, 0.3198849500977116, 0.528505569726654, 0.15298845439455772, 0.05101523987342162, 0.10203047974684323, 0.8545052678798121, 0.5697278929124817, 0.2693259130131732, 0.16573902339272195, 0.6256382881537029, 0.3491934631555551, 0.029099455262962926, 0.12459547477092434, 0.8484358520115324, 0.02966558923117246, 0.6172902615796697, 0.30259326548023024, 0.08472611433446446, 0.5689302537073874, 0.3772254943059851, 0.06184024496819428, 0.17472066098876912, 0.7862429744494611, 0.03744014164045053, 0.026392853643941384, 0.9633391580038605, 0.013196426821970692, 0.15991672041806218, 0.7919685201656413, 0.0533055734726874, 0.4232594900007692, 0.5126805090150162, 0.05961401267616467, 0.886323633862907, 0.06445990064457506, 0.06445990064457506, 0.6331129585759645, 0.3113670288078514, 0.05189450480130856, 0.023713895243661125, 0.023713895243661125, 0.9722697049901061, 0.9520104743763026, 0.0026154133911436886, 0.045333832113157266, 0.26934357802549425, 0.7140736719745662, 0.012527608280255547], \"Term\": [\"an\", \"an\", \"an\", \"area\", \"area\", \"area\", \"cargo\", \"cargo\", \"cargo\", \"cliente\", \"cliente\", \"cliente\", \"clientes\", \"clientes\", \"clientes\", \"compan\", \"compan\", \"compan\", \"competencias\", \"competencias\", \"competencias\", \"comunicacion\", \"comunicacion\", \"comunicacion\", \"conocimiento\", \"conocimiento\", \"conocimiento\", \"conocimientos\", \"conocimientos\", \"conocimientos\", \"debe\", \"debe\", \"debe\", \"empresa\", \"empresa\", \"empresa\", \"equipo\", \"equipo\", \"equipo\", \"experiencia\", \"experiencia\", \"experiencia\", \"gestion\", \"gestion\", \"gestion\", \"habilidades\", \"habilidades\", \"habilidades\", \"ia\", \"ia\", \"ia\", \"industrial\", \"industrial\", \"industrial\", \"informacion\", \"informacion\", \"informacion\", \"ingenieria\", \"ingenieria\", \"ingenieria\", \"ingles\", \"ingles\", \"ingles\", \"manejo\", \"manejo\", \"manejo\", \"nivel\", \"nivel\", \"nivel\", \"os\", \"os\", \"os\", \"persona\", \"persona\", \"persona\", \"personal\", \"personal\", \"personal\", \"procesos\", \"procesos\", \"procesos\", \"profesional\", \"profesional\", \"profesional\", \"requerimientos\", \"requerimientos\", \"requerimientos\", \"sector\", \"sector\", \"sector\", \"solicitud\", \"solicitud\", \"solicitud\", \"strong\", \"strong\", \"strong\", \"trabajo\", \"trabajo\", \"trabajo\"]}, \"R\": 10, \"lambda.step\": 0.01, \"plot.opts\": {\"xlab\": \"PC1\", \"ylab\": \"PC2\"}, \"topic.order\": [3, 1, 2]};\n",
       "\n",
       "function LDAvis_load_lib(url, callback){\n",
       "  var s = document.createElement('script');\n",
       "  s.src = url;\n",
       "  s.async = true;\n",
       "  s.onreadystatechange = s.onload = callback;\n",
       "  s.onerror = function(){console.warn(\"failed to load library \" + url);};\n",
       "  document.getElementsByTagName(\"head\")[0].appendChild(s);\n",
       "}\n",
       "\n",
       "if(typeof(LDAvis) !== \"undefined\"){\n",
       "   // already loaded: just create the visualization\n",
       "   !function(LDAvis){\n",
       "       new LDAvis(\"#\" + \"ldavis_el1302021400127332297606996942167\", ldavis_el1302021400127332297606996942167_data);\n",
       "   }(LDAvis);\n",
       "}else if(typeof define === \"function\" && define.amd){\n",
       "   // require.js is available: use it to load d3/LDAvis\n",
       "   require.config({paths: {d3: \"https://d3js.org/d3.v5\"}});\n",
       "   require([\"d3\"], function(d3){\n",
       "      window.d3 = d3;\n",
       "      LDAvis_load_lib(\"https://cdn.jsdelivr.net/gh/bmabey/pyLDAvis@3.3.1/pyLDAvis/js/ldavis.v3.0.0.js\", function(){\n",
       "        new LDAvis(\"#\" + \"ldavis_el1302021400127332297606996942167\", ldavis_el1302021400127332297606996942167_data);\n",
       "      });\n",
       "    });\n",
       "}else{\n",
       "    // require.js not available: dynamically load d3 & LDAvis\n",
       "    LDAvis_load_lib(\"https://d3js.org/d3.v5.js\", function(){\n",
       "         LDAvis_load_lib(\"https://cdn.jsdelivr.net/gh/bmabey/pyLDAvis@3.3.1/pyLDAvis/js/ldavis.v3.0.0.js\", function(){\n",
       "                 new LDAvis(\"#\" + \"ldavis_el1302021400127332297606996942167\", ldavis_el1302021400127332297606996942167_data);\n",
       "            })\n",
       "         });\n",
       "}\n",
       "</script>"
      ],
      "text/plain": [
       "<IPython.core.display.HTML object>"
      ]
     },
     "execution_count": 266,
     "metadata": {},
     "output_type": "execute_result"
    }
   ],
   "source": [
    "# iterative visualization\n",
    "# featuring pca biplot and histogram\n",
    "lda_plot = pyLDAvis.sklearn.prepare(lda, clean_vec1, vectorizer1, R=10)\n",
    "pyLDAvis.display(lda_plot)"
   ]
  },
  {
   "cell_type": "code",
   "execution_count": 267,
   "metadata": {},
   "outputs": [],
   "source": [
    "# define functiont to fit and plot t-SNE model\n",
    "\n",
    "def plot_tsne(data, threshold):\n",
    "    # filter data according to threshold\n",
    "    index_meet_threshold = numpy.amax(data, axis=1) >= threshold\n",
    "    lda_transform_filt = data[index_meet_threshold]\n",
    "    \n",
    "    # fit tsne model\n",
    "    # x-d -> 2-d, x = number of topics\n",
    "    tsne = sklearn.manifold.TSNE(\n",
    "        n_components=2, \n",
    "        verbose=0, \n",
    "        random_state=0, \n",
    "        angle=0.5, \n",
    "        init='pca'\n",
    "    )\n",
    "    tsne_fit = tsne.fit_transform(lda_transform_filt)\n",
    "    \n",
    "    # most probable topic for each headline\n",
    "    most_prob_topic = []\n",
    "    for i in range(tsne_fit.shape[0]):\n",
    "        most_prob_topic.append(lda_transform_filt[i].argmax())\n",
    "    \n",
    "    print(\"LENGTH:\\n{}\\n\".format(len(most_prob_topic)))\n",
    "\n",
    "    unique, counts = numpy.unique(\n",
    "        numpy.array(most_prob_topic), \n",
    "        return_counts=True\n",
    "    )\n",
    "\n",
    "    print(\"COUNTS:\\n{}\\n\".format(numpy.asarray((unique, counts)).T))\n",
    "    \n",
    "    # make plot\n",
    "    matplotlib.pyplot.figure(figsize=(10,6))\n",
    "    color_list = ['b', 'g', 'r', 'c', 'm', 'y', 'k']\n",
    "\n",
    "    for i in list(set(most_prob_topic)):\n",
    "        indices = [idx for idx, val in enumerate(most_prob_topic) if val == i]\n",
    "        matplotlib.pyplot.scatter(\n",
    "            x=tsne_fit[indices, 0], \n",
    "            y=tsne_fit[indices, 1], \n",
    "            s=0.5, \n",
    "            c=color_list[i], \n",
    "            label='Topic' + str(i),\n",
    "            alpha=0.25\n",
    "        )\n",
    "    \n",
    "    \n",
    "    matplotlib.pyplot.xlabel('x-tsne')\n",
    "    matplotlib.pyplot.ylabel('y-tsne')\n",
    "    matplotlib.pyplot.legend(markerscale=10)"
   ]
  },
  {
   "cell_type": "code",
   "execution_count": 286,
   "metadata": {},
   "outputs": [
    {
     "name": "stdout",
     "output_type": "stream",
     "text": [
      "LENGTH:\n",
      "341\n",
      "\n",
      "COUNTS:\n",
      "[[  0 211]\n",
      " [  1  51]\n",
      " [  2  79]]\n",
      "\n"
     ]
    },
    {
     "data": {
      "image/png": "[encoded data removed]",
      "text/plain": [
       "<Figure size 720x432 with 1 Axes>"
      ]
     },
     "metadata": {
      "needs_background": "light"
     },
     "output_type": "display_data"
    }
   ],
   "source": [
    "plot_tsne(data=lda_transform, threshold=0)"
   ]
  },
  {
   "cell_type": "code",
   "execution_count": 277,
   "metadata": {},
   "outputs": [
    {
     "data": {
      "text/plain": [
       "NMF(alpha=0.1, init='nndsvda', l1_ratio=0.5, n_components=4, random_state=0,\n",
       "    solver='mu')"
      ]
     },
     "execution_count": 277,
     "metadata": {},
     "output_type": "execute_result"
    }
   ],
   "source": [
    "# define and fit nmf model\n",
    "\n",
    "nmf = sklearn.decomposition.NMF(\n",
    "    n_components=4,\n",
    "    init=\"nndsvda\",\n",
    "    solver=\"mu\",\n",
    "    beta_loss=\"frobenius\",\n",
    "    random_state=0, \n",
    "    alpha=0.1, \n",
    "    l1_ratio=0.5\n",
    ")\n",
    "nmf.fit(clean_vec1)"
   ]
  },
  {
   "cell_type": "code",
   "execution_count": 278,
   "metadata": {},
   "outputs": [],
   "source": [
    "# run function to produce nice output tables\n",
    "\n",
    "W_df, H_df = get_topics(\n",
    "    mod=nmf,\n",
    "    vec=clean_vec1,\n",
    "    names=feature_names_vec1,\n",
    "    docs=raw,\n",
    "    ndocs=number_docs, \n",
    "    nwords=number_words\n",
    ")"
   ]
  },
  {
   "cell_type": "code",
   "execution_count": 279,
   "metadata": {},
   "outputs": [
    {
     "name": "stdout",
     "output_type": "stream",
     "text": [
      "                     Topic0                    Topic1                  Topic2  \\\n",
      "Word0       (0.518, strong)     (0.1844, experiencia)      (0.2813, procesos)   \n",
      "Word1      (0.0345, compan)              (0.0865, an)       (0.1208, gestion)   \n",
      "Word2          (0.0299, ia)              (0.0763, os)  (0.0613, conocimiento)   \n",
      "Word3  (0.0271, ingenieria)     (0.0558, profesional)       (0.0421, trabajo)   \n",
      "Word4         (0.027, area)  (0.0523, administracion)        (0.0419, manejo)   \n",
      "\n",
      "                   Topic3  \n",
      "Word0    (0.166, cliente)  \n",
      "Word1  (0.1152, servicio)  \n",
      "Word2    (0.1075, equipo)  \n",
      "Word3   (0.0987, trabajo)  \n",
      "Word4   (0.0731, empresa)  \n"
     ]
    }
   ],
   "source": [
    "# word-topic table\n",
    "print(W_df)"
   ]
  },
  {
   "cell_type": "code",
   "execution_count": 280,
   "metadata": {},
   "outputs": [
    {
     "name": "stdout",
     "output_type": "stream",
     "text": [
      "                                                 Topic0  \\\n",
      "Doc0  (1.9105, Habilidades matematicas Responsabilid...   \n",
      "Doc1  (1.4698, En el espacio asignado de Habilidades...   \n",
      "Doc2  (1.4546, &lt;strong&gt;Investment Associate in...   \n",
      "Doc3  (1.4458, &lt;p&gt;Consecución, negociación y m...   \n",
      "Doc4  (1.4405, &lt;p&gt;Somos una empresa joven e in...   \n",
      "\n",
      "                                                 Topic1  \\\n",
      "Doc0  (0.9909, Habilidades matematicas Responsabilid...   \n",
      "Doc1  (0.9706, &lt;p&gt;We are goFLUENT, a multi-awa...   \n",
      "Doc2  (0.8558, Planeación seguimiento de gestión del...   \n",
      "Doc3  (0.8168, &lt;strong&gt;Dirección de Mercadeo (...   \n",
      "Doc4  (0.8045, &lt;p&gt;LumiQualis seeks a Directory...   \n",
      "\n",
      "                                                 Topic2  \\\n",
      "Doc0  (3.1297, &lt;strong&gt;Coordinación de Recurso...   \n",
      "Doc1  (1.6495, &lt;strong&gt;Gerencia de Negocios&lt...   \n",
      "Doc2  (1.487, &lt;p&gt;Pertenecer al Grupo Bolívar e...   \n",
      "Doc3  (1.307, Creación de estrategias de Ventas Mane...   \n",
      "Doc4  (1.2093, &lt;p&gt;One of our partners in the g...   \n",
      "\n",
      "                                                 Topic3  \n",
      "Doc0  (2.2617, YOUR NEXT STEP IS AT RAPPI!&lt;br&gt;...  \n",
      "Doc1  (2.1417, DESCRIPCIÓN DEL PUESTO&lt;br&gt;&lt;b...  \n",
      "Doc2  (1.4991, &lt;strong&gt;&lt;u&gt;Rol&lt;br&gt;&...  \n",
      "Doc3  (1.0309, &lt;strong&gt;&lt;u&gt;Key Responsibi...  \n",
      "Doc4  (0.9034, &lt;strong&gt;Coordinación Experienci...  \n"
     ]
    }
   ],
   "source": [
    "# document-topic table\n",
    "print(H_df)"
   ]
  },
  {
   "cell_type": "code",
   "execution_count": 281,
   "metadata": {},
   "outputs": [
    {
     "name": "stdout",
     "output_type": "stream",
     "text": [
      "(341, 4)\n",
      "[[3.40228379e-03 3.13596437e-01 2.09130054e-06 2.55298654e-03]\n",
      " [3.59048409e-09 3.45975596e-01 5.71296018e-01 2.14172770e+00]\n",
      " [1.28266218e+00 8.72177669e-02 9.69970392e-01 1.05117802e-04]\n",
      " ...\n",
      " [1.14013619e-06 2.10865981e-01 2.63436941e-06 3.41093544e-01]\n",
      " [2.38526977e-03 1.88020354e-02 3.91512375e-04 1.01802875e-02]\n",
      " [5.26326892e-04 1.36878676e-01 3.46119110e-03 6.58827298e-02]]\n"
     ]
    }
   ],
   "source": [
    "# output raw document-topic matrix for t-SNE plot\n",
    "nmf_transform = nmf.transform(clean_vec1)\n",
    "print(nmf_transform.shape)\n",
    "print(nmf_transform)"
   ]
  },
  {
   "cell_type": "code",
   "execution_count": 285,
   "metadata": {},
   "outputs": [
    {
     "name": "stdout",
     "output_type": "stream",
     "text": [
      "LENGTH:\n",
      "341\n",
      "\n",
      "COUNTS:\n",
      "[[  0  76]\n",
      " [  1 101]\n",
      " [  2  42]\n",
      " [  3 122]]\n",
      "\n"
     ]
    },
    {
     "data": {
      "image/png": "[encoded data removed]",
      "text/plain": [
       "<Figure size 720x432 with 1 Axes>"
      ]
     },
     "metadata": {
      "needs_background": "light"
     },
     "output_type": "display_data"
    }
   ],
   "source": [
    "# run function to produce t-SNE plot\n",
    "plot_tsne(data=nmf_transform, threshold=0)"
   ]
  },
  {
   "cell_type": "code",
   "execution_count": null,
   "metadata": {},
   "outputs": [],
   "source": []
  }
 ],
 "metadata": {
  "kernelspec": {
   "display_name": "Python 3",
   "language": "python",
   "name": "python3"
  },
  "language_info": {
   "codemirror_mode": {
    "name": "ipython",
    "version": 3
   },
   "file_extension": ".py",
   "mimetype": "text/x-python",
   "name": "python",
   "nbconvert_exporter": "python",
   "pygments_lexer": "ipython3",
   "version": "3.8.5"
  }
 },
 "nbformat": 4,
 "nbformat_minor": 4
}
