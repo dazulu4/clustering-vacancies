{
 "cells": [
  {
   "cell_type": "code",
   "execution_count": 23,
   "metadata": {},
   "outputs": [],
   "source": [
    "#!pip install langdetect\n",
    "#!pip install pyLDAvis\n",
    "#!pip install spacy==3.0.5\n",
    "#!pip install spacy-spanish-lemmatizer==0.6\n",
    "#!spacy download es_core_news_sm\n",
    "#!python3 -m spacy_spanish_lemmatizer download wiki\n",
    "\n",
    "import langdetect  # language detection\n",
    "import nltk  # natural language processing\n",
    "from nltk.corpus import words\n",
    "from nltk.stem.wordnet import WordNetLemmatizer\n",
    "import numpy  # arrays and matrices\n",
    "import pandas  # dataframes\n",
    "import pyLDAvis  # plotting\n",
    "import pyLDAvis.sklearn  # plotting\n",
    "import regex  # regular expressions\n",
    "import string\n",
    "from unicodedata import normalize\n",
    "import sklearn  # machine learning\n",
    "import spacy\n",
    "import spacy_spanish_lemmatizer\n",
    "from html import unescape\n",
    "from numbers import Number\n",
    "from joblib import Parallel, delayed\n",
    "from pytictoc import TicToc\n",
    "tictoc = TicToc()\n",
    "\n",
    "# added to suppress warnings coming from pyLDAvis\n",
    "import warnings\n",
    "warnings.filterwarnings('ignore')\n",
    "\n",
    "# plotting\n",
    "import matplotlib.pyplot\n",
    "%matplotlib inline"
   ]
  },
  {
   "cell_type": "code",
   "execution_count": 18,
   "metadata": {},
   "outputs": [
    {
     "name": "stderr",
     "output_type": "stream",
     "text": [
      "[nltk_data] Downloading package words to /home/alexander/nltk_data...\n",
      "[nltk_data]   Package words is already up-to-date!\n",
      "[nltk_data] Downloading package wordnet to\n",
      "[nltk_data]     /home/alexander/nltk_data...\n",
      "[nltk_data]   Package wordnet is already up-to-date!\n",
      "[nltk_data] Downloading package stopwords to\n",
      "[nltk_data]     /home/alexander/nltk_data...\n",
      "[nltk_data]   Package stopwords is already up-to-date!\n"
     ]
    },
    {
     "name": "stdout",
     "output_type": "stream",
     "text": [
      "Cantidad de stopwords: 608\n"
     ]
    }
   ],
   "source": [
    "# installing specific word dictionarys\n",
    "# used for stopword removal and lemmatization\n",
    "\n",
    "nltk.download(\"words\")\n",
    "nltk.download(\"wordnet\")\n",
    "nltk.download(\"stopwords\")\n",
    "\n",
    "nlp = spacy.load(\"es_core_news_sm\")\n",
    "nlp.replace_pipe(\"lemmatizer\", \"spanish_lemmatizer\")\n",
    "\n",
    "stopwords = set(pandas.read_csv(\"stopwords/stopwords.csv\").word.tolist())\n",
    "stopwords = set([i for i in stopwords if type(i) == str])\n",
    "print(f'Cantidad de stopwords: {len(stopwords)}')"
   ]
  },
  {
   "cell_type": "code",
   "execution_count": 19,
   "metadata": {},
   "outputs": [
    {
     "name": "stdout",
     "output_type": "stream",
     "text": [
      "SHAPE:\n",
      "(2613, 12)\n",
      "\n",
      "COLUMN NAMES:\n",
      "['Cargo', 'Descripcion', 'Educacion requerida', 'Experiencia requerida (meses)', 'Tipo de empleo', 'Empresa', 'Sector', 'Cantidad de aplicantes', 'Fecha de publicacion', 'Fecha de expiracion', 'Ciudad', 'Pais']\n",
      "\n"
     ]
    },
    {
     "data": {
      "text/html": [
       "<div>\n",
       "<style scoped>\n",
       "    .dataframe tbody tr th:only-of-type {\n",
       "        vertical-align: middle;\n",
       "    }\n",
       "\n",
       "    .dataframe tbody tr th {\n",
       "        vertical-align: top;\n",
       "    }\n",
       "\n",
       "    .dataframe thead th {\n",
       "        text-align: right;\n",
       "    }\n",
       "</style>\n",
       "<table border=\"1\" class=\"dataframe\">\n",
       "  <thead>\n",
       "    <tr style=\"text-align: right;\">\n",
       "      <th></th>\n",
       "      <th>Cargo</th>\n",
       "      <th>Descripcion</th>\n",
       "      <th>Educacion requerida</th>\n",
       "      <th>Experiencia requerida (meses)</th>\n",
       "      <th>Tipo de empleo</th>\n",
       "      <th>Empresa</th>\n",
       "      <th>Sector</th>\n",
       "      <th>Cantidad de aplicantes</th>\n",
       "      <th>Fecha de publicacion</th>\n",
       "      <th>Fecha de expiracion</th>\n",
       "      <th>Ciudad</th>\n",
       "      <th>Pais</th>\n",
       "    </tr>\n",
       "  </thead>\n",
       "  <tbody>\n",
       "    <tr>\n",
       "      <th>0</th>\n",
       "      <td>DevOps Senior Engineer</td>\n",
       "      <td>&amp;lt;p&amp;gt;&amp;lt;strong&amp;gt;Position Overview&amp;lt;/s...</td>\n",
       "      <td>bachelor degree</td>\n",
       "      <td>72.0</td>\n",
       "      <td>FULL_TIME</td>\n",
       "      <td>Qual.IT</td>\n",
       "      <td>NaN</td>\n",
       "      <td>NaN</td>\n",
       "      <td>2021-07-12T18:58:44.000Z</td>\n",
       "      <td>2021-08-11T18:58:44.000Z</td>\n",
       "      <td>Medellín</td>\n",
       "      <td>CO</td>\n",
       "    </tr>\n",
       "    <tr>\n",
       "      <th>1</th>\n",
       "      <td>Asesor Comercial experiencia en Belleza</td>\n",
       "      <td>Importante empresa esta solicitando Asesor Com...</td>\n",
       "      <td>bachelor degree</td>\n",
       "      <td>NaN</td>\n",
       "      <td>FULL_TIME</td>\n",
       "      <td>reclutapro.com</td>\n",
       "      <td>Marketing y publicidad,Servicios y tecnologías...</td>\n",
       "      <td>NaN</td>\n",
       "      <td>2021-07-07T10:27:59.000Z</td>\n",
       "      <td>2021-08-06T10:27:59.000Z</td>\n",
       "      <td>Medellín</td>\n",
       "      <td>CO</td>\n",
       "    </tr>\n",
       "    <tr>\n",
       "      <th>2</th>\n",
       "      <td>Ejecutivo de Ventas - Writing</td>\n",
       "      <td>&amp;lt;strong&amp;gt;Position: &amp;lt;/strong&amp;gt;Ejecuti...</td>\n",
       "      <td>NaN</td>\n",
       "      <td>NaN</td>\n",
       "      <td>FULL_TIME</td>\n",
       "      <td>Newell Brands</td>\n",
       "      <td>Artículos de consumo</td>\n",
       "      <td>NaN</td>\n",
       "      <td>2021-07-12T22:35:42.000Z</td>\n",
       "      <td>2021-08-11T22:35:41.000Z</td>\n",
       "      <td>Medellín</td>\n",
       "      <td>CO</td>\n",
       "    </tr>\n",
       "    <tr>\n",
       "      <th>3</th>\n",
       "      <td>Desarrollador de Android</td>\n",
       "      <td>Buscamos profesionales en ingeniería de sistem...</td>\n",
       "      <td>bachelor degree</td>\n",
       "      <td>NaN</td>\n",
       "      <td>OTHER</td>\n",
       "      <td>NAPOLEON SYSTEMS</td>\n",
       "      <td>NaN</td>\n",
       "      <td>NaN</td>\n",
       "      <td>2021-07-08T19:56:46.000Z</td>\n",
       "      <td>2021-08-07T19:56:46.000Z</td>\n",
       "      <td>Medellín</td>\n",
       "      <td>CO</td>\n",
       "    </tr>\n",
       "    <tr>\n",
       "      <th>4</th>\n",
       "      <td>Analista de Estrategia y Planeación de Rutas</td>\n",
       "      <td>&amp;lt;p&amp;gt;Nos encontramos en la búsqueda de un ...</td>\n",
       "      <td>bachelor degree</td>\n",
       "      <td>NaN</td>\n",
       "      <td>FULL_TIME</td>\n",
       "      <td>Viva</td>\n",
       "      <td>Aeronáutica/Aviación</td>\n",
       "      <td>174 solicitudes</td>\n",
       "      <td>2021-07-06T22:47:27.000Z</td>\n",
       "      <td>2021-08-05T22:47:26.000Z</td>\n",
       "      <td>Medellín</td>\n",
       "      <td>CO</td>\n",
       "    </tr>\n",
       "  </tbody>\n",
       "</table>\n",
       "</div>"
      ],
      "text/plain": [
       "                                          Cargo  \\\n",
       "0                        DevOps Senior Engineer   \n",
       "1       Asesor Comercial experiencia en Belleza   \n",
       "2                 Ejecutivo de Ventas - Writing   \n",
       "3                      Desarrollador de Android   \n",
       "4  Analista de Estrategia y Planeación de Rutas   \n",
       "\n",
       "                                         Descripcion Educacion requerida  \\\n",
       "0  &lt;p&gt;&lt;strong&gt;Position Overview&lt;/s...     bachelor degree   \n",
       "1  Importante empresa esta solicitando Asesor Com...     bachelor degree   \n",
       "2  &lt;strong&gt;Position: &lt;/strong&gt;Ejecuti...                 NaN   \n",
       "3  Buscamos profesionales en ingeniería de sistem...     bachelor degree   \n",
       "4  &lt;p&gt;Nos encontramos en la búsqueda de un ...     bachelor degree   \n",
       "\n",
       "   Experiencia requerida (meses) Tipo de empleo           Empresa  \\\n",
       "0                           72.0      FULL_TIME           Qual.IT   \n",
       "1                            NaN      FULL_TIME    reclutapro.com   \n",
       "2                            NaN      FULL_TIME     Newell Brands   \n",
       "3                            NaN          OTHER  NAPOLEON SYSTEMS   \n",
       "4                            NaN      FULL_TIME              Viva   \n",
       "\n",
       "                                              Sector Cantidad de aplicantes  \\\n",
       "0                                                NaN                    NaN   \n",
       "1  Marketing y publicidad,Servicios y tecnologías...                    NaN   \n",
       "2                               Artículos de consumo                    NaN   \n",
       "3                                                NaN                    NaN   \n",
       "4                               Aeronáutica/Aviación        174 solicitudes   \n",
       "\n",
       "       Fecha de publicacion       Fecha de expiracion    Ciudad Pais  \n",
       "0  2021-07-12T18:58:44.000Z  2021-08-11T18:58:44.000Z  Medellín   CO  \n",
       "1  2021-07-07T10:27:59.000Z  2021-08-06T10:27:59.000Z  Medellín   CO  \n",
       "2  2021-07-12T22:35:42.000Z  2021-08-11T22:35:41.000Z  Medellín   CO  \n",
       "3  2021-07-08T19:56:46.000Z  2021-08-07T19:56:46.000Z  Medellín   CO  \n",
       "4  2021-07-06T22:47:27.000Z  2021-08-05T22:47:26.000Z  Medellín   CO  "
      ]
     },
     "execution_count": 19,
     "metadata": {},
     "output_type": "execute_result"
    }
   ],
   "source": [
    "path = 'agregado_vacantes_scraping_20210712.xlsx'\n",
    "df = pandas.read_excel(path)\n",
    "df = df.drop_duplicates()\n",
    "df = df[['Cargo','Descripcion','Educacion requerida','Experiencia requerida (meses)','Tipo de empleo','Empresa','Sector',\n",
    "         'Cantidad de aplicantes','Fecha de publicacion','Fecha de expiracion','Ciudad','Pais']]\n",
    "print(\"SHAPE:\\n{shape}\\n\".format(shape=df.shape))\n",
    "print(\"COLUMN NAMES:\\n{names}\\n\".format(names=df.columns.tolist()))\n",
    "df.head()"
   ]
  },
  {
   "cell_type": "code",
   "execution_count": 10,
   "metadata": {},
   "outputs": [],
   "source": [
    "# define quick look function for data frame\n",
    "#def dataframe_quick_look(df, nrows):\n",
    "#    print(\"SHAPE:\\n{shape}\\n\".format(shape=df.shape))\n",
    "#    print(\"COLUMN NAMES:\\n{names}\\n\".format(names=df.columns))\n",
    "#    print(\"HEAD:\\n{head}\\n\".format(head=df.head(nrows)))  \n",
    "#dataframe_quick_look(df, nrows=2)"
   ]
  },
  {
   "cell_type": "code",
   "execution_count": 20,
   "metadata": {},
   "outputs": [
    {
     "name": "stdout",
     "output_type": "stream",
     "text": [
      "TOPICS:\n",
      "Lead DevOps Engineer                                53\n",
      "Middle DevOps Engineer                              43\n",
      "Senior DevOps Engineer                              36\n",
      "Senior Automation Tester                            35\n",
      "Senior JavaScript Developer                         28\n",
      "                                                    ..\n",
      "Junior Project Manager Trainee (Remote Position)     1\n",
      "Data Architect                                       1\n",
      "Account Executive                                    1\n",
      "Vendedor                                             1\n",
      "Consultor Comercial                                  1\n",
      "Name: Cargo, Length: 743, dtype: int64\n",
      "\n"
     ]
    }
   ],
   "source": [
    "# data set came with prespecified topics\n",
    "# print the topics out with counts\n",
    "\n",
    "print(\"TOPICS:\\n{topics}\\n\".format(topics=df[\"Cargo\"].value_counts()))"
   ]
  },
  {
   "cell_type": "code",
   "execution_count": 12,
   "metadata": {
    "scrolled": false
   },
   "outputs": [
    {
     "name": "stdout",
     "output_type": "stream",
     "text": [
      "HEADLINES:\n",
      "[\"&lt;p&gt;&lt;strong&gt;Position Overview&lt;/strong&gt;&lt;/p&gt;&lt;p&gt;We are looking for a Senior DevOps to join our rapidly growing development team. The applicant will have a mix of deep technical skills together with excellent client-facing consulting and communication skills. You will be responsible for delivering high quality solutions. This position is for an individual who is pro-active, ambitious and eager to succeed and become part of a rapidly growing company.&lt;/p&gt;&lt;p&gt;&amp;nbsp;&lt;/p&gt;&lt;p&gt;&lt;strong&gt;Who you are&lt;/strong&gt;&lt;/p&gt;&lt;ul&gt;&lt;li&gt;You like building modern and reliable production systems&lt;/li&gt;&lt;li&gt;Years of experience taught you that anyone could write code, but&amp;nbsp;writing&amp;nbsp;code that others understand is an art you value&lt;/li&gt;&lt;li&gt;You’re curious: you know that making mistakes is how one gains experience&lt;/li&gt;&lt;li&gt;You like to challenge and be challenged, opened to change and enjoy exploring unchartered territories&lt;/li&gt;&lt;li&gt;You get things done: you focus on things that matter and like to see tangible progress&lt;/li&gt;&lt;li&gt;You are a team player: you know it’s not only about what you do but a lot about with whom and how you do it&lt;/li&gt;&lt;li&gt;You'll work in English with the client’s development team&lt;/li&gt;&lt;li&gt;We work remotely these days, but at least one day a week at the office is the target.&lt;/li&gt;&lt;/ul&gt;&lt;p&gt;&amp;nbsp;&lt;/p&gt;&lt;p&gt;&lt;strong&gt;Requirements&lt;/strong&gt;&lt;/p&gt;&lt;ul&gt;&lt;li&gt;6+ years of experience in software development&lt;/li&gt;&lt;li&gt;3+ years of experience delivering solutions with C# and SQL&lt;/li&gt;&lt;li&gt;1+ year of experience working in Azure environments&lt;/li&gt;&lt;li&gt;Experience in developing and deploying microservices in Azure is a must&lt;/li&gt;&lt;li&gt;Methodical/Rigorous: you will work on many projects, and will require a certain sense of rigor to be organized&lt;/li&gt;&lt;li&gt;Attention to Detail&lt;/li&gt;&lt;li&gt;Team player – but able to work alone&lt;/li&gt;&lt;li&gt;Excellent Communication Skills - Both oral and written&lt;/li&gt;&lt;li&gt;English mandatory&lt;/li&gt;&lt;li&gt;University degree in computer science, information systems, or other technology-related field.&lt;/li&gt;&lt;/ul&gt;&lt;p&gt;&amp;nbsp;&lt;/p&gt;&lt;p&gt;&lt;strong&gt;Nice to have&lt;/strong&gt;&lt;/p&gt;&lt;ul&gt;&lt;li&gt;Practical knowledge in any other JavaScript libraries is a plus&lt;/li&gt;&lt;li&gt;Microsoft Azure certifications.&lt;/li&gt;&lt;/ul&gt;&lt;p&gt;&lt;strong&gt;&amp;nbsp;&lt;/strong&gt;&lt;/p&gt;&lt;p&gt;&lt;strong&gt;What we offer&lt;/strong&gt;&lt;/p&gt;&lt;ul&gt;&lt;li&gt;Competitive Salary based on experience&lt;/li&gt;&lt;li&gt;Flexible working&lt;/li&gt;&lt;li&gt;Work remotely: at least one day a week at the office is the target&lt;/li&gt;&lt;li&gt;Exciting and challenging projects with international clients&lt;/li&gt;&lt;li&gt;Certifications, training and mentoring&lt;/li&gt;&lt;li&gt;Huge amount of learning&lt;/li&gt;&lt;li&gt;Entrepreneurial environment.&lt;/li&gt;&lt;/ul&gt;\", 'Importante empresa esta solicitando Asesor Comercial experiencia en Belleza, experiencia en ventas en el sector retail Horarios: Domingo a domingo turnos rotativos, día compensatorio entre semana. Salario Mínimo legal vigente + auxilio de transporte + prestaciones de ley. Disponibilidad para viajar: Si&lt;br&gt;Disponibilidad para cambio de residencia: Si']\n",
      "\n",
      "LENGTH:\n",
      "2613\n",
      "\n"
     ]
    }
   ],
   "source": [
    "# view final data that will be carried forward\n",
    "\n",
    "raw = df['Descripcion'].tolist()\n",
    "print(\"HEADLINES:\\n{lines}\\n\".format(lines=raw[:2]))\n",
    "print(\"LENGTH:\\n{length}\\n\".format(length=len(raw)))"
   ]
  },
  {
   "cell_type": "code",
   "execution_count": 61,
   "metadata": {},
   "outputs": [],
   "source": [
    "# check language of headline, filter to spanish only\n",
    "def do_language_identif(txt):\n",
    "    lg = 'none'\n",
    "    try: lg = langdetect.detect(txt)\n",
    "    except: pass\n",
    "    if lg != 'es': return ''\n",
    "    return txt\n",
    "\n",
    "def do_clean_html(txt):\n",
    "    cleantxt = unescape(str(txt))\n",
    "    cleanr = regex.compile('<.*?>|&([a-z0-9]+|#[0-9]{1,6}|#x[0-9a-f]{1,6});')\n",
    "    return regex.sub(cleanr, ' ', cleantxt)\n",
    "\n",
    "def do_clean_stopwords(txt):\n",
    "    out = [t for t in txt.split(\" \") if t.lower() not in stopwords]\n",
    "    return \" \".join(out)\n",
    "\n",
    "# define function to cleaning data\n",
    "def do_clean_text(txt):\n",
    "    txt = txt.lower()\n",
    "    \n",
    "    # Remove text in square brackets, remove punctuation and remove words containing numbers.\n",
    "    txt = txt.replace(\"ñ\", \"nh\")\n",
    "    txt = regex.sub(r\"\\[.*?¿\\]\\%\", \" \", txt)\n",
    "    txt = regex.sub(r\"https://\", \"\", txt)\n",
    "    txt = regex.sub(r\"www.\", \"\", txt)\n",
    "    txt = regex.sub(r\"[‘’“”…«»]\", \"\", txt)\n",
    "    txt = regex.sub(r'[\"\\[\\]\\{\\}]', \"\", txt)\n",
    "    txt = regex.sub(r\"_\", \" \", txt)\n",
    "    txt = regex.sub(r\"[%s]\" % regex.escape(string.punctuation), \" \", txt)\n",
    "    txt = regex.sub(r\"\\w*\\d\\w*\", \"\", txt)\n",
    "    txt = regex.sub(\n",
    "        r\"([^n\\u0300-\\u036f]|n(?!\\u0303(?![\\u0300-\\u036f])))[\\u0300-\\u036f]+\", r\"\\1\", \n",
    "        normalize(\"NFD\", txt), 0, regex.I\n",
    "    )\n",
    "    txt = regex.sub(r\"\\n\", \" \", txt)\n",
    "    txt = regex.sub(r\"&lt;/?.*?&gt;\", \" &lt;&gt; \", txt)\n",
    "\n",
    "    # Eliminar caracteres que se repitan más de dos veces seguidas\n",
    "    pattern = regex.compile(r\"(.)\\1{2,}\")\n",
    "    txt = pattern.sub(r\"\\1\\1\", txt)\n",
    "    \n",
    "    return txt.strip()\n",
    "\n",
    "# define function to perform lemmatization\n",
    "def do_lemmatizing(txt):\n",
    "    out = [word.lemma_ for word in nlp(txt)]\n",
    "    return out\n",
    "\n",
    "# define cleaning words short than 3 characters\n",
    "def do_clean_short_words(tokens):\n",
    "    tokens = [i for i in tokens if len(str(i)) >= 3]\n",
    "    return tokens\n",
    "\n",
    "# define function to execute pipeline pre-processing\n",
    "def do_prepare_pipeline(element, pipeline):\n",
    "    inout_data = element if not isinstance(element, Number) else str(element)\n",
    "    for transform in pipeline:\n",
    "        inout_data = transform(inout_data)\n",
    "    return inout_data if inout_data and len(inout_data) > 0 else None\n",
    "\n",
    "# define pipeline to text pre-processing\n",
    "pipeline = [\n",
    "    do_clean_html, \n",
    "    do_language_identif,\n",
    "    do_clean_text,\n",
    "    do_clean_stopwords,\n",
    "    do_lemmatizing,\n",
    "    do_clean_short_words\n",
    "]\n",
    "\n",
    "#r = do_prepare_pipeline(raw[0], pipeline)\n",
    "#print(len(r), r) if r else print(\"Void\")"
   ]
  },
  {
   "cell_type": "code",
   "execution_count": 62,
   "metadata": {},
   "outputs": [
    {
     "name": "stdout",
     "output_type": "stream",
     "text": [
      "Elapsed time 630.854981 seconds.\n"
     ]
    }
   ],
   "source": [
    "# apply cleaning function to every vacancy\n",
    "#clean = list(map(do_text_cleaning, raw))\n",
    "tictoc.tic()\n",
    "clean = Parallel(n_jobs=24)(delayed(do_prepare_pipeline)(txt, pipeline) for txt in raw)\n",
    "tictoc.toc('Elapsed time')"
   ]
  },
  {
   "cell_type": "code",
   "execution_count": 66,
   "metadata": {},
   "outputs": [
    {
     "name": "stdout",
     "output_type": "stream",
     "text": [
      "HEADLINES:\n",
      "[['importante', 'empresa', 'solicitar', 'asesor', 'comercial', 'experiencia', 'belleza', 'experiencia', 'venta', 'sector', 'retail', 'horario', 'domingo', 'domingo', 'turno', 'rotativo', 'dia', 'compensatorio', 'semana', 'salario', 'minimo', 'legal', 'vigente', 'auxilio', 'transporte', 'prestación', 'ley', 'disponibilidad', 'viajar', 'disponibilidad', 'cambio', 'residencia'], ['position', 'ejecutivo', 'venta', 'canal', 'moderno', 'business', 'unit', 'writing', 'location', 'medellin', 'reports', 'sales', 'manager', 'ejecutivo', 'venta', 'estaras', 'cargo', 'canal', 'moderno', 'superficie', 'supermercados', 'independiente', 'region', 'medellin', 'antioquia', 'relacion', 'comercial', 'principal', 'cliente', 'identificar', 'oportunidad', 'desarrollar', 'ejecucion', 'plan', 'comercial', 'garantizar', 'crecimiento', 'terminos', 'sell', 'sell', 'out', 'distribucion', 'rentabilidad', 'responsibilities', 'definicion', 'ejecucion', 'seguimiento', 'plan', 'comercial', 'regional', 'desarrollar', 'cliente', 'canal', 'moderno', 'lograr', 'objetivo', 'asignado', 'identificacion', 'oportunidad', 'zonas', 'cliente', 'canal', 'moderno', 'permitir', 'crecimiento', 'acelerado', 'canal', 'desarrollo', 'ejecucion', 'plan', 'comercial', 'cliente', 'garantizar', 'crecimiento', 'terminos', 'sell', 'distribucion', 'rentabilidad', 'realizacion', 'periodica', 'cliente', 'revision', 'plan', 'negocios', 'identificacion', 'oportunidad', 'realizacion', 'evaluacion', 'plan', 'accion', 'lograr', 'objetivo', 'propuesto', 'sell', 'out', 'distribucion', 'elaborar', 'ejecutar', 'conjunto', 'trade', 'marketing', 'plan', 'zonas', 'clientes', 'garantizar', 'crecimiento', 'participacion', 'mercado', 'crecer', 'sell', 'out', 'mantener', 'inventario', 'sano', 'clientes', 'garantizar', 'correcto', 'distribucion', 'rentabilidad', 'marcas', 'seguimiento', 'diario', 'semanal', 'sell', 'out', 'clientes', 'cumplimiento', 'objetivos', 'ingreso', 'pedido', 'venta', 'ealizar', 'planeacion', 'mensual', 'semanal', 'diario', 'ingreso', 'pedido', 'negociación', 'clientes', 'canal', 'ejecucion', 'punto', 'venta', 'oordinar', 'seguimiento', 'fuerza', 'venta', 'externo', 'garantizar', 'foto', 'exito', 'punto', 'venta', 'rentabilidad', 'desarrollar', 'plan', 'accion', 'permitir', 'mejorar', 'mix', 'venta', 'skus', 'margen', 'uscar', 'eficiencia', 'gasto', 'costos', 'operacional', 'clientes', 'asignado', 'ejorar', 'negociación', 'terminos', 'descuentos', 'rebates', 'clientes', 'disminuir', 'gross', 'net', 'rebatir', 'controlar', 'correcto', 'ejecucion', 'presupuesto', 'inversion', 'cargo', 'correcto', 'implementacion', 'actividad', 'comerciales', 'trade', 'marketing', 'garantizar', 'recaudo', 'cartera', 'clientes', 'plazos', 'establecido', 'politica', 'companhia', 'requirements', 'formacion', 'universitaria', 'deseable', 'especializacion', 'anhos', 'experiencia', 'area', 'comercial', 'companhias', 'consumo', 'masivo', 'canal', 'moderno', 'medell', 'deseable', 'experiencia', 'trade', 'marketing', 'marketing', 'deseable', 'ingles', 'intermedio', 'newell', 'brands', 'nasdaq', 'nwl', 'leading', 'global', 'consumer', 'goods', 'company', 'with', 'strong', 'portfolio', 'well', 'known', 'brands', 'including', 'paper', 'mate', 'sharpie', 'dymo', 'expo', 'parker', 'elmers', 'coleman', 'marmot', 'oster', 'sunbeam', 'foodsaver', 'coffee', 'graco', 'baby', 'jogger', 'nuk', 'calphalon', 'rubbermair', 'contigo', 'first', 'alert', 'and', 'yankee', 'candle', 'for', 'hundreds', 'millions', 'consumers', 'newell', 'brands', 'makes', 'life', 'better', 'every', 'day', 'where', 'they', 'live', 'learn', 'work', 'and', 'play']]\n",
      "\n",
      "LENGTH:\n",
      "1440\n",
      "\n"
     ]
    }
   ],
   "source": [
    "# remove none types\n",
    "clean = list(filter(None.__ne__, clean))\n",
    "print(\"HEADLINES:\\n{lines}\\n\".format(lines=clean[:2]))\n",
    "print(\"LENGTH:\\n{length}\\n\".format(length=len(clean)))"
   ]
  },
  {
   "cell_type": "code",
   "execution_count": 67,
   "metadata": {},
   "outputs": [
    {
     "data": {
      "text/plain": [
       "['importante empresa solicitar asesor comercial experiencia belleza experiencia venta sector retail horario domingo domingo turno rotativo dia compensatorio semana salario minimo legal vigente auxilio transporte prestación ley disponibilidad viajar disponibilidad cambio residencia',\n",
       " 'position ejecutivo venta canal moderno business unit writing location medellin reports sales manager ejecutivo venta estaras cargo canal moderno superficie supermercados independiente region medellin antioquia relacion comercial principal cliente identificar oportunidad desarrollar ejecucion plan comercial garantizar crecimiento terminos sell sell out distribucion rentabilidad responsibilities definicion ejecucion seguimiento plan comercial regional desarrollar cliente canal moderno lograr objetivo asignado identificacion oportunidad zonas cliente canal moderno permitir crecimiento acelerado canal desarrollo ejecucion plan comercial cliente garantizar crecimiento terminos sell distribucion rentabilidad realizacion periodica cliente revision plan negocios identificacion oportunidad realizacion evaluacion plan accion lograr objetivo propuesto sell out distribucion elaborar ejecutar conjunto trade marketing plan zonas clientes garantizar crecimiento participacion mercado crecer sell out mantener inventario sano clientes garantizar correcto distribucion rentabilidad marcas seguimiento diario semanal sell out clientes cumplimiento objetivos ingreso pedido venta ealizar planeacion mensual semanal diario ingreso pedido negociación clientes canal ejecucion punto venta oordinar seguimiento fuerza venta externo garantizar foto exito punto venta rentabilidad desarrollar plan accion permitir mejorar mix venta skus margen uscar eficiencia gasto costos operacional clientes asignado ejorar negociación terminos descuentos rebates clientes disminuir gross net rebatir controlar correcto ejecucion presupuesto inversion cargo correcto implementacion actividad comerciales trade marketing garantizar recaudo cartera clientes plazos establecido politica companhia requirements formacion universitaria deseable especializacion anhos experiencia area comercial companhias consumo masivo canal moderno medell deseable experiencia trade marketing marketing deseable ingles intermedio newell brands nasdaq nwl leading global consumer goods company with strong portfolio well known brands including paper mate sharpie dymo expo parker elmers coleman marmot oster sunbeam foodsaver coffee graco baby jogger nuk calphalon rubbermair contigo first alert and yankee candle for hundreds millions consumers newell brands makes life better every day where they live learn work and play']"
      ]
     },
     "execution_count": 67,
     "metadata": {},
     "output_type": "execute_result"
    }
   ],
   "source": [
    "# turn tokens back into strings\n",
    "# concatenate using whitespaces\n",
    "clean_sentences = [\" \".join(i) for i in clean]\n",
    "clean_sentences[:2]"
   ]
  },
  {
   "cell_type": "code",
   "execution_count": 68,
   "metadata": {},
   "outputs": [],
   "source": [
    "# save to backup data cleaned\n",
    "pandas.DataFrame(data=clean_sentences, columns=[\"data\"]).to_csv(\"clean_vacancies_20210712.csv\")"
   ]
  },
  {
   "cell_type": "markdown",
   "metadata": {},
   "source": [
    "### Count Vectorizer"
   ]
  },
  {
   "cell_type": "code",
   "execution_count": 69,
   "metadata": {},
   "outputs": [],
   "source": [
    "# define some global variables\n",
    "number_words = 10\n",
    "number_docs = 10\n",
    "\n",
    "# load data cleaned\n",
    "clean_sentences = pandas.read_csv(\"clean_vacancies_20210712.csv\").data.tolist()"
   ]
  },
  {
   "cell_type": "code",
   "execution_count": 120,
   "metadata": {},
   "outputs": [
    {
     "data": {
      "text/plain": [
       "['solicitar asesor comercial experiencia belleza experiencia venta retail horario domingo domingo turno rotativo dia compensatorio semana salario minimo legal vigente auxilio transporte prestación ley disponibilidad viajar disponibilidad cambio residencia',\n",
       " 'position ejecutivo venta canal moderno business unit writing location medellin reports sales manager ejecutivo venta estaras cargo canal moderno superficie supermercados independiente region medellin antioquia relacion comercial principal identificar desarrollar ejecucion plan comercial garantizar crecimiento terminos sell sell out distribucion rentabilidad responsibilities definicion ejecucion plan comercial regional desarrollar canal moderno lograr objetivo identificacion zonas canal moderno permitir crecimiento acelerado canal desarrollo ejecucion plan comercial garantizar crecimiento terminos sell distribucion rentabilidad realizacion periodica revision plan negocios identificacion realizacion evaluacion plan accion lograr objetivo propuesto sell out distribucion elaborar ejecutar conjunto trade marketing plan zonas garantizar crecimiento participacion mercado crecer sell out mantener inventario sano garantizar correcto distribucion rentabilidad marcas diario semanal sell out cumplimiento objetivos ingreso pedido venta ealizar planeacion mensual semanal diario ingreso pedido negociación canal ejecucion punto venta oordinar fuerza venta externo garantizar foto exito punto venta rentabilidad desarrollar plan accion permitir mejorar mix venta skus margen uscar eficiencia gasto costos operacional ejorar negociación terminos descuentos rebates disminuir gross net rebatir controlar correcto ejecucion presupuesto inversion cargo correcto implementacion actividad comerciales trade marketing garantizar recaudo cartera plazos establecido politica companhia requirements formacion universitaria deseable especializacion experiencia area comercial companhias consumo masivo canal moderno medell deseable experiencia trade marketing marketing deseable ingles intermedio newell brands nasdaq nwl leading global consumer goods company with strong portfolio well known brands including paper mate sharpie dymo expo parker elmers coleman marmot oster sunbeam foodsaver coffee graco baby jogger nuk calphalon rubbermair contigo first alert and yankee candle for hundreds millions consumers newell brands makes life better every day where they live learn work and play']"
      ]
     },
     "execution_count": 120,
     "metadata": {},
     "output_type": "execute_result"
    }
   ],
   "source": [
    "# Clean data with anothers stopwords\n",
    "other_stopwords = ['aa', 'about', 'adicional', 'afín', 'anhos', 'asignado', 'capacidad', 'client', 'cliente', 'clientes', \n",
    "                   'competencias', 'conocimiento', 'conocimientos', 'contact', 'debera', 'description', 'empresa', 'equipo', \n",
    "                   'espacio', 'excelente', 'habilidad', 'importante', 'ma', 'manejo', 'nivel', 'offer', 'oportunidad', 'os', \n",
    "                   'our', 'perfil', 'persona', 'quote', 'ref', 'responsabilidad', 'sector', 'seguimiento', 'siguiente', \n",
    "                   'solicitud', 'successful', 'the', 'what']\n",
    "\n",
    "other_mappings =  dict({'applicant':'solicitante','gestia³n':'gestion','job':'trabajo',\n",
    "                        'comunicacia³n':'comunicacion','informacia³n':'informacion'})\n",
    "\n",
    "def do_clean_others_stopwords(txt):\n",
    "    out = [t for t in txt.split(\" \") if t not in other_stopwords]\n",
    "    return \" \".join(out)\n",
    "\n",
    "def do_clean_others_mappings(txt):\n",
    "    out = [other_mappings.get(t,t) for t in txt.split(\" \")]\n",
    "    return \" \".join(out)\n",
    "\n",
    "#do_clean_others_mappings(\"applicant comunicacia³n gestia³n informacia³n job experiencia venta retail\")\n",
    "\n",
    "clean_sentences = list(map(do_clean_others_stopwords, clean_sentences))\n",
    "clean_sentences = list(map(do_clean_others_mappings, clean_sentences))\n",
    "clean_sentences[:2]"
   ]
  },
  {
   "cell_type": "code",
   "execution_count": 152,
   "metadata": {},
   "outputs": [
    {
     "name": "stdout",
     "output_type": "stream",
     "text": [
      "  (0, 9)\t2\n",
      "  (0, 28)\t1\n"
     ]
    }
   ],
   "source": [
    "# execute bag of words model\n",
    "# use raw term counts for lda \n",
    "# as it is a probabilistic graphical model\n",
    "\n",
    "vectorizer1 = sklearn.feature_extraction.text.CountVectorizer(\n",
    "    analyzer=\"word\",\n",
    "    max_df=0.5, \n",
    "    min_df=0.1, \n",
    "    max_features=1000\n",
    ")\n",
    "clean_vec1 = vectorizer1.fit_transform(clean_sentences)\n",
    "print(clean_vec1[0])\n",
    "\n",
    "feature_names_vec1 = vectorizer1.get_feature_names()"
   ]
  },
  {
   "cell_type": "code",
   "execution_count": 151,
   "metadata": {},
   "outputs": [
    {
     "data": {
      "text/plain": [
       "(29,\n",
       " ['aa',\n",
       "  'administrativo',\n",
       "  'cargo',\n",
       "  'carrera',\n",
       "  'comunicacion',\n",
       "  'cumplimiento',\n",
       "  'cumplir',\n",
       "  'desarrollo',\n",
       "  'estrategia',\n",
       "  'experiencia',\n",
       "  'gestion',\n",
       "  'industrial',\n",
       "  'informacion',\n",
       "  'liderazgo',\n",
       "  'ma',\n",
       "  'negocio',\n",
       "  'os',\n",
       "  'personal',\n",
       "  'proceso',\n",
       "  'producto',\n",
       "  'profesional',\n",
       "  'reporta',\n",
       "  'requerimiento',\n",
       "  'resultado',\n",
       "  'servicio',\n",
       "  'sistema',\n",
       "  'solicitante',\n",
       "  'trabajo',\n",
       "  'venta'])"
      ]
     },
     "execution_count": 151,
     "metadata": {},
     "output_type": "execute_result"
    }
   ],
   "source": [
    "len(feature_names_vec1), feature_names_vec1"
   ]
  },
  {
   "cell_type": "markdown",
   "metadata": {},
   "source": [
    "### Select Number of Topics"
   ]
  },
  {
   "cell_type": "code",
   "execution_count": 125,
   "metadata": {},
   "outputs": [],
   "source": [
    "# define function to calculate perplexity for LDA model trained on ntopics\n",
    "\n",
    "def perplexity_by_ntopic(data, ntopics):\n",
    "    output_dict = {\n",
    "        \"Number Of Topics\": [], \n",
    "        \"Perplexity Score\": []\n",
    "    }\n",
    "    \n",
    "    for t in ntopics:\n",
    "        lda = sklearn.decomposition.LatentDirichletAllocation(\n",
    "            n_components=t,\n",
    "            learning_method=\"online\",\n",
    "            random_state=0,\n",
    "            n_jobs=-1\n",
    "        )\n",
    "        lda.fit(data)\n",
    "        \n",
    "        output_dict[\"Number Of Topics\"].append(t)\n",
    "        output_dict[\"Perplexity Score\"].append(lda.perplexity(data))\n",
    "        \n",
    "    output_df = pandas.DataFrame(output_dict)\n",
    "    \n",
    "    index_min_perplexity = output_df[\"Perplexity Score\"].idxmin()\n",
    "    output_num_topics = output_df.loc[\n",
    "        index_min_perplexity,  # index\n",
    "        \"Number Of Topics\"  # column\n",
    "    ]\n",
    "        \n",
    "    return (output_df, output_num_topics)"
   ]
  },
  {
   "cell_type": "code",
   "execution_count": 126,
   "metadata": {},
   "outputs": [
    {
     "name": "stdout",
     "output_type": "stream",
     "text": [
      "    Number Of Topics  Perplexity Score\n",
      "0                  1         25.558875\n",
      "1                  2         24.483241\n",
      "2                  3         24.203606\n",
      "3                  4         23.943639\n",
      "4                  6         24.251250\n",
      "5                  8         24.119842\n",
      "6                 10         23.787718\n",
      "7                 11         23.749652\n",
      "8                 12         24.344091\n",
      "9                 13         24.491307\n",
      "10                14         24.503529\n",
      "11                15         24.535145\n",
      "Elapsed time 18.236666 seconds.\n"
     ]
    }
   ],
   "source": [
    "# find perplexity scores for several different numbers of topics\n",
    "# takes several minutes\n",
    "\n",
    "tictoc.tic()\n",
    "df_perplexity, optimal_num_topics = perplexity_by_ntopic(\n",
    "    clean_vec1, \n",
    "    ntopics=[1, 2, 3, 4, 6, 8, 10, 11, 12, 13, 14, 15]\n",
    ")\n",
    "print(df_perplexity)\n",
    "tictoc.toc('Elapsed time')"
   ]
  },
  {
   "cell_type": "code",
   "execution_count": 127,
   "metadata": {},
   "outputs": [
    {
     "data": {
      "text/plain": [
       "<AxesSubplot:xlabel='Number Of Topics'>"
      ]
     },
     "execution_count": 127,
     "metadata": {},
     "output_type": "execute_result"
    },
    {
     "data": {
      "image/png": "[encoded data removed]",
      "text/plain": [
       "<Figure size 432x288 with 1 Axes>"
      ]
     },
     "metadata": {
      "needs_background": "light"
     },
     "output_type": "display_data"
    }
   ],
   "source": [
    "df_perplexity.plot.line(\"Number Of Topics\", \"Perplexity Score\")"
   ]
  },
  {
   "cell_type": "code",
   "execution_count": 138,
   "metadata": {},
   "outputs": [],
   "source": [
    "optimal_num_topics = 4"
   ]
  },
  {
   "cell_type": "code",
   "execution_count": 139,
   "metadata": {},
   "outputs": [
    {
     "data": {
      "text/plain": [
       "LatentDirichletAllocation(learning_method='online', n_components=4, n_jobs=-1,\n",
       "                          random_state=0)"
      ]
     },
     "execution_count": 139,
     "metadata": {},
     "output_type": "execute_result"
    }
   ],
   "source": [
    "# define and fit LDA model\n",
    "\n",
    "lda = sklearn.decomposition.LatentDirichletAllocation(\n",
    "    n_components=optimal_num_topics,\n",
    "    learning_method=\"online\",\n",
    "    random_state=0,\n",
    "    n_jobs=-1\n",
    ")\n",
    "lda.fit(clean_vec1)"
   ]
  },
  {
   "cell_type": "code",
   "execution_count": 140,
   "metadata": {},
   "outputs": [
    {
     "name": "stdout",
     "output_type": "stream",
     "text": [
      "(1440, 4)\n",
      "[[0.07051811 0.80366798 0.06266961 0.0631443 ]\n",
      " [0.01888004 0.85662523 0.0179009  0.10659384]\n",
      " [0.89146737 0.03688621 0.0358741  0.03577232]\n",
      " ...\n",
      " [0.25       0.25       0.25       0.25      ]\n",
      " [0.36182394 0.08787356 0.08359285 0.46670964]\n",
      " [0.74193181 0.08820274 0.08342806 0.08643739]]\n"
     ]
    }
   ],
   "source": [
    "# output matrix\n",
    "# h: docs to topics\n",
    "\n",
    "lda_transform = lda.transform(clean_vec1)\n",
    "print(lda_transform.shape)\n",
    "print(lda_transform)"
   ]
  },
  {
   "cell_type": "code",
   "execution_count": 141,
   "metadata": {},
   "outputs": [
    {
     "name": "stdout",
     "output_type": "stream",
     "text": [
      "(4, 29)\n",
      "[[3.64677447e+00 1.96849698e+02 9.67258205e+01 1.32202693e+02\n",
      "  8.55103924e+00 3.33028947e+01 1.06821629e+01 1.78091750e+02\n",
      "  3.97166661e+01 6.86352607e+02 3.34904586e+02 1.00261972e+02\n",
      "  2.69214322e-01 6.88236391e+01 1.33133709e+00 7.77682139e+01\n",
      "  1.01857152e+00 8.21145413e-01 2.98093378e+02 2.66391828e-01\n",
      "  4.19042958e+02 2.50514229e-01 1.29948505e+01 2.82731109e-01\n",
      "  1.32827279e+00 1.70170040e+02 4.23021698e+01 2.49450038e+01\n",
      "  2.59913518e-01]\n",
      " [2.09381969e+02 3.72264540e+00 9.36788531e+01 7.65501818e+01\n",
      "  6.99126824e+00 9.95602377e-01 2.76140833e+02 1.20091141e+02\n",
      "  1.66827109e+02 4.77965128e+02 3.33576748e+00 1.12606211e+02\n",
      "  3.21225232e-01 1.23863195e+01 8.57485002e+01 6.55994764e+01\n",
      "  2.22389057e+02 1.39119919e+01 4.78726467e+01 3.27652904e+02\n",
      "  3.22723025e+02 2.50413127e-01 1.96533756e+02 8.72683254e+00\n",
      "  2.78168411e+01 2.68954989e+01 1.42578883e+02 3.31654130e+02\n",
      "  3.39844129e+02]\n",
      " [2.06298976e+02 2.62428691e-01 1.71857385e+00 2.98672010e+00\n",
      "  4.19877949e-01 2.07747921e+00 7.41597770e-01 9.51530915e+00\n",
      "  1.33675629e+00 1.22179294e+01 1.98789444e+01 5.20961952e-01\n",
      "  3.56872660e+02 3.43670479e+00 3.32240466e+02 5.04858800e+01\n",
      "  1.56268789e+02 1.88882629e+00 3.71748201e+00 7.65016326e-01\n",
      "  2.06210231e+00 2.52162421e+02 3.80005852e-01 3.09893359e+00\n",
      "  8.00831704e-01 1.23341026e+01 2.63794060e-01 2.56654268e-01\n",
      "  3.23465412e-01]\n",
      " [9.91233688e-01 5.47486066e+01 5.73704904e+01 4.79026266e-01\n",
      "  2.61826970e+02 2.36392025e+02 3.19779473e-01 1.66280689e+00\n",
      "  1.19618351e+01 5.23065967e+01 6.27274363e-01 2.55231115e-01\n",
      "  2.99369457e-01 1.26967739e+02 3.24425039e+00 1.88260148e+01\n",
      "  1.60962103e+00 2.72847052e+02 2.68226512e+01 5.79431767e-01\n",
      "  2.69877689e+00 2.54341999e-01 3.64210721e-01 1.47619623e+02\n",
      "  5.18230564e+02 8.36288558e-01 2.58647347e-01 2.62248958e-01\n",
      "  4.02713778e+00]]\n"
     ]
    }
   ],
   "source": [
    "# output matrix\n",
    "# w: words to topics\n",
    "\n",
    "lda_components = lda.components_\n",
    "print(lda_components.shape)\n",
    "print(lda_components)"
   ]
  },
  {
   "cell_type": "code",
   "execution_count": 142,
   "metadata": {},
   "outputs": [],
   "source": [
    "# define function to reformat output matrices into easily readable tables\n",
    "\n",
    "def get_topics(mod, vec, names, docs, ndocs, nwords):\n",
    "    # word to topic matrix\n",
    "    W = mod.components_\n",
    "    W_norm = W / W.sum(axis=1)[:, numpy.newaxis]\n",
    "    # topic to document matrix\n",
    "    H = mod.transform(vec)\n",
    "    \n",
    "    W_dict = {}\n",
    "    H_dict = {}\n",
    "    \n",
    "    for tpc_idx, tpc_val in enumerate(W_norm):\n",
    "        topic = \"Topic{}\".format(tpc_idx)\n",
    "        \n",
    "        # formatting w\n",
    "        W_indices = tpc_val.argsort()[::-1][:nwords]\n",
    "        W_names_values = [\n",
    "            (round(tpc_val[j], 4), names[j]) \n",
    "            for j in W_indices\n",
    "        ]\n",
    "        W_dict[topic] = W_names_values\n",
    "        \n",
    "        # formatting h\n",
    "        H_indices = H[:, tpc_idx].argsort()[::-1][:ndocs]\n",
    "        H_names_values = [\n",
    "            (round(H[:, tpc_idx][j], 4), docs[j]) \n",
    "            for j in H_indices\n",
    "        ]\n",
    "        H_dict[topic] = H_names_values\n",
    "        \n",
    "    W_df = pandas.DataFrame(\n",
    "        W_dict, \n",
    "        index=[\"Word\" + str(i) for i in range(nwords)]\n",
    "    )\n",
    "    H_df = pandas.DataFrame(\n",
    "        H_dict,\n",
    "        index=[\"Doc\" + str(i) for i in range(ndocs)]\n",
    "    )\n",
    "        \n",
    "    return (W_df, H_df)"
   ]
  },
  {
   "cell_type": "code",
   "execution_count": 143,
   "metadata": {},
   "outputs": [],
   "source": [
    "# run function\n",
    "\n",
    "W_df, H_df = get_topics(\n",
    "    mod=lda,\n",
    "    vec=clean_vec1,\n",
    "    names=feature_names_vec1,\n",
    "    docs=raw,\n",
    "    ndocs=number_docs, \n",
    "    nwords=number_words\n",
    ")"
   ]
  },
  {
   "cell_type": "code",
   "execution_count": 144,
   "metadata": {},
   "outputs": [
    {
     "name": "stdout",
     "output_type": "stream",
     "text": [
      "                         Topic0                   Topic1  \\\n",
      "Word0     (0.2334, experiencia)    (0.1284, experiencia)   \n",
      "Word1     (0.1425, profesional)          (0.0913, venta)   \n",
      "Word2         (0.1139, gestion)        (0.0891, trabajo)   \n",
      "Word3         (0.1013, proceso)       (0.0881, producto)   \n",
      "Word4  (0.0669, administrativo)    (0.0867, profesional)   \n",
      "Word5      (0.0605, desarrollo)        (0.0742, cumplir)   \n",
      "Word6         (0.0579, sistema)             (0.0598, os)   \n",
      "Word7         (0.0449, carrera)             (0.0563, aa)   \n",
      "Word8      (0.0341, industrial)  (0.0528, requerimiento)   \n",
      "Word9           (0.0329, cargo)     (0.0448, estrategia)   \n",
      "\n",
      "                      Topic2                    Topic3  \n",
      "Word0  (0.2486, informacion)        (0.2872, servicio)  \n",
      "Word1           (0.2315, ma)        (0.1512, personal)  \n",
      "Word2      (0.1757, reporta)    (0.1451, comunicacion)  \n",
      "Word3           (0.1437, aa)     (0.131, cumplimiento)  \n",
      "Word4           (0.1089, os)       (0.0818, resultado)  \n",
      "Word5      (0.0352, negocio)       (0.0704, liderazgo)  \n",
      "Word6      (0.0138, gestion)           (0.0318, cargo)  \n",
      "Word7      (0.0086, sistema)  (0.0303, administrativo)  \n",
      "Word8  (0.0085, experiencia)      (0.029, experiencia)  \n",
      "Word9   (0.0066, desarrollo)         (0.0149, proceso)  \n"
     ]
    }
   ],
   "source": [
    "# word-topic table\n",
    "print(W_df)"
   ]
  },
  {
   "cell_type": "code",
   "execution_count": 145,
   "metadata": {},
   "outputs": [
    {
     "name": "stdout",
     "output_type": "stream",
     "text": [
      "                                                 Topic0  \\\n",
      "Doc0  (0.944, persona con buena presentación persona...   \n",
      "Doc1  (0.944, CompromisoAlta capacidad de interpreta...   \n",
      "Doc2  (0.944, CompromisoLiderazgoBuen manejo de pers...   \n",
      "Doc3  (0.9309, TECNOLOGO EN QUIMICA APLIACA A LA IND...   \n",
      "Doc4  (0.9158, &lt;p&gt;&lt;strong&gt;Acerca de nues...   \n",
      "Doc5  (0.9158, Persona con Experiencia en Contabilid...   \n",
      "Doc6  (0.9158, &lt;strong&gt;&lt;u&gt;About Astound ...   \n",
      "Doc7  (0.9158, &lt;p&gt;&lt;strong&gt;PERFIL&lt;/str...   \n",
      "Doc8  (0.9158, At Johnson &amp;amp; Johnson, the lar...   \n",
      "Doc9  (0.9158, &lt;strong&gt;Perfil&lt;br&gt;&lt;br&...   \n",
      "\n",
      "                                                 Topic1  \\\n",
      "Doc0  (0.9766, We are currently looking for a &lt;st...   \n",
      "Doc1  (0.9766, &lt;strong&gt;&lt;u&gt;About Alert Lo...   \n",
      "Doc2  (0.9766, Currently we are looking for a &lt;st...   \n",
      "Doc3  (0.9766, Análisis y diseño de base de datos re...   \n",
      "Doc4  (0.9766, Currently, we are looking for a &lt;s...   \n",
      "Doc5  (0.9766, As a remote &lt;strong&gt;Lead&lt;/st...   \n",
      "Doc6  (0.9766, As aâ€¯&lt;strong&gt;remote Senior Ja...   \n",
      "Doc7  (0.9649, We are looking for remote Senior Fron...   \n",
      "Doc8  (0.9649, We are looking for a &lt;strong&gt;re...   \n",
      "Doc9  (0.9649, We are currently looking for a &lt;st...   \n",
      "\n",
      "                                                 Topic2  \\\n",
      "Doc0  (0.75, We are currently looking for a &lt;stro...   \n",
      "Doc1  (0.75, En el espacio asignado de Habilidades y...   \n",
      "Doc2  (0.75, We are currently looking for a &lt;stro...   \n",
      "Doc3  (0.75, We are looking for remote Senior &lt;st...   \n",
      "Doc4  (0.75, CompromisoAlta capacidad de interpretac...   \n",
      "Doc5  (0.75, En el espacio asignado de Habilidades y...   \n",
      "Doc6  (0.75, We are currently looking for a &lt;stro...   \n",
      "Doc7  (0.75, Persona joven dinÃ¡mica honesta leal re...   \n",
      "Doc8  (0.75, We are looking for a &lt;strong&gt;remo...   \n",
      "Doc9  (0.75, Striving for excellence is in our DNA. ...   \n",
      "\n",
      "                                                 Topic3  \n",
      "Doc0  (0.8927, Aprendiz SENA (Etapa productiva – Bog...  \n",
      "Doc1  (0.8927, Profesional en mercado comunicación o...  \n",
      "Doc2  (0.8927, &lt;strong&gt;Sales Representative (C...  \n",
      "Doc3  (0.8927, trabajo bajo presiónexcelentes relaci...  \n",
      "Doc4  (0.8927, Firma de Abogados requiere Auxiliar d...  \n",
      "Doc5  (0.8927, Empresa dedicada a la administración ...  \n",
      "Doc6  (0.8927, EDUCACIÓNFormación Técnica tecnológic...  \n",
      "Doc7  (0.8927, Persona autónoma ética comprometida c...  \n",
      "Doc8  (0.8927, &lt;strong&gt;Sales Representative (C...  \n",
      "Doc9  (0.8927, &lt;strong&gt;Introduction&lt;br&gt;&...  \n"
     ]
    }
   ],
   "source": [
    "# document-topic table\n",
    "print(H_df)"
   ]
  },
  {
   "cell_type": "markdown",
   "metadata": {},
   "source": [
    "### Visualizing LDA"
   ]
  },
  {
   "cell_type": "code",
   "execution_count": 146,
   "metadata": {},
   "outputs": [
    {
     "data": {
      "text/html": [
       "\n",
       "<link rel=\"stylesheet\" type=\"text/css\" href=\"https://cdn.jsdelivr.net/gh/bmabey/pyLDAvis@3.3.1/pyLDAvis/js/ldavis.v1.0.0.css\">\n",
       "\n",
       "\n",
       "<div id=\"ldavis_el2721631405752158610887961391479\"></div>\n",
       "<script type=\"text/javascript\">\n",
       "\n",
       "var ldavis_el2721631405752158610887961391479_data = {\"mdsDat\": {\"x\": [0.05806416041040225, -0.09906649066592729, -0.28916080629061514, 0.3301631365461401], \"y\": [0.17603862090630717, 0.20666669410845892, -0.22057502888159025, -0.16213028613317576], \"topics\": [1, 2, 3, 4], \"cluster\": [1, 1, 1, 1], \"Freq\": [39.333162580672656, 29.55293176429367, 18.380144233570086, 12.73376142146359]}, \"tinfo\": {\"Term\": [\"servicio\", \"informacion\", \"ma\", \"reporta\", \"aa\", \"personal\", \"comunicacion\", \"cumplimiento\", \"os\", \"gestion\", \"producto\", \"venta\", \"cumplir\", \"requerimiento\", \"trabajo\", \"solicitante\", \"estrategia\", \"os\", \"aa\", \"industrial\", \"profesional\", \"experiencia\", \"gestion\", \"sistema\", \"proceso\", \"administrativo\", \"carrera\", \"desarrollo\", \"profesional\", \"experiencia\", \"industrial\", \"cargo\", \"servicio\", \"comunicacion\", \"personal\", \"resultado\", \"cumplimiento\", \"liderazgo\", \"cargo\", \"administrativo\", \"negocio\", \"proceso\", \"experiencia\", \"informacion\", \"reporta\", \"ma\", \"aa\", \"os\", \"negocio\", \"sistema\", \"gestion\", \"desarrollo\", \"resultado\", \"experiencia\"], \"Freq\": [590.0, 335.0, 411.0, 236.0, 431.0, 311.0, 298.0, 292.0, 397.0, 378.0, 365.48260268459705, 379.0813853657253, 308.02312178940133, 219.22488055516482, 369.94579645144887, 159.04055922041488, 186.08840366869936, 248.06534697020948, 233.55650429495446, 125.60734380678359, 359.9835360456574, 533.1493685546604, 355.11141177229075, 180.43743049504238, 316.0791594040754, 208.72683481903766, 140.1792839724688, 188.83710620868627, 444.3263623028662, 727.7644238685931, 106.31138505657806, 102.56187605216589, 556.9873117759422, 281.4081418178324, 293.2523792794318, 158.6596055407474, 254.07100135035287, 136.46323613318717, 61.661039374007174, 58.84307353756746, 20.23395011270603, 28.828628451367983, 56.218433829937915, 334.11274782309914, 236.08050914438854, 311.05149698029675, 193.14205137308446, 146.30259046298676, 47.26609232969647, 11.54748279920715, 18.61114477279596, 8.90846074849888, 2.901295991666344, 11.438718638870663], \"Total\": [590.0, 335.0, 411.0, 236.0, 431.0, 311.0, 298.0, 292.0, 397.0, 378.0, 367.1040597393921, 383.98813120083395, 320.3878006794485, 233.7510086363878, 396.91803119800454, 204.42003656198708, 242.3093416160987, 397.17796481424284, 431.6307269375076, 232.68078494857426, 809.1410974892786, 1328.5709448920622, 378.11764661580804, 222.88450754921433, 401.7880446579274, 271.968049865319, 228.8787815447177, 333.4891883240712, 809.1410974892786, 1328.5709448920622, 232.68078494857426, 270.3265828675935, 590.1739649272715, 298.66667341581535, 311.4096574592035, 171.5950946954221, 292.4387989050721, 226.4733505380795, 270.3265828675935, 271.968049865319, 223.1338550172262, 401.7880446579274, 1328.5709448920622, 335.07827659912607, 236.8988267926895, 411.5987715116254, 431.6307269375076, 397.17796481424284, 223.1338550172262, 222.88450754921433, 378.11764661580804, 333.4891883240712, 171.5950946954221, 1328.5709448920622], \"Category\": [\"Default\", \"Default\", \"Default\", \"Default\", \"Default\", \"Default\", \"Default\", \"Default\", \"Default\", \"Default\", \"Topic1\", \"Topic1\", \"Topic1\", \"Topic1\", \"Topic1\", \"Topic1\", \"Topic1\", \"Topic1\", \"Topic1\", \"Topic1\", \"Topic1\", \"Topic1\", \"Topic2\", \"Topic2\", \"Topic2\", \"Topic2\", \"Topic2\", \"Topic2\", \"Topic2\", \"Topic2\", \"Topic2\", \"Topic2\", \"Topic3\", \"Topic3\", \"Topic3\", \"Topic3\", \"Topic3\", \"Topic3\", \"Topic3\", \"Topic3\", \"Topic3\", \"Topic3\", \"Topic3\", \"Topic4\", \"Topic4\", \"Topic4\", \"Topic4\", \"Topic4\", \"Topic4\", \"Topic4\", \"Topic4\", \"Topic4\", \"Topic4\", \"Topic4\"], \"logprob\": [10.0, 9.0, 8.0, 7.0, 6.0, 5.0, 4.0, 3.0, 2.0, 1.0, -2.4298, -2.3933, -2.6009, -2.941, -2.4177, -3.2619, -3.1048, -2.8174, -2.8776, -3.4979, -2.445, -2.0523, -2.1727, -2.8498, -2.2892, -2.7042, -3.1023, -2.8043, -1.9486, -1.4552, -3.3788, -3.4147, -1.2477, -1.9305, -1.8892, -2.5035, -2.0327, -2.6542, -3.4486, -3.4954, -4.5629, -4.2089, -3.541, -1.3918, -1.7391, -1.4633, -1.9398, -2.2176, -3.3475, -4.7568, -4.2795, -5.0163, -6.1381, -4.7662], \"loglift\": [10.0, 9.0, 8.0, 7.0, 6.0, 5.0, 4.0, 3.0, 2.0, 1.0, 0.9287, 0.9202, 0.8937, 0.8689, 0.8627, 0.6821, 0.6691, 0.4624, 0.319, 0.3166, 0.1232, 0.02, 1.1562, 1.0077, 0.9791, 0.9543, 0.7287, 0.6503, 0.6196, 0.6171, 0.4357, 0.2498, 1.636, 1.6344, 1.6338, 1.6155, 1.5533, 1.1873, 0.2159, 0.1631, -0.7065, -0.9407, -1.4687, 2.058, 2.0575, 1.7808, 1.2568, 1.0622, 0.5089, -0.8993, -0.9505, -1.5617, -2.0191, -2.6939]}, \"token.table\": {\"Topic\": [1, 2, 3, 4, 1, 2, 3, 1, 2, 3, 4, 1, 2, 3, 4, 1, 2, 3, 1, 2, 3, 4, 1, 2, 4, 1, 2, 3, 4, 1, 2, 3, 4, 1, 2, 3, 4, 1, 2, 3, 4, 1, 2, 4, 1, 2, 3, 4, 1, 2, 3, 4, 1, 2, 3, 4, 1, 2, 3, 4, 1, 2, 3, 4, 1, 2, 3, 4, 1, 3, 4, 1, 2, 3, 4, 4, 1, 2, 1, 3, 4, 1, 2, 3, 4, 1, 2, 3, 4, 1, 2, 1, 2, 1, 3], \"Freq\": [0.542130078783476, 0.009267180833905573, 0.0023167952084763932, 0.4471414752359439, 0.014707609963673436, 0.7684726206019371, 0.21693724696418318, 0.3847198410780763, 0.38102061183694097, 0.22935221295039163, 0.007398458482270698, 0.37137562261704427, 0.6116774960751318, 0.004369124971965227, 0.01310737491589568, 0.026785713680421548, 0.03013392789047424, 0.9408481930248068, 0.0034195189001737345, 0.11968316150608072, 0.8685578006441286, 0.006839037800347469, 0.9613349801297751, 0.034333392147491974, 0.0031212174679538154, 0.40181212672413313, 0.5667350145586654, 0.005997195921255718, 0.026987381645650732, 0.7676138227253655, 0.1733321535186309, 0.05365042847005243, 0.004126956036157879, 0.40118294175348146, 0.5479571887364625, 0.04215055297972788, 0.008279572906732263, 0.010578718120670677, 0.9388612332095225, 0.0026446795301676694, 0.050248911073185715, 0.5415144186824355, 0.45555974905030294, 0.996782015802188, 0.061817427819817694, 0.3223337307747637, 0.6005121559639433, 0.01324659167567522, 0.23323684773750236, 0.0024295504972656496, 0.007288651491796949, 0.755590204649617, 0.3271578846444629, 0.3674924183677528, 0.08963229716286654, 0.21063589833273638, 0.6244052338502407, 0.002517763039718713, 0.005035526079437426, 0.3675934037989321, 0.051379267202386274, 0.003211204200149142, 0.9408828306436987, 0.006422408400298284, 0.13191034602615645, 0.7864843272502913, 0.07217735914638748, 0.007466623359971119, 0.9942684923155419, 0.002724023266617923, 0.002724023266617923, 0.4449162218024281, 0.5487300068896613, 0.0037076351816869007, 0.0024717567877912674, 0.9962058622034626, 0.936894353002199, 0.05989278968963829, 0.05827672415548826, 0.9265999140722634, 0.017483017246646478, 0.052526885024181305, 0.0016944156459413324, 0.9437895147893222, 0.0016944156459413324, 0.13459885718335898, 0.807593143100154, 0.004486628572778633, 0.053839542873343596, 0.7778102512558049, 0.22013497677051083, 0.9321823926296351, 0.06550470867127166, 0.9870096734885145, 0.010416988638401209], \"Term\": [\"aa\", \"aa\", \"aa\", \"aa\", \"administrativo\", \"administrativo\", \"administrativo\", \"cargo\", \"cargo\", \"cargo\", \"cargo\", \"carrera\", \"carrera\", \"carrera\", \"carrera\", \"comunicacion\", \"comunicacion\", \"comunicacion\", \"cumplimiento\", \"cumplimiento\", \"cumplimiento\", \"cumplimiento\", \"cumplir\", \"cumplir\", \"cumplir\", \"desarrollo\", \"desarrollo\", \"desarrollo\", \"desarrollo\", \"estrategia\", \"estrategia\", \"estrategia\", \"estrategia\", \"experiencia\", \"experiencia\", \"experiencia\", \"experiencia\", \"gestion\", \"gestion\", \"gestion\", \"gestion\", \"industrial\", \"industrial\", \"informacion\", \"liderazgo\", \"liderazgo\", \"liderazgo\", \"liderazgo\", \"ma\", \"ma\", \"ma\", \"ma\", \"negocio\", \"negocio\", \"negocio\", \"negocio\", \"os\", \"os\", \"os\", \"os\", \"personal\", \"personal\", \"personal\", \"personal\", \"proceso\", \"proceso\", \"proceso\", \"proceso\", \"producto\", \"producto\", \"producto\", \"profesional\", \"profesional\", \"profesional\", \"profesional\", \"reporta\", \"requerimiento\", \"requerimiento\", \"resultado\", \"resultado\", \"resultado\", \"servicio\", \"servicio\", \"servicio\", \"servicio\", \"sistema\", \"sistema\", \"sistema\", \"sistema\", \"solicitante\", \"solicitante\", \"trabajo\", \"trabajo\", \"venta\", \"venta\"]}, \"R\": 10, \"lambda.step\": 0.01, \"plot.opts\": {\"xlab\": \"PC1\", \"ylab\": \"PC2\"}, \"topic.order\": [2, 1, 4, 3]};\n",
       "\n",
       "function LDAvis_load_lib(url, callback){\n",
       "  var s = document.createElement('script');\n",
       "  s.src = url;\n",
       "  s.async = true;\n",
       "  s.onreadystatechange = s.onload = callback;\n",
       "  s.onerror = function(){console.warn(\"failed to load library \" + url);};\n",
       "  document.getElementsByTagName(\"head\")[0].appendChild(s);\n",
       "}\n",
       "\n",
       "if(typeof(LDAvis) !== \"undefined\"){\n",
       "   // already loaded: just create the visualization\n",
       "   !function(LDAvis){\n",
       "       new LDAvis(\"#\" + \"ldavis_el2721631405752158610887961391479\", ldavis_el2721631405752158610887961391479_data);\n",
       "   }(LDAvis);\n",
       "}else if(typeof define === \"function\" && define.amd){\n",
       "   // require.js is available: use it to load d3/LDAvis\n",
       "   require.config({paths: {d3: \"https://d3js.org/d3.v5\"}});\n",
       "   require([\"d3\"], function(d3){\n",
       "      window.d3 = d3;\n",
       "      LDAvis_load_lib(\"https://cdn.jsdelivr.net/gh/bmabey/pyLDAvis@3.3.1/pyLDAvis/js/ldavis.v3.0.0.js\", function(){\n",
       "        new LDAvis(\"#\" + \"ldavis_el2721631405752158610887961391479\", ldavis_el2721631405752158610887961391479_data);\n",
       "      });\n",
       "    });\n",
       "}else{\n",
       "    // require.js not available: dynamically load d3 & LDAvis\n",
       "    LDAvis_load_lib(\"https://d3js.org/d3.v5.js\", function(){\n",
       "         LDAvis_load_lib(\"https://cdn.jsdelivr.net/gh/bmabey/pyLDAvis@3.3.1/pyLDAvis/js/ldavis.v3.0.0.js\", function(){\n",
       "                 new LDAvis(\"#\" + \"ldavis_el2721631405752158610887961391479\", ldavis_el2721631405752158610887961391479_data);\n",
       "            })\n",
       "         });\n",
       "}\n",
       "</script>"
      ],
      "text/plain": [
       "<IPython.core.display.HTML object>"
      ]
     },
     "execution_count": 146,
     "metadata": {},
     "output_type": "execute_result"
    }
   ],
   "source": [
    "# iterative visualization\n",
    "# featuring pca biplot and histogram\n",
    "lda_plot = pyLDAvis.sklearn.prepare(lda, clean_vec1, vectorizer1, R=10)\n",
    "pyLDAvis.enable_notebook()\n",
    "pyLDAvis.display(lda_plot)"
   ]
  },
  {
   "cell_type": "code",
   "execution_count": 147,
   "metadata": {},
   "outputs": [],
   "source": [
    "# define functiont to fit and plot t-SNE model\n",
    "\n",
    "def plot_tsne(data, threshold):\n",
    "    # filter data according to threshold\n",
    "    index_meet_threshold = numpy.amax(data, axis=1) >= threshold\n",
    "    lda_transform_filt = data[index_meet_threshold]\n",
    "    \n",
    "    # fit tsne model\n",
    "    # x-d -> 2-d, x = number of topics\n",
    "    tsne = sklearn.manifold.TSNE(\n",
    "        n_components=2, \n",
    "        verbose=0, \n",
    "        random_state=0, \n",
    "        angle=0.5, \n",
    "        init='pca'\n",
    "    )\n",
    "    tsne_fit = tsne.fit_transform(lda_transform_filt)\n",
    "    \n",
    "    # most probable topic for each headline\n",
    "    most_prob_topic = []\n",
    "    for i in range(tsne_fit.shape[0]):\n",
    "        most_prob_topic.append(lda_transform_filt[i].argmax())\n",
    "    \n",
    "    print(\"LENGTH:\\n{}\\n\".format(len(most_prob_topic)))\n",
    "\n",
    "    unique, counts = numpy.unique(\n",
    "        numpy.array(most_prob_topic), \n",
    "        return_counts=True\n",
    "    )\n",
    "\n",
    "    print(\"COUNTS:\\n{}\\n\".format(numpy.asarray((unique, counts)).T))\n",
    "    \n",
    "    # make plot\n",
    "    matplotlib.pyplot.figure(figsize=(10,6))\n",
    "    #color_list = ['b', 'g', 'r', 'c', 'm', 'y', 'k', 'b', 'g', 'r']\n",
    "    color_list = ['#1f77b4', '#ff7f0e', '#2ca02c', '#d62728', '#9467bd', '#8c564b', '#e377c2', '#7f7f7f', '#bcbd22', '#17becf']\n",
    "\n",
    "    for i in list(set(most_prob_topic)):\n",
    "        indices = [idx for idx, val in enumerate(most_prob_topic) if val == i]\n",
    "        matplotlib.pyplot.scatter(\n",
    "            x=tsne_fit[indices, 0], \n",
    "            y=tsne_fit[indices, 1], \n",
    "            s=0.5, \n",
    "            c=color_list[i], \n",
    "            label='Topic' + str(i),\n",
    "            alpha=1\n",
    "        )\n",
    "    \n",
    "    \n",
    "    matplotlib.pyplot.xlabel('x-tsne')\n",
    "    matplotlib.pyplot.ylabel('y-tsne')\n",
    "    matplotlib.pyplot.legend(markerscale=10)"
   ]
  },
  {
   "cell_type": "code",
   "execution_count": 148,
   "metadata": {},
   "outputs": [
    {
     "name": "stdout",
     "output_type": "stream",
     "text": [
      "LENGTH:\n",
      "1440\n",
      "\n",
      "COUNTS:\n",
      "[[  0 561]\n",
      " [  1 300]\n",
      " [  2 294]\n",
      " [  3 285]]\n",
      "\n"
     ]
    },
    {
     "data": {
      "image/png": "[encoded data removed]",
      "text/plain": [
       "<Figure size 720x432 with 1 Axes>"
      ]
     },
     "metadata": {
      "needs_background": "light"
     },
     "output_type": "display_data"
    }
   ],
   "source": [
    "plot_tsne(data=lda_transform, threshold=0)"
   ]
  },
  {
   "cell_type": "code",
   "execution_count": null,
   "metadata": {},
   "outputs": [],
   "source": []
  },
  {
   "cell_type": "code",
   "execution_count": null,
   "metadata": {},
   "outputs": [],
   "source": []
  },
  {
   "cell_type": "code",
   "execution_count": null,
   "metadata": {},
   "outputs": [],
   "source": []
  },
  {
   "cell_type": "code",
   "execution_count": null,
   "metadata": {},
   "outputs": [],
   "source": []
  },
  {
   "cell_type": "code",
   "execution_count": null,
   "metadata": {},
   "outputs": [],
   "source": []
  },
  {
   "cell_type": "code",
   "execution_count": null,
   "metadata": {},
   "outputs": [],
   "source": []
  },
  {
   "cell_type": "code",
   "execution_count": null,
   "metadata": {},
   "outputs": [],
   "source": [
    "# define and fit nmf model\n",
    "\n",
    "nmf = sklearn.decomposition.NMF(\n",
    "    n_components=optimal_num_topics,\n",
    "    init=\"nndsvda\",\n",
    "    solver=\"mu\",\n",
    "    beta_loss=\"frobenius\",\n",
    "    random_state=0, \n",
    "    alpha=0.1, \n",
    "    l1_ratio=0.5\n",
    ")\n",
    "nmf.fit(clean_vec1)"
   ]
  },
  {
   "cell_type": "code",
   "execution_count": null,
   "metadata": {},
   "outputs": [],
   "source": [
    "# run function to produce nice output tables\n",
    "\n",
    "W_df, H_df = get_topics(\n",
    "    mod=nmf,\n",
    "    vec=clean_vec1,\n",
    "    names=feature_names_vec1,\n",
    "    docs=raw,\n",
    "    ndocs=number_docs, \n",
    "    nwords=number_words\n",
    ")"
   ]
  },
  {
   "cell_type": "code",
   "execution_count": null,
   "metadata": {},
   "outputs": [],
   "source": [
    "# word-topic table\n",
    "print(W_df)"
   ]
  },
  {
   "cell_type": "code",
   "execution_count": null,
   "metadata": {},
   "outputs": [],
   "source": [
    "# document-topic table\n",
    "print(H_df)"
   ]
  },
  {
   "cell_type": "code",
   "execution_count": null,
   "metadata": {},
   "outputs": [],
   "source": [
    "# output raw document-topic matrix for t-SNE plot\n",
    "nmf_transform = nmf.transform(clean_vec1)\n",
    "print(nmf_transform.shape)\n",
    "print(nmf_transform)"
   ]
  },
  {
   "cell_type": "code",
   "execution_count": null,
   "metadata": {},
   "outputs": [],
   "source": [
    "# run function to produce t-SNE plot\n",
    "plot_tsne(data=nmf_transform, threshold=0)"
   ]
  },
  {
   "cell_type": "code",
   "execution_count": null,
   "metadata": {},
   "outputs": [],
   "source": []
  }
 ],
 "metadata": {
  "kernelspec": {
   "display_name": "Python 3",
   "language": "python",
   "name": "python3"
  },
  "language_info": {
   "codemirror_mode": {
    "name": "ipython",
    "version": 3
   },
   "file_extension": ".py",
   "mimetype": "text/x-python",
   "name": "python",
   "nbconvert_exporter": "python",
   "pygments_lexer": "ipython3",
   "version": "3.8.5"
  }
 },
 "nbformat": 4,
 "nbformat_minor": 4
}
